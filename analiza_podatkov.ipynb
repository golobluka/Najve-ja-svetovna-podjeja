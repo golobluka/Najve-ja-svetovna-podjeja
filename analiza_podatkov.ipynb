{
 "cells": [
  {
   "cell_type": "code",
   "execution_count": 88,
   "metadata": {},
   "outputs": [],
   "source": [
    "#Knižnice\n",
    "import pandas as pd\n",
    "import matplotlib.pyplot as plt\n",
    "# Uporabljal sem predvsem knižnjico plotly, ki omogoča širok nabor grafičnih možnosti ter je interaktivna.\n",
    "import plotly.express as px\n",
    "import plotly.graph_objects as go\n",
    "import pycountry_convert as pc #To je knižnjica za pretvorbo držav v kontinente\n",
    "\n",
    "#Nalaganje podatkov\n",
    "podjetja1 = pd.read_csv(\"urejeni_podatki/lestvica_podjetij.csv\")\n",
    "podjetja2 = pd.read_csv(\"urejeni_podatki/lestvica_podjetij_2.csv\")"
   ]
  },
  {
   "cell_type": "code",
   "execution_count": 96,
   "metadata": {
    "scrolled": true
   },
   "outputs": [],
   "source": [
    "#Groba obdelava razpredelnic\n",
    "podjetja = pd.merge(podjetja1, podjetja2, left_on = \"ime\", right_on=\"ime\", how='inner')\n",
    "podjetja['Donosnost na prodajo'] = podjetja.profit_B/podjetja.prodaja_B\n",
    "podjetja['Donosnost na premozensko vrednost'] = podjetja.profit_B/podjetja.premozenska_vrednost_B\n",
    "\n",
    "podjetja_po_drzavi = podjetja.groupby(\"drzava\").agg({'ime' : ['count'], 'premozenska_vrednost_B' : ['sum']})\n",
    "podjetja_po_panogi = podjetja.groupby(\"panoga\").agg({'stevilo_zaposlenih':['mean','median'], \n",
    "                                                     \"profit_B\" : ['mean', 'median'], \n",
    "                                                     'leto_ustanovitve' :['median'], \n",
    "                                                      'Donosnost na prodajo' : ['mean'],\n",
    "                                                       'Donosnost na premozensko vrednost' : ['mean'],\n",
    "                                                       'trzna_cena_B' : ['median']})\n",
    "podjetja_po_letu_ustanovitve = podjetja.groupby(\"leto_ustanovitve\")\n",
    "\n",
    "podjetja_po_panogi.columns = [x[0]+'_'+x[1] for x in podjetja_po_panogi.columns]\n",
    "podjetja_po_drzavi.columns = [x[0]+'_'+x[1] for x in podjetja_po_drzavi.columns]"
   ]
  },
  {
   "source": [
    "Za začetek si oglejmo kakšen vzorec podatkov imamo."
   ],
   "cell_type": "markdown",
   "metadata": {}
  },
  {
   "cell_type": "code",
   "execution_count": 16,
   "metadata": {},
   "outputs": [
    {
     "output_type": "display_data",
     "data": {
      "application/vnd.plotly.v1+json": {
       "config": {
        "plotlyServerURL": "https://plot.ly"
       },
       "data": [
        {
         "alignmentgroup": "True",
         "hovertemplate": "kontinent=Severna amerka<br>panoga=%{x}<br>ime=%{y}<extra></extra>",
         "legendgroup": "Severna amerka",
         "marker": {
          "color": "#636efa"
         },
         "name": "Severna amerka",
         "offsetgroup": "Severna amerka",
         "orientation": "v",
         "showlegend": true,
         "textposition": "auto",
         "type": "bar",
         "x": [
          "Hotels, Restaurants & Leisure",
          "Household &amp; Personal Products",
          "Drugs &amp; Biotechnology",
          "Media",
          "Household & Personal Products",
          "Food Markets",
          "Chemicals",
          "Technology Hardware & Equipment",
          "Aerospace & Defense",
          "Capital Goods",
          "Semiconductors",
          "Transportation",
          "Conglomerates",
          "Materials",
          "Health Care Equipment & Services",
          "IT Software & Services",
          "Retailing",
          "Telecommunications Services",
          "Utilities",
          "Business Services & Supplies",
          "Food, Drink & Tobacco",
          "Consumer Durables",
          "Drugs & Biotechnology",
          "Diversified Financials",
          "Oil & Gas Operations",
          "Insurance",
          "Banking"
         ],
         "xaxis": "x",
         "y": [
          1,
          1,
          1,
          4,
          1,
          3,
          1,
          4,
          5,
          2,
          5,
          6,
          5,
          2,
          6,
          7,
          9,
          3,
          8,
          11,
          8,
          1,
          10,
          15,
          12,
          10,
          10
         ],
         "yaxis": "y"
        },
        {
         "alignmentgroup": "True",
         "hovertemplate": "kontinent=Azija<br>panoga=%{x}<br>ime=%{y}<extra></extra>",
         "legendgroup": "Azija",
         "marker": {
          "color": "#EF553B"
         },
         "name": "Azija",
         "offsetgroup": "Azija",
         "orientation": "v",
         "showlegend": true,
         "textposition": "auto",
         "type": "bar",
         "x": [
          "Drugs &amp; Biotechnology",
          "Trading Companies",
          "Chemicals",
          "Technology Hardware & Equipment",
          "Capital Goods",
          "Semiconductors",
          "Transportation",
          "Materials",
          "Conglomerates",
          "IT Software & Services",
          "Retailing",
          "Telecommunications Services",
          "Business Services & Supplies",
          "Food, Drink & Tobacco",
          "Consumer Durables",
          "Construction",
          "Diversified Financials",
          "Oil & Gas Operations",
          "Insurance",
          "Banking"
         ],
         "xaxis": "x",
         "y": [
          2,
          5,
          1,
          3,
          4,
          2,
          1,
          4,
          2,
          2,
          1,
          5,
          3,
          3,
          10,
          17,
          2,
          8,
          13,
          30
         ],
         "yaxis": "y"
        },
        {
         "alignmentgroup": "True",
         "hovertemplate": "kontinent=Europa<br>panoga=%{x}<br>ime=%{y}<extra></extra>",
         "legendgroup": "Europa",
         "marker": {
          "color": "#00cc96"
         },
         "name": "Europa",
         "offsetgroup": "Europa",
         "orientation": "v",
         "showlegend": true,
         "textposition": "auto",
         "type": "bar",
         "x": [
          "Household & Personal Products",
          "Food Markets",
          "Chemicals",
          "Aerospace & Defense",
          "Capital Goods",
          "Semiconductors",
          "Transportation",
          "Materials",
          "Conglomerates",
          "Health Care Equipment & Services",
          "IT Software & Services",
          "Retailing",
          "Telecommunications Services",
          "Utilities",
          "Food, Drink & Tobacco",
          "Consumer Durables",
          "Drugs & Biotechnology",
          "Diversified Financials",
          "Construction",
          "Oil & Gas Operations",
          "Insurance",
          "Banking"
         ],
         "xaxis": "x",
         "y": [
          4,
          2,
          4,
          2,
          2,
          1,
          1,
          2,
          2,
          4,
          2,
          1,
          4,
          5,
          5,
          7,
          8,
          2,
          3,
          8,
          15,
          19
         ],
         "yaxis": "y"
        },
        {
         "alignmentgroup": "True",
         "hovertemplate": "kontinent=Australija<br>panoga=%{x}<br>ime=%{y}<extra></extra>",
         "legendgroup": "Australija",
         "marker": {
          "color": "#ab63fa"
         },
         "name": "Australija",
         "offsetgroup": "Australija",
         "orientation": "v",
         "showlegend": true,
         "textposition": "auto",
         "type": "bar",
         "x": [
          "Food Markets",
          "Materials",
          "Diversified Financials",
          "Banking"
         ],
         "xaxis": "x",
         "y": [
          1,
          1,
          1,
          2
         ],
         "yaxis": "y"
        },
        {
         "alignmentgroup": "True",
         "hovertemplate": "kontinent=Južna amerika<br>panoga=%{x}<br>ime=%{y}<extra></extra>",
         "legendgroup": "Južna amerika",
         "marker": {
          "color": "#FFA15A"
         },
         "name": "Južna amerika",
         "offsetgroup": "Južna amerika",
         "orientation": "v",
         "showlegend": true,
         "textposition": "auto",
         "type": "bar",
         "x": [
          "Oil & Gas Operations",
          "Banking"
         ],
         "xaxis": "x",
         "y": [
          2,
          2
         ],
         "yaxis": "y"
        }
       ],
       "layout": {
        "barmode": "relative",
        "height": 600,
        "legend": {
         "font": {
          "size": 13
         },
         "title": {
          "font": {
           "size": 15
          },
          "text": "Kontinenti:"
         },
         "tracegroupgap": 0
        },
        "template": {
         "data": {
          "bar": [
           {
            "error_x": {
             "color": "#2a3f5f"
            },
            "error_y": {
             "color": "#2a3f5f"
            },
            "marker": {
             "line": {
              "color": "#E5ECF6",
              "width": 0.5
             }
            },
            "type": "bar"
           }
          ],
          "barpolar": [
           {
            "marker": {
             "line": {
              "color": "#E5ECF6",
              "width": 0.5
             }
            },
            "type": "barpolar"
           }
          ],
          "carpet": [
           {
            "aaxis": {
             "endlinecolor": "#2a3f5f",
             "gridcolor": "white",
             "linecolor": "white",
             "minorgridcolor": "white",
             "startlinecolor": "#2a3f5f"
            },
            "baxis": {
             "endlinecolor": "#2a3f5f",
             "gridcolor": "white",
             "linecolor": "white",
             "minorgridcolor": "white",
             "startlinecolor": "#2a3f5f"
            },
            "type": "carpet"
           }
          ],
          "choropleth": [
           {
            "colorbar": {
             "outlinewidth": 0,
             "ticks": ""
            },
            "type": "choropleth"
           }
          ],
          "contour": [
           {
            "colorbar": {
             "outlinewidth": 0,
             "ticks": ""
            },
            "colorscale": [
             [
              0,
              "#0d0887"
             ],
             [
              0.1111111111111111,
              "#46039f"
             ],
             [
              0.2222222222222222,
              "#7201a8"
             ],
             [
              0.3333333333333333,
              "#9c179e"
             ],
             [
              0.4444444444444444,
              "#bd3786"
             ],
             [
              0.5555555555555556,
              "#d8576b"
             ],
             [
              0.6666666666666666,
              "#ed7953"
             ],
             [
              0.7777777777777778,
              "#fb9f3a"
             ],
             [
              0.8888888888888888,
              "#fdca26"
             ],
             [
              1,
              "#f0f921"
             ]
            ],
            "type": "contour"
           }
          ],
          "contourcarpet": [
           {
            "colorbar": {
             "outlinewidth": 0,
             "ticks": ""
            },
            "type": "contourcarpet"
           }
          ],
          "heatmap": [
           {
            "colorbar": {
             "outlinewidth": 0,
             "ticks": ""
            },
            "colorscale": [
             [
              0,
              "#0d0887"
             ],
             [
              0.1111111111111111,
              "#46039f"
             ],
             [
              0.2222222222222222,
              "#7201a8"
             ],
             [
              0.3333333333333333,
              "#9c179e"
             ],
             [
              0.4444444444444444,
              "#bd3786"
             ],
             [
              0.5555555555555556,
              "#d8576b"
             ],
             [
              0.6666666666666666,
              "#ed7953"
             ],
             [
              0.7777777777777778,
              "#fb9f3a"
             ],
             [
              0.8888888888888888,
              "#fdca26"
             ],
             [
              1,
              "#f0f921"
             ]
            ],
            "type": "heatmap"
           }
          ],
          "heatmapgl": [
           {
            "colorbar": {
             "outlinewidth": 0,
             "ticks": ""
            },
            "colorscale": [
             [
              0,
              "#0d0887"
             ],
             [
              0.1111111111111111,
              "#46039f"
             ],
             [
              0.2222222222222222,
              "#7201a8"
             ],
             [
              0.3333333333333333,
              "#9c179e"
             ],
             [
              0.4444444444444444,
              "#bd3786"
             ],
             [
              0.5555555555555556,
              "#d8576b"
             ],
             [
              0.6666666666666666,
              "#ed7953"
             ],
             [
              0.7777777777777778,
              "#fb9f3a"
             ],
             [
              0.8888888888888888,
              "#fdca26"
             ],
             [
              1,
              "#f0f921"
             ]
            ],
            "type": "heatmapgl"
           }
          ],
          "histogram": [
           {
            "marker": {
             "colorbar": {
              "outlinewidth": 0,
              "ticks": ""
             }
            },
            "type": "histogram"
           }
          ],
          "histogram2d": [
           {
            "colorbar": {
             "outlinewidth": 0,
             "ticks": ""
            },
            "colorscale": [
             [
              0,
              "#0d0887"
             ],
             [
              0.1111111111111111,
              "#46039f"
             ],
             [
              0.2222222222222222,
              "#7201a8"
             ],
             [
              0.3333333333333333,
              "#9c179e"
             ],
             [
              0.4444444444444444,
              "#bd3786"
             ],
             [
              0.5555555555555556,
              "#d8576b"
             ],
             [
              0.6666666666666666,
              "#ed7953"
             ],
             [
              0.7777777777777778,
              "#fb9f3a"
             ],
             [
              0.8888888888888888,
              "#fdca26"
             ],
             [
              1,
              "#f0f921"
             ]
            ],
            "type": "histogram2d"
           }
          ],
          "histogram2dcontour": [
           {
            "colorbar": {
             "outlinewidth": 0,
             "ticks": ""
            },
            "colorscale": [
             [
              0,
              "#0d0887"
             ],
             [
              0.1111111111111111,
              "#46039f"
             ],
             [
              0.2222222222222222,
              "#7201a8"
             ],
             [
              0.3333333333333333,
              "#9c179e"
             ],
             [
              0.4444444444444444,
              "#bd3786"
             ],
             [
              0.5555555555555556,
              "#d8576b"
             ],
             [
              0.6666666666666666,
              "#ed7953"
             ],
             [
              0.7777777777777778,
              "#fb9f3a"
             ],
             [
              0.8888888888888888,
              "#fdca26"
             ],
             [
              1,
              "#f0f921"
             ]
            ],
            "type": "histogram2dcontour"
           }
          ],
          "mesh3d": [
           {
            "colorbar": {
             "outlinewidth": 0,
             "ticks": ""
            },
            "type": "mesh3d"
           }
          ],
          "parcoords": [
           {
            "line": {
             "colorbar": {
              "outlinewidth": 0,
              "ticks": ""
             }
            },
            "type": "parcoords"
           }
          ],
          "pie": [
           {
            "automargin": true,
            "type": "pie"
           }
          ],
          "scatter": [
           {
            "marker": {
             "colorbar": {
              "outlinewidth": 0,
              "ticks": ""
             }
            },
            "type": "scatter"
           }
          ],
          "scatter3d": [
           {
            "line": {
             "colorbar": {
              "outlinewidth": 0,
              "ticks": ""
             }
            },
            "marker": {
             "colorbar": {
              "outlinewidth": 0,
              "ticks": ""
             }
            },
            "type": "scatter3d"
           }
          ],
          "scattercarpet": [
           {
            "marker": {
             "colorbar": {
              "outlinewidth": 0,
              "ticks": ""
             }
            },
            "type": "scattercarpet"
           }
          ],
          "scattergeo": [
           {
            "marker": {
             "colorbar": {
              "outlinewidth": 0,
              "ticks": ""
             }
            },
            "type": "scattergeo"
           }
          ],
          "scattergl": [
           {
            "marker": {
             "colorbar": {
              "outlinewidth": 0,
              "ticks": ""
             }
            },
            "type": "scattergl"
           }
          ],
          "scattermapbox": [
           {
            "marker": {
             "colorbar": {
              "outlinewidth": 0,
              "ticks": ""
             }
            },
            "type": "scattermapbox"
           }
          ],
          "scatterpolar": [
           {
            "marker": {
             "colorbar": {
              "outlinewidth": 0,
              "ticks": ""
             }
            },
            "type": "scatterpolar"
           }
          ],
          "scatterpolargl": [
           {
            "marker": {
             "colorbar": {
              "outlinewidth": 0,
              "ticks": ""
             }
            },
            "type": "scatterpolargl"
           }
          ],
          "scatterternary": [
           {
            "marker": {
             "colorbar": {
              "outlinewidth": 0,
              "ticks": ""
             }
            },
            "type": "scatterternary"
           }
          ],
          "surface": [
           {
            "colorbar": {
             "outlinewidth": 0,
             "ticks": ""
            },
            "colorscale": [
             [
              0,
              "#0d0887"
             ],
             [
              0.1111111111111111,
              "#46039f"
             ],
             [
              0.2222222222222222,
              "#7201a8"
             ],
             [
              0.3333333333333333,
              "#9c179e"
             ],
             [
              0.4444444444444444,
              "#bd3786"
             ],
             [
              0.5555555555555556,
              "#d8576b"
             ],
             [
              0.6666666666666666,
              "#ed7953"
             ],
             [
              0.7777777777777778,
              "#fb9f3a"
             ],
             [
              0.8888888888888888,
              "#fdca26"
             ],
             [
              1,
              "#f0f921"
             ]
            ],
            "type": "surface"
           }
          ],
          "table": [
           {
            "cells": {
             "fill": {
              "color": "#EBF0F8"
             },
             "line": {
              "color": "white"
             }
            },
            "header": {
             "fill": {
              "color": "#C8D4E3"
             },
             "line": {
              "color": "white"
             }
            },
            "type": "table"
           }
          ]
         },
         "layout": {
          "annotationdefaults": {
           "arrowcolor": "#2a3f5f",
           "arrowhead": 0,
           "arrowwidth": 1
          },
          "coloraxis": {
           "colorbar": {
            "outlinewidth": 0,
            "ticks": ""
           }
          },
          "colorscale": {
           "diverging": [
            [
             0,
             "#8e0152"
            ],
            [
             0.1,
             "#c51b7d"
            ],
            [
             0.2,
             "#de77ae"
            ],
            [
             0.3,
             "#f1b6da"
            ],
            [
             0.4,
             "#fde0ef"
            ],
            [
             0.5,
             "#f7f7f7"
            ],
            [
             0.6,
             "#e6f5d0"
            ],
            [
             0.7,
             "#b8e186"
            ],
            [
             0.8,
             "#7fbc41"
            ],
            [
             0.9,
             "#4d9221"
            ],
            [
             1,
             "#276419"
            ]
           ],
           "sequential": [
            [
             0,
             "#0d0887"
            ],
            [
             0.1111111111111111,
             "#46039f"
            ],
            [
             0.2222222222222222,
             "#7201a8"
            ],
            [
             0.3333333333333333,
             "#9c179e"
            ],
            [
             0.4444444444444444,
             "#bd3786"
            ],
            [
             0.5555555555555556,
             "#d8576b"
            ],
            [
             0.6666666666666666,
             "#ed7953"
            ],
            [
             0.7777777777777778,
             "#fb9f3a"
            ],
            [
             0.8888888888888888,
             "#fdca26"
            ],
            [
             1,
             "#f0f921"
            ]
           ],
           "sequentialminus": [
            [
             0,
             "#0d0887"
            ],
            [
             0.1111111111111111,
             "#46039f"
            ],
            [
             0.2222222222222222,
             "#7201a8"
            ],
            [
             0.3333333333333333,
             "#9c179e"
            ],
            [
             0.4444444444444444,
             "#bd3786"
            ],
            [
             0.5555555555555556,
             "#d8576b"
            ],
            [
             0.6666666666666666,
             "#ed7953"
            ],
            [
             0.7777777777777778,
             "#fb9f3a"
            ],
            [
             0.8888888888888888,
             "#fdca26"
            ],
            [
             1,
             "#f0f921"
            ]
           ]
          },
          "colorway": [
           "#636efa",
           "#EF553B",
           "#00cc96",
           "#ab63fa",
           "#FFA15A",
           "#19d3f3",
           "#FF6692",
           "#B6E880",
           "#FF97FF",
           "#FECB52"
          ],
          "font": {
           "color": "#2a3f5f"
          },
          "geo": {
           "bgcolor": "white",
           "lakecolor": "white",
           "landcolor": "#E5ECF6",
           "showlakes": true,
           "showland": true,
           "subunitcolor": "white"
          },
          "hoverlabel": {
           "align": "left"
          },
          "hovermode": "closest",
          "mapbox": {
           "style": "light"
          },
          "paper_bgcolor": "white",
          "plot_bgcolor": "#E5ECF6",
          "polar": {
           "angularaxis": {
            "gridcolor": "white",
            "linecolor": "white",
            "ticks": ""
           },
           "bgcolor": "#E5ECF6",
           "radialaxis": {
            "gridcolor": "white",
            "linecolor": "white",
            "ticks": ""
           }
          },
          "scene": {
           "xaxis": {
            "backgroundcolor": "#E5ECF6",
            "gridcolor": "white",
            "gridwidth": 2,
            "linecolor": "white",
            "showbackground": true,
            "ticks": "",
            "zerolinecolor": "white"
           },
           "yaxis": {
            "backgroundcolor": "#E5ECF6",
            "gridcolor": "white",
            "gridwidth": 2,
            "linecolor": "white",
            "showbackground": true,
            "ticks": "",
            "zerolinecolor": "white"
           },
           "zaxis": {
            "backgroundcolor": "#E5ECF6",
            "gridcolor": "white",
            "gridwidth": 2,
            "linecolor": "white",
            "showbackground": true,
            "ticks": "",
            "zerolinecolor": "white"
           }
          },
          "shapedefaults": {
           "line": {
            "color": "#2a3f5f"
           }
          },
          "ternary": {
           "aaxis": {
            "gridcolor": "white",
            "linecolor": "white",
            "ticks": ""
           },
           "baxis": {
            "gridcolor": "white",
            "linecolor": "white",
            "ticks": ""
           },
           "bgcolor": "#E5ECF6",
           "caxis": {
            "gridcolor": "white",
            "linecolor": "white",
            "ticks": ""
           }
          },
          "title": {
           "x": 0.05
          },
          "xaxis": {
           "automargin": true,
           "gridcolor": "white",
           "linecolor": "white",
           "ticks": "",
           "title": {
            "standoff": 15
           },
           "zerolinecolor": "white",
           "zerolinewidth": 2
          },
          "yaxis": {
           "automargin": true,
           "gridcolor": "white",
           "linecolor": "white",
           "ticks": "",
           "title": {
            "standoff": 15
           },
           "zerolinecolor": "white",
           "zerolinewidth": 2
          }
         }
        },
        "title": {
         "font": {
          "size": 24
         },
         "text": "Pregled podatkov"
        },
        "width": 1300,
        "xaxis": {
         "anchor": "y",
         "domain": [
          0,
          1
         ],
         "tickangle": 45,
         "title": {
          "standoff": 20,
          "text": "Panoga"
         }
        },
        "yaxis": {
         "anchor": "x",
         "domain": [
          0,
          1
         ],
         "title": {
          "text": "Število podjetij"
         }
        }
       }
      }
     },
     "metadata": {}
    }
   ],
   "source": [
    "\n",
    "def drzava_v_kontinent(drzava):\n",
    "    koda_drzave = pc.country_name_to_country_alpha2(drzava, cn_name_format=\"default\")\n",
    "    continent_name = pc.country_alpha2_to_continent_code(koda_drzave)\n",
    "    return continent_name\n",
    "\n",
    "podjetja['kontinent'] = podjetja.drzava.apply(lambda x: drzava_v_kontinent(x))\n",
    "\n",
    "#Pretvorba imen kontinentov\n",
    "kontinent_dict = {'EU':'Europa', 'NA' : 'Severna amerka', 'AS': 'Azija', 'OC' : 'Australija', 'SA' : 'Južna amerika'}\n",
    "podjetja['kontinent'] = podjetja.kontinent.apply(lambda x: kontinent_dict[x])\n",
    "\n",
    "df  = podjetja.groupby([\"panoga\", \"kontinent\"]).agg({'ime':'count'}).reset_index()\n",
    "\n",
    "# Poizkus sortiranja\n",
    "#V razpredelnici zadnja elementa iz meni neznanega razloga ne posortira pravilno.\n",
    "sort = df.groupby([\"panoga\"]).agg({'ime':'sum'})\n",
    "sort.columns= ['ime_sort']\n",
    "sort = sort.reset_index()\n",
    "df= pd.merge(df, sort, on=\"panoga\", how='left').sort_values('ime_sort')\n",
    "\n",
    "#Graf\n",
    "graf1 = px.bar(df, x=\"panoga\", y=\"ime\",\n",
    "             color='kontinent',\n",
    "             height=600,\n",
    "             width = 1300, \n",
    "             title = \"Pregled podatkov\",\n",
    "             )\n",
    "graf1.update_layout(\n",
    "    title_font = {'size': 24},\n",
    "    legend = {\n",
    "        'title_text' : 'Kontinenti:',\n",
    "        'font' : {'size': 13},\n",
    "        'title_font' : {'size': 15}\n",
    "    }\n",
    ")\n",
    "graf1.update_xaxes(\n",
    "        title_text = 'Panoga',\n",
    "        title_standoff = 20,\n",
    "        tickangle = 45\n",
    ")\n",
    "graf1.update_yaxes(\n",
    "    title_text = \"Število podjetij\"\n",
    ")\n",
    "graf1.show()"
   ]
  },
  {
   "cell_type": "code",
   "execution_count": 4,
   "metadata": {},
   "outputs": [
    {
     "output_type": "display_data",
     "data": {
      "application/vnd.plotly.v1+json": {
       "config": {
        "plotlyServerURL": "https://plot.ly"
       },
       "data": [
        {
         "name": "Število podjetij",
         "offsetgroup": "1",
         "type": "bar",
         "x": [
          "United States",
          "China",
          "Japan",
          "United Kingdom",
          "France",
          "Canada",
          "Germany",
          "Switzerland",
          "Hong Kong",
          "India",
          "Netherlands",
          "South Korea",
          "Taiwan",
          "Spain",
          "Australia",
          "Italy",
          "Ireland",
          "Singapore",
          "Russia",
          "Brazil",
          "Belgium",
          "Norway",
          "Saudi Arabia",
          "Denmark",
          "Malaysia",
          "Finland",
          "Sweden",
          "Colombia",
          "Bermuda"
         ],
         "y": [
          133,
          47,
          36,
          22,
          22,
          17,
          17,
          10,
          9,
          8,
          7,
          6,
          5,
          5,
          5,
          5,
          4,
          4,
          3,
          3,
          2,
          2,
          2,
          2,
          1,
          1,
          1,
          1,
          1
         ],
         "yaxis": "y"
        },
        {
         "name": "Vsota tržnih vrednosti",
         "offsetgroup": "2",
         "type": "bar",
         "x": [
          "United States",
          "China",
          "Japan",
          "United Kingdom",
          "France",
          "Canada",
          "Germany",
          "Switzerland",
          "Hong Kong",
          "India",
          "Netherlands",
          "South Korea",
          "Taiwan",
          "Spain",
          "Australia",
          "Italy",
          "Ireland",
          "Singapore",
          "Russia",
          "Brazil",
          "Belgium",
          "Norway",
          "Saudi Arabia",
          "Denmark",
          "Malaysia",
          "Finland",
          "Sweden",
          "Colombia",
          "Bermuda"
         ],
         "y": [
          34932.09999999999,
          30416.59999999999,
          14401.499999999998,
          10542,
          9457.199999999999,
          6240.500000000001,
          3840.6,
          3276.6,
          2202.5,
          1332.7999999999997,
          1853.6000000000001,
          1518.6,
          1015.9,
          2723.3,
          1668.6999999999998,
          2915,
          199,
          1165.1,
          412.91,
          927.5999999999999,
          564.7,
          436,
          533.5,
          608.1999999999999,
          204,
          622.8,
          55.6,
          41.3,
          97
         ],
         "yaxis": "y2"
        }
       ],
       "layout": {
        "barmode": "group",
        "height": 800,
        "legend": {
         "font": {
          "size": 13
         }
        },
        "template": {
         "data": {
          "bar": [
           {
            "error_x": {
             "color": "#2a3f5f"
            },
            "error_y": {
             "color": "#2a3f5f"
            },
            "marker": {
             "line": {
              "color": "#E5ECF6",
              "width": 0.5
             }
            },
            "type": "bar"
           }
          ],
          "barpolar": [
           {
            "marker": {
             "line": {
              "color": "#E5ECF6",
              "width": 0.5
             }
            },
            "type": "barpolar"
           }
          ],
          "carpet": [
           {
            "aaxis": {
             "endlinecolor": "#2a3f5f",
             "gridcolor": "white",
             "linecolor": "white",
             "minorgridcolor": "white",
             "startlinecolor": "#2a3f5f"
            },
            "baxis": {
             "endlinecolor": "#2a3f5f",
             "gridcolor": "white",
             "linecolor": "white",
             "minorgridcolor": "white",
             "startlinecolor": "#2a3f5f"
            },
            "type": "carpet"
           }
          ],
          "choropleth": [
           {
            "colorbar": {
             "outlinewidth": 0,
             "ticks": ""
            },
            "type": "choropleth"
           }
          ],
          "contour": [
           {
            "colorbar": {
             "outlinewidth": 0,
             "ticks": ""
            },
            "colorscale": [
             [
              0,
              "#0d0887"
             ],
             [
              0.1111111111111111,
              "#46039f"
             ],
             [
              0.2222222222222222,
              "#7201a8"
             ],
             [
              0.3333333333333333,
              "#9c179e"
             ],
             [
              0.4444444444444444,
              "#bd3786"
             ],
             [
              0.5555555555555556,
              "#d8576b"
             ],
             [
              0.6666666666666666,
              "#ed7953"
             ],
             [
              0.7777777777777778,
              "#fb9f3a"
             ],
             [
              0.8888888888888888,
              "#fdca26"
             ],
             [
              1,
              "#f0f921"
             ]
            ],
            "type": "contour"
           }
          ],
          "contourcarpet": [
           {
            "colorbar": {
             "outlinewidth": 0,
             "ticks": ""
            },
            "type": "contourcarpet"
           }
          ],
          "heatmap": [
           {
            "colorbar": {
             "outlinewidth": 0,
             "ticks": ""
            },
            "colorscale": [
             [
              0,
              "#0d0887"
             ],
             [
              0.1111111111111111,
              "#46039f"
             ],
             [
              0.2222222222222222,
              "#7201a8"
             ],
             [
              0.3333333333333333,
              "#9c179e"
             ],
             [
              0.4444444444444444,
              "#bd3786"
             ],
             [
              0.5555555555555556,
              "#d8576b"
             ],
             [
              0.6666666666666666,
              "#ed7953"
             ],
             [
              0.7777777777777778,
              "#fb9f3a"
             ],
             [
              0.8888888888888888,
              "#fdca26"
             ],
             [
              1,
              "#f0f921"
             ]
            ],
            "type": "heatmap"
           }
          ],
          "heatmapgl": [
           {
            "colorbar": {
             "outlinewidth": 0,
             "ticks": ""
            },
            "colorscale": [
             [
              0,
              "#0d0887"
             ],
             [
              0.1111111111111111,
              "#46039f"
             ],
             [
              0.2222222222222222,
              "#7201a8"
             ],
             [
              0.3333333333333333,
              "#9c179e"
             ],
             [
              0.4444444444444444,
              "#bd3786"
             ],
             [
              0.5555555555555556,
              "#d8576b"
             ],
             [
              0.6666666666666666,
              "#ed7953"
             ],
             [
              0.7777777777777778,
              "#fb9f3a"
             ],
             [
              0.8888888888888888,
              "#fdca26"
             ],
             [
              1,
              "#f0f921"
             ]
            ],
            "type": "heatmapgl"
           }
          ],
          "histogram": [
           {
            "marker": {
             "colorbar": {
              "outlinewidth": 0,
              "ticks": ""
             }
            },
            "type": "histogram"
           }
          ],
          "histogram2d": [
           {
            "colorbar": {
             "outlinewidth": 0,
             "ticks": ""
            },
            "colorscale": [
             [
              0,
              "#0d0887"
             ],
             [
              0.1111111111111111,
              "#46039f"
             ],
             [
              0.2222222222222222,
              "#7201a8"
             ],
             [
              0.3333333333333333,
              "#9c179e"
             ],
             [
              0.4444444444444444,
              "#bd3786"
             ],
             [
              0.5555555555555556,
              "#d8576b"
             ],
             [
              0.6666666666666666,
              "#ed7953"
             ],
             [
              0.7777777777777778,
              "#fb9f3a"
             ],
             [
              0.8888888888888888,
              "#fdca26"
             ],
             [
              1,
              "#f0f921"
             ]
            ],
            "type": "histogram2d"
           }
          ],
          "histogram2dcontour": [
           {
            "colorbar": {
             "outlinewidth": 0,
             "ticks": ""
            },
            "colorscale": [
             [
              0,
              "#0d0887"
             ],
             [
              0.1111111111111111,
              "#46039f"
             ],
             [
              0.2222222222222222,
              "#7201a8"
             ],
             [
              0.3333333333333333,
              "#9c179e"
             ],
             [
              0.4444444444444444,
              "#bd3786"
             ],
             [
              0.5555555555555556,
              "#d8576b"
             ],
             [
              0.6666666666666666,
              "#ed7953"
             ],
             [
              0.7777777777777778,
              "#fb9f3a"
             ],
             [
              0.8888888888888888,
              "#fdca26"
             ],
             [
              1,
              "#f0f921"
             ]
            ],
            "type": "histogram2dcontour"
           }
          ],
          "mesh3d": [
           {
            "colorbar": {
             "outlinewidth": 0,
             "ticks": ""
            },
            "type": "mesh3d"
           }
          ],
          "parcoords": [
           {
            "line": {
             "colorbar": {
              "outlinewidth": 0,
              "ticks": ""
             }
            },
            "type": "parcoords"
           }
          ],
          "pie": [
           {
            "automargin": true,
            "type": "pie"
           }
          ],
          "scatter": [
           {
            "marker": {
             "colorbar": {
              "outlinewidth": 0,
              "ticks": ""
             }
            },
            "type": "scatter"
           }
          ],
          "scatter3d": [
           {
            "line": {
             "colorbar": {
              "outlinewidth": 0,
              "ticks": ""
             }
            },
            "marker": {
             "colorbar": {
              "outlinewidth": 0,
              "ticks": ""
             }
            },
            "type": "scatter3d"
           }
          ],
          "scattercarpet": [
           {
            "marker": {
             "colorbar": {
              "outlinewidth": 0,
              "ticks": ""
             }
            },
            "type": "scattercarpet"
           }
          ],
          "scattergeo": [
           {
            "marker": {
             "colorbar": {
              "outlinewidth": 0,
              "ticks": ""
             }
            },
            "type": "scattergeo"
           }
          ],
          "scattergl": [
           {
            "marker": {
             "colorbar": {
              "outlinewidth": 0,
              "ticks": ""
             }
            },
            "type": "scattergl"
           }
          ],
          "scattermapbox": [
           {
            "marker": {
             "colorbar": {
              "outlinewidth": 0,
              "ticks": ""
             }
            },
            "type": "scattermapbox"
           }
          ],
          "scatterpolar": [
           {
            "marker": {
             "colorbar": {
              "outlinewidth": 0,
              "ticks": ""
             }
            },
            "type": "scatterpolar"
           }
          ],
          "scatterpolargl": [
           {
            "marker": {
             "colorbar": {
              "outlinewidth": 0,
              "ticks": ""
             }
            },
            "type": "scatterpolargl"
           }
          ],
          "scatterternary": [
           {
            "marker": {
             "colorbar": {
              "outlinewidth": 0,
              "ticks": ""
             }
            },
            "type": "scatterternary"
           }
          ],
          "surface": [
           {
            "colorbar": {
             "outlinewidth": 0,
             "ticks": ""
            },
            "colorscale": [
             [
              0,
              "#0d0887"
             ],
             [
              0.1111111111111111,
              "#46039f"
             ],
             [
              0.2222222222222222,
              "#7201a8"
             ],
             [
              0.3333333333333333,
              "#9c179e"
             ],
             [
              0.4444444444444444,
              "#bd3786"
             ],
             [
              0.5555555555555556,
              "#d8576b"
             ],
             [
              0.6666666666666666,
              "#ed7953"
             ],
             [
              0.7777777777777778,
              "#fb9f3a"
             ],
             [
              0.8888888888888888,
              "#fdca26"
             ],
             [
              1,
              "#f0f921"
             ]
            ],
            "type": "surface"
           }
          ],
          "table": [
           {
            "cells": {
             "fill": {
              "color": "#EBF0F8"
             },
             "line": {
              "color": "white"
             }
            },
            "header": {
             "fill": {
              "color": "#C8D4E3"
             },
             "line": {
              "color": "white"
             }
            },
            "type": "table"
           }
          ]
         },
         "layout": {
          "annotationdefaults": {
           "arrowcolor": "#2a3f5f",
           "arrowhead": 0,
           "arrowwidth": 1
          },
          "coloraxis": {
           "colorbar": {
            "outlinewidth": 0,
            "ticks": ""
           }
          },
          "colorscale": {
           "diverging": [
            [
             0,
             "#8e0152"
            ],
            [
             0.1,
             "#c51b7d"
            ],
            [
             0.2,
             "#de77ae"
            ],
            [
             0.3,
             "#f1b6da"
            ],
            [
             0.4,
             "#fde0ef"
            ],
            [
             0.5,
             "#f7f7f7"
            ],
            [
             0.6,
             "#e6f5d0"
            ],
            [
             0.7,
             "#b8e186"
            ],
            [
             0.8,
             "#7fbc41"
            ],
            [
             0.9,
             "#4d9221"
            ],
            [
             1,
             "#276419"
            ]
           ],
           "sequential": [
            [
             0,
             "#0d0887"
            ],
            [
             0.1111111111111111,
             "#46039f"
            ],
            [
             0.2222222222222222,
             "#7201a8"
            ],
            [
             0.3333333333333333,
             "#9c179e"
            ],
            [
             0.4444444444444444,
             "#bd3786"
            ],
            [
             0.5555555555555556,
             "#d8576b"
            ],
            [
             0.6666666666666666,
             "#ed7953"
            ],
            [
             0.7777777777777778,
             "#fb9f3a"
            ],
            [
             0.8888888888888888,
             "#fdca26"
            ],
            [
             1,
             "#f0f921"
            ]
           ],
           "sequentialminus": [
            [
             0,
             "#0d0887"
            ],
            [
             0.1111111111111111,
             "#46039f"
            ],
            [
             0.2222222222222222,
             "#7201a8"
            ],
            [
             0.3333333333333333,
             "#9c179e"
            ],
            [
             0.4444444444444444,
             "#bd3786"
            ],
            [
             0.5555555555555556,
             "#d8576b"
            ],
            [
             0.6666666666666666,
             "#ed7953"
            ],
            [
             0.7777777777777778,
             "#fb9f3a"
            ],
            [
             0.8888888888888888,
             "#fdca26"
            ],
            [
             1,
             "#f0f921"
            ]
           ]
          },
          "colorway": [
           "#636efa",
           "#EF553B",
           "#00cc96",
           "#ab63fa",
           "#FFA15A",
           "#19d3f3",
           "#FF6692",
           "#B6E880",
           "#FF97FF",
           "#FECB52"
          ],
          "font": {
           "color": "#2a3f5f"
          },
          "geo": {
           "bgcolor": "white",
           "lakecolor": "white",
           "landcolor": "#E5ECF6",
           "showlakes": true,
           "showland": true,
           "subunitcolor": "white"
          },
          "hoverlabel": {
           "align": "left"
          },
          "hovermode": "closest",
          "mapbox": {
           "style": "light"
          },
          "paper_bgcolor": "white",
          "plot_bgcolor": "#E5ECF6",
          "polar": {
           "angularaxis": {
            "gridcolor": "white",
            "linecolor": "white",
            "ticks": ""
           },
           "bgcolor": "#E5ECF6",
           "radialaxis": {
            "gridcolor": "white",
            "linecolor": "white",
            "ticks": ""
           }
          },
          "scene": {
           "xaxis": {
            "backgroundcolor": "#E5ECF6",
            "gridcolor": "white",
            "gridwidth": 2,
            "linecolor": "white",
            "showbackground": true,
            "ticks": "",
            "zerolinecolor": "white"
           },
           "yaxis": {
            "backgroundcolor": "#E5ECF6",
            "gridcolor": "white",
            "gridwidth": 2,
            "linecolor": "white",
            "showbackground": true,
            "ticks": "",
            "zerolinecolor": "white"
           },
           "zaxis": {
            "backgroundcolor": "#E5ECF6",
            "gridcolor": "white",
            "gridwidth": 2,
            "linecolor": "white",
            "showbackground": true,
            "ticks": "",
            "zerolinecolor": "white"
           }
          },
          "shapedefaults": {
           "line": {
            "color": "#2a3f5f"
           }
          },
          "ternary": {
           "aaxis": {
            "gridcolor": "white",
            "linecolor": "white",
            "ticks": ""
           },
           "baxis": {
            "gridcolor": "white",
            "linecolor": "white",
            "ticks": ""
           },
           "bgcolor": "#E5ECF6",
           "caxis": {
            "gridcolor": "white",
            "linecolor": "white",
            "ticks": ""
           }
          },
          "title": {
           "x": 0.05
          },
          "xaxis": {
           "automargin": true,
           "gridcolor": "white",
           "linecolor": "white",
           "ticks": "",
           "title": {
            "standoff": 15
           },
           "zerolinecolor": "white",
           "zerolinewidth": 2
          },
          "yaxis": {
           "automargin": true,
           "gridcolor": "white",
           "linecolor": "white",
           "ticks": "",
           "title": {
            "standoff": 15
           },
           "zerolinecolor": "white",
           "zerolinewidth": 2
          }
         }
        },
        "title": {
         "font": {
          "size": 24
         },
         "text": "Moč držav"
        },
        "width": 1200,
        "xaxis": {
         "title": {
          "text": "Države"
         }
        },
        "yaxis": {
         "title": {
          "text": "Število podjetij"
         }
        },
        "yaxis2": {
         "overlaying": "y",
         "side": "right",
         "title": {
          "text": "Premoženska vrednost[trilioni $]"
         }
        }
       }
      }
     },
     "metadata": {}
    }
   ],
   "source": [
    "podjetja_po_drzavi=podjetja_po_drzavi.sort_values('ime_count', ascending=False)\n",
    "graf5 = go.Figure(data=[\n",
    "    go.Bar(name='Število podjetij',\n",
    "     x = podjetja_po_drzavi.index, y = podjetja_po_drzavi.ime_count, yaxis='y', offsetgroup=1),\n",
    "    go.Bar(name='Vsota tržnih vrednosti',\n",
    "     x = podjetja_po_drzavi.index, y = podjetja_po_drzavi.premozenska_vrednost_B_sum, yaxis='y2', offsetgroup=2)\n",
    "], layout={\n",
    "    'yaxis' : {'title': 'Število podjetij'},\n",
    "    'yaxis2' : {'title' : 'Premoženska vrednost[trilioni $]', 'overlaying': 'y', 'side': 'right'}\n",
    "    \n",
    "})\n",
    "graf5.update_layout(\n",
    "    width = 1200,\n",
    "    height = 800,\n",
    "    title = 'Moč držav',\n",
    "    title_font = {'size': 24} ,\n",
    "    legend = {\n",
    "        'font' : {'size': 13},\n",
    "    }\n",
    ")\n",
    "graf5.update_xaxes(\n",
    "    title = 'Države'\n",
    ")\n",
    "graf5.update_layout(barmode='group')\n",
    "graf5.show()"
   ]
  },
  {
   "source": [
    "Kot pričakovano na lestvici kraljujeta ZDA in Kitajska. Pomemben je podatek, da ima večina držav zanemarljivo majhno število podjetij v lestvici. Sedaj si ogledamo razmerje med panogami in številom zaposlenih."
   ],
   "cell_type": "markdown",
   "metadata": {}
  },
  {
   "source": [
    "podjetja_po_panogi=podjetja_po_panogi.sort_values('stevilo_zaposlenih_mean', ascending=False)\n",
    "\n",
    "graf3 = go.Figure(data=[\n",
    "    go.Bar(name='povprečno število zaposlenih', x=podjetja_po_panogi.index, y=podjetja_po_panogi.stevilo_zaposlenih_mean/1000),\n",
    "    go.Bar(name='mediana števila zaposlenih', x=podjetja_po_panogi.index, y=podjetja_po_panogi.stevilo_zaposlenih_median / 1000)\n",
    "])\n",
    "graf3.update_layout(\n",
    "    title = \"Panoge in število zaposlenih\",\n",
    "    title_font = {'size': 24},\n",
    "    legend = {\n",
    "        'font' : {'size': 13},\n",
    "    },\n",
    "    width = 1200,\n",
    "    height = 600\n",
    "\n",
    ")\n",
    "graf3.update_xaxes(\n",
    "        tickangle = 45,\n",
    "        title_text = \"Panoge\",\n",
    "        title_font = {\"size\": 12},\n",
    "        title_standoff = 20)\n",
    "graf3.update_yaxes(\n",
    "    title_text = \"število zaposlenih[tisoč]\",\n",
    "    title_font = {\"size\" : 12}\n",
    ")\n",
    "\n",
    "# Change the bar mode\n",
    "graf3.update_layout(barmode='group')\n",
    "\n",
    "\n",
    "graf3.show()"
   ],
   "cell_type": "code",
   "metadata": {},
   "execution_count": 24,
   "outputs": [
    {
     "output_type": "display_data",
     "data": {
      "application/vnd.plotly.v1+json": {
       "config": {
        "plotlyServerURL": "https://plot.ly"
       },
       "data": [
        {
         "name": "povprečno število zaposlenih",
         "type": "bar",
         "x": [
          "Retailing",
          "Hotels, Restaurants & Leisure",
          "Technology Hardware & Equipment",
          "Food Markets",
          "Conglomerates",
          "Consumer Durables",
          "IT Software & Services",
          "Telecommunications Services",
          "Transportation",
          "Drugs &amp; Biotechnology",
          "Media",
          "Aerospace & Defense",
          "Health Care Equipment & Services",
          "Construction",
          "Trading Companies",
          "Capital Goods",
          "Banking",
          "Household &amp; Personal Products",
          "Oil & Gas Operations",
          "Food, Drink & Tobacco",
          "Household & Personal Products",
          "Diversified Financials",
          "Insurance",
          "Drugs & Biotechnology",
          "Chemicals",
          "Materials",
          "Semiconductors",
          "Business Services & Supplies",
          "Utilities"
         ],
         "y": [
          485.43018181818184,
          346,
          222.47528571428572,
          218.42816666666667,
          199.2782222222222,
          194.59872222222222,
          180.2300909090909,
          170.2745,
          158.877,
          132.2,
          129.175,
          125.949,
          122.5676,
          119.8428,
          119.471,
          101.814375,
          100.0436507936508,
          97,
          88.7909,
          86.8835,
          75.3236,
          74.076,
          64.74584210526316,
          63.346555555555554,
          56.75816666666667,
          55.95766666666666,
          41.933,
          37.83407142857143,
          36.16292307692308
         ]
        },
        {
         "name": "mediana števila zaposlenih",
         "type": "bar",
         "x": [
          "Retailing",
          "Hotels, Restaurants & Leisure",
          "Technology Hardware & Equipment",
          "Food Markets",
          "Conglomerates",
          "Consumer Durables",
          "IT Software & Services",
          "Telecommunications Services",
          "Transportation",
          "Drugs &amp; Biotechnology",
          "Media",
          "Aerospace & Defense",
          "Health Care Equipment & Services",
          "Construction",
          "Trading Companies",
          "Capital Goods",
          "Banking",
          "Household &amp; Personal Products",
          "Oil & Gas Operations",
          "Food, Drink & Tobacco",
          "Household & Personal Products",
          "Diversified Financials",
          "Insurance",
          "Drugs & Biotechnology",
          "Chemicals",
          "Materials",
          "Semiconductors",
          "Business Services & Supplies",
          "Utilities"
         ],
         "y": [
          290,
          346,
          105.257,
          188.093,
          144.4,
          153.7945,
          118.899,
          135.3095,
          55.268,
          132.2,
          142.55,
          102.9,
          85.2475,
          91.042,
          79.994,
          101.65,
          68.601,
          97,
          36.8465,
          76.75,
          59.533,
          34.45,
          43.3725,
          63.818,
          51.1,
          56.158,
          33.384,
          21.35,
          22.576
         ]
        }
       ],
       "layout": {
        "barmode": "group",
        "height": 600,
        "legend": {
         "font": {
          "size": 13
         }
        },
        "template": {
         "data": {
          "bar": [
           {
            "error_x": {
             "color": "#2a3f5f"
            },
            "error_y": {
             "color": "#2a3f5f"
            },
            "marker": {
             "line": {
              "color": "#E5ECF6",
              "width": 0.5
             }
            },
            "type": "bar"
           }
          ],
          "barpolar": [
           {
            "marker": {
             "line": {
              "color": "#E5ECF6",
              "width": 0.5
             }
            },
            "type": "barpolar"
           }
          ],
          "carpet": [
           {
            "aaxis": {
             "endlinecolor": "#2a3f5f",
             "gridcolor": "white",
             "linecolor": "white",
             "minorgridcolor": "white",
             "startlinecolor": "#2a3f5f"
            },
            "baxis": {
             "endlinecolor": "#2a3f5f",
             "gridcolor": "white",
             "linecolor": "white",
             "minorgridcolor": "white",
             "startlinecolor": "#2a3f5f"
            },
            "type": "carpet"
           }
          ],
          "choropleth": [
           {
            "colorbar": {
             "outlinewidth": 0,
             "ticks": ""
            },
            "type": "choropleth"
           }
          ],
          "contour": [
           {
            "colorbar": {
             "outlinewidth": 0,
             "ticks": ""
            },
            "colorscale": [
             [
              0,
              "#0d0887"
             ],
             [
              0.1111111111111111,
              "#46039f"
             ],
             [
              0.2222222222222222,
              "#7201a8"
             ],
             [
              0.3333333333333333,
              "#9c179e"
             ],
             [
              0.4444444444444444,
              "#bd3786"
             ],
             [
              0.5555555555555556,
              "#d8576b"
             ],
             [
              0.6666666666666666,
              "#ed7953"
             ],
             [
              0.7777777777777778,
              "#fb9f3a"
             ],
             [
              0.8888888888888888,
              "#fdca26"
             ],
             [
              1,
              "#f0f921"
             ]
            ],
            "type": "contour"
           }
          ],
          "contourcarpet": [
           {
            "colorbar": {
             "outlinewidth": 0,
             "ticks": ""
            },
            "type": "contourcarpet"
           }
          ],
          "heatmap": [
           {
            "colorbar": {
             "outlinewidth": 0,
             "ticks": ""
            },
            "colorscale": [
             [
              0,
              "#0d0887"
             ],
             [
              0.1111111111111111,
              "#46039f"
             ],
             [
              0.2222222222222222,
              "#7201a8"
             ],
             [
              0.3333333333333333,
              "#9c179e"
             ],
             [
              0.4444444444444444,
              "#bd3786"
             ],
             [
              0.5555555555555556,
              "#d8576b"
             ],
             [
              0.6666666666666666,
              "#ed7953"
             ],
             [
              0.7777777777777778,
              "#fb9f3a"
             ],
             [
              0.8888888888888888,
              "#fdca26"
             ],
             [
              1,
              "#f0f921"
             ]
            ],
            "type": "heatmap"
           }
          ],
          "heatmapgl": [
           {
            "colorbar": {
             "outlinewidth": 0,
             "ticks": ""
            },
            "colorscale": [
             [
              0,
              "#0d0887"
             ],
             [
              0.1111111111111111,
              "#46039f"
             ],
             [
              0.2222222222222222,
              "#7201a8"
             ],
             [
              0.3333333333333333,
              "#9c179e"
             ],
             [
              0.4444444444444444,
              "#bd3786"
             ],
             [
              0.5555555555555556,
              "#d8576b"
             ],
             [
              0.6666666666666666,
              "#ed7953"
             ],
             [
              0.7777777777777778,
              "#fb9f3a"
             ],
             [
              0.8888888888888888,
              "#fdca26"
             ],
             [
              1,
              "#f0f921"
             ]
            ],
            "type": "heatmapgl"
           }
          ],
          "histogram": [
           {
            "marker": {
             "colorbar": {
              "outlinewidth": 0,
              "ticks": ""
             }
            },
            "type": "histogram"
           }
          ],
          "histogram2d": [
           {
            "colorbar": {
             "outlinewidth": 0,
             "ticks": ""
            },
            "colorscale": [
             [
              0,
              "#0d0887"
             ],
             [
              0.1111111111111111,
              "#46039f"
             ],
             [
              0.2222222222222222,
              "#7201a8"
             ],
             [
              0.3333333333333333,
              "#9c179e"
             ],
             [
              0.4444444444444444,
              "#bd3786"
             ],
             [
              0.5555555555555556,
              "#d8576b"
             ],
             [
              0.6666666666666666,
              "#ed7953"
             ],
             [
              0.7777777777777778,
              "#fb9f3a"
             ],
             [
              0.8888888888888888,
              "#fdca26"
             ],
             [
              1,
              "#f0f921"
             ]
            ],
            "type": "histogram2d"
           }
          ],
          "histogram2dcontour": [
           {
            "colorbar": {
             "outlinewidth": 0,
             "ticks": ""
            },
            "colorscale": [
             [
              0,
              "#0d0887"
             ],
             [
              0.1111111111111111,
              "#46039f"
             ],
             [
              0.2222222222222222,
              "#7201a8"
             ],
             [
              0.3333333333333333,
              "#9c179e"
             ],
             [
              0.4444444444444444,
              "#bd3786"
             ],
             [
              0.5555555555555556,
              "#d8576b"
             ],
             [
              0.6666666666666666,
              "#ed7953"
             ],
             [
              0.7777777777777778,
              "#fb9f3a"
             ],
             [
              0.8888888888888888,
              "#fdca26"
             ],
             [
              1,
              "#f0f921"
             ]
            ],
            "type": "histogram2dcontour"
           }
          ],
          "mesh3d": [
           {
            "colorbar": {
             "outlinewidth": 0,
             "ticks": ""
            },
            "type": "mesh3d"
           }
          ],
          "parcoords": [
           {
            "line": {
             "colorbar": {
              "outlinewidth": 0,
              "ticks": ""
             }
            },
            "type": "parcoords"
           }
          ],
          "pie": [
           {
            "automargin": true,
            "type": "pie"
           }
          ],
          "scatter": [
           {
            "marker": {
             "colorbar": {
              "outlinewidth": 0,
              "ticks": ""
             }
            },
            "type": "scatter"
           }
          ],
          "scatter3d": [
           {
            "line": {
             "colorbar": {
              "outlinewidth": 0,
              "ticks": ""
             }
            },
            "marker": {
             "colorbar": {
              "outlinewidth": 0,
              "ticks": ""
             }
            },
            "type": "scatter3d"
           }
          ],
          "scattercarpet": [
           {
            "marker": {
             "colorbar": {
              "outlinewidth": 0,
              "ticks": ""
             }
            },
            "type": "scattercarpet"
           }
          ],
          "scattergeo": [
           {
            "marker": {
             "colorbar": {
              "outlinewidth": 0,
              "ticks": ""
             }
            },
            "type": "scattergeo"
           }
          ],
          "scattergl": [
           {
            "marker": {
             "colorbar": {
              "outlinewidth": 0,
              "ticks": ""
             }
            },
            "type": "scattergl"
           }
          ],
          "scattermapbox": [
           {
            "marker": {
             "colorbar": {
              "outlinewidth": 0,
              "ticks": ""
             }
            },
            "type": "scattermapbox"
           }
          ],
          "scatterpolar": [
           {
            "marker": {
             "colorbar": {
              "outlinewidth": 0,
              "ticks": ""
             }
            },
            "type": "scatterpolar"
           }
          ],
          "scatterpolargl": [
           {
            "marker": {
             "colorbar": {
              "outlinewidth": 0,
              "ticks": ""
             }
            },
            "type": "scatterpolargl"
           }
          ],
          "scatterternary": [
           {
            "marker": {
             "colorbar": {
              "outlinewidth": 0,
              "ticks": ""
             }
            },
            "type": "scatterternary"
           }
          ],
          "surface": [
           {
            "colorbar": {
             "outlinewidth": 0,
             "ticks": ""
            },
            "colorscale": [
             [
              0,
              "#0d0887"
             ],
             [
              0.1111111111111111,
              "#46039f"
             ],
             [
              0.2222222222222222,
              "#7201a8"
             ],
             [
              0.3333333333333333,
              "#9c179e"
             ],
             [
              0.4444444444444444,
              "#bd3786"
             ],
             [
              0.5555555555555556,
              "#d8576b"
             ],
             [
              0.6666666666666666,
              "#ed7953"
             ],
             [
              0.7777777777777778,
              "#fb9f3a"
             ],
             [
              0.8888888888888888,
              "#fdca26"
             ],
             [
              1,
              "#f0f921"
             ]
            ],
            "type": "surface"
           }
          ],
          "table": [
           {
            "cells": {
             "fill": {
              "color": "#EBF0F8"
             },
             "line": {
              "color": "white"
             }
            },
            "header": {
             "fill": {
              "color": "#C8D4E3"
             },
             "line": {
              "color": "white"
             }
            },
            "type": "table"
           }
          ]
         },
         "layout": {
          "annotationdefaults": {
           "arrowcolor": "#2a3f5f",
           "arrowhead": 0,
           "arrowwidth": 1
          },
          "coloraxis": {
           "colorbar": {
            "outlinewidth": 0,
            "ticks": ""
           }
          },
          "colorscale": {
           "diverging": [
            [
             0,
             "#8e0152"
            ],
            [
             0.1,
             "#c51b7d"
            ],
            [
             0.2,
             "#de77ae"
            ],
            [
             0.3,
             "#f1b6da"
            ],
            [
             0.4,
             "#fde0ef"
            ],
            [
             0.5,
             "#f7f7f7"
            ],
            [
             0.6,
             "#e6f5d0"
            ],
            [
             0.7,
             "#b8e186"
            ],
            [
             0.8,
             "#7fbc41"
            ],
            [
             0.9,
             "#4d9221"
            ],
            [
             1,
             "#276419"
            ]
           ],
           "sequential": [
            [
             0,
             "#0d0887"
            ],
            [
             0.1111111111111111,
             "#46039f"
            ],
            [
             0.2222222222222222,
             "#7201a8"
            ],
            [
             0.3333333333333333,
             "#9c179e"
            ],
            [
             0.4444444444444444,
             "#bd3786"
            ],
            [
             0.5555555555555556,
             "#d8576b"
            ],
            [
             0.6666666666666666,
             "#ed7953"
            ],
            [
             0.7777777777777778,
             "#fb9f3a"
            ],
            [
             0.8888888888888888,
             "#fdca26"
            ],
            [
             1,
             "#f0f921"
            ]
           ],
           "sequentialminus": [
            [
             0,
             "#0d0887"
            ],
            [
             0.1111111111111111,
             "#46039f"
            ],
            [
             0.2222222222222222,
             "#7201a8"
            ],
            [
             0.3333333333333333,
             "#9c179e"
            ],
            [
             0.4444444444444444,
             "#bd3786"
            ],
            [
             0.5555555555555556,
             "#d8576b"
            ],
            [
             0.6666666666666666,
             "#ed7953"
            ],
            [
             0.7777777777777778,
             "#fb9f3a"
            ],
            [
             0.8888888888888888,
             "#fdca26"
            ],
            [
             1,
             "#f0f921"
            ]
           ]
          },
          "colorway": [
           "#636efa",
           "#EF553B",
           "#00cc96",
           "#ab63fa",
           "#FFA15A",
           "#19d3f3",
           "#FF6692",
           "#B6E880",
           "#FF97FF",
           "#FECB52"
          ],
          "font": {
           "color": "#2a3f5f"
          },
          "geo": {
           "bgcolor": "white",
           "lakecolor": "white",
           "landcolor": "#E5ECF6",
           "showlakes": true,
           "showland": true,
           "subunitcolor": "white"
          },
          "hoverlabel": {
           "align": "left"
          },
          "hovermode": "closest",
          "mapbox": {
           "style": "light"
          },
          "paper_bgcolor": "white",
          "plot_bgcolor": "#E5ECF6",
          "polar": {
           "angularaxis": {
            "gridcolor": "white",
            "linecolor": "white",
            "ticks": ""
           },
           "bgcolor": "#E5ECF6",
           "radialaxis": {
            "gridcolor": "white",
            "linecolor": "white",
            "ticks": ""
           }
          },
          "scene": {
           "xaxis": {
            "backgroundcolor": "#E5ECF6",
            "gridcolor": "white",
            "gridwidth": 2,
            "linecolor": "white",
            "showbackground": true,
            "ticks": "",
            "zerolinecolor": "white"
           },
           "yaxis": {
            "backgroundcolor": "#E5ECF6",
            "gridcolor": "white",
            "gridwidth": 2,
            "linecolor": "white",
            "showbackground": true,
            "ticks": "",
            "zerolinecolor": "white"
           },
           "zaxis": {
            "backgroundcolor": "#E5ECF6",
            "gridcolor": "white",
            "gridwidth": 2,
            "linecolor": "white",
            "showbackground": true,
            "ticks": "",
            "zerolinecolor": "white"
           }
          },
          "shapedefaults": {
           "line": {
            "color": "#2a3f5f"
           }
          },
          "ternary": {
           "aaxis": {
            "gridcolor": "white",
            "linecolor": "white",
            "ticks": ""
           },
           "baxis": {
            "gridcolor": "white",
            "linecolor": "white",
            "ticks": ""
           },
           "bgcolor": "#E5ECF6",
           "caxis": {
            "gridcolor": "white",
            "linecolor": "white",
            "ticks": ""
           }
          },
          "title": {
           "x": 0.05
          },
          "xaxis": {
           "automargin": true,
           "gridcolor": "white",
           "linecolor": "white",
           "ticks": "",
           "title": {
            "standoff": 15
           },
           "zerolinecolor": "white",
           "zerolinewidth": 2
          },
          "yaxis": {
           "automargin": true,
           "gridcolor": "white",
           "linecolor": "white",
           "ticks": "",
           "title": {
            "standoff": 15
           },
           "zerolinecolor": "white",
           "zerolinewidth": 2
          }
         }
        },
        "title": {
         "font": {
          "size": 24
         },
         "text": "Panoge in število zaposlenih"
        },
        "width": 1200,
        "xaxis": {
         "tickangle": 45,
         "title": {
          "font": {
           "size": 12
          },
          "standoff": 20,
          "text": "Panoge"
         }
        },
        "yaxis": {
         "title": {
          "font": {
           "size": 12
          },
          "text": "število zaposlenih[tisoč]"
         }
        }
       }
      }
     },
     "metadata": {}
    }
   ]
  },
  {
   "source": [
    "Podatki so pričakovani. Največje število delavcev imajo podjetja z prodajo in turizmom. Manjša števila pa pritičejo industrijskim obratom in bolj usmerjenim disciplinam. Spomnimo se, da prvi graf pokaže da imajo nekatere panoge zelo malo predstavnikov, npr. Hotels, Restaurants & Leisure le enega. \n",
    "Naslednja tama bo odvisnost mesta na lestvici od ostalih kvalitet. Zelo lepo korelacijo sta pokazala profit in tržna cena, kot kaže spodnji graf."
   ],
   "cell_type": "markdown",
   "metadata": {}
  },
  {
   "cell_type": "code",
   "execution_count": 6,
   "metadata": {},
   "outputs": [
    {
     "output_type": "display_data",
     "data": {
      "application/vnd.plotly.v1+json": {
       "config": {
        "plotlyServerURL": "https://plot.ly"
       },
       "data": [
        {
         "hovertemplate": "profit_B=%{x}<br>trzna_cena_B=%{y}<br>mesto=%{marker.color}<extra></extra>",
         "legendgroup": "",
         "marker": {
          "color": [
           1,
           2,
           3,
           4,
           5,
           5,
           8,
           9,
           10,
           11,
           11,
           13,
           13,
           13,
           16,
           17,
           18,
           19,
           20,
           21,
           22,
           23,
           24,
           25,
           26,
           27,
           28,
           29,
           30,
           31,
           32,
           32,
           34,
           35,
           36,
           37,
           38,
           39,
           40,
           42,
           43,
           44,
           45,
           46,
           47,
           48,
           49,
           50,
           51,
           52,
           53,
           55,
           56,
           57,
           58,
           58,
           60,
           61,
           62,
           63,
           64,
           65,
           66,
           66,
           68,
           69,
           70,
           71,
           72,
           74,
           75,
           76,
           77,
           79,
           80,
           80,
           82,
           83,
           84,
           85,
           86,
           87,
           88,
           89,
           90,
           91,
           93,
           94,
           95,
           96,
           97,
           97,
           100,
           101,
           102,
           103,
           104,
           105,
           106,
           107,
           108,
           109,
           110,
           111,
           112,
           113,
           114,
           115,
           116,
           117,
           118,
           119,
           120,
           121,
           122,
           123,
           123,
           125,
           126,
           127,
           129,
           130,
           131,
           132,
           132,
           134,
           135,
           136,
           137,
           138,
           139,
           140,
           141,
           142,
           143,
           144,
           145,
           146,
           147,
           148,
           149,
           150,
           151,
           152,
           153,
           154,
           155,
           156,
           158,
           160,
           161,
           162,
           163,
           164,
           165,
           166,
           167,
           168,
           169,
           171,
           172,
           174,
           175,
           177,
           178,
           179,
           180,
           181,
           183,
           184,
           185,
           186,
           186,
           188,
           189,
           192,
           192,
           194,
           195,
           196,
           197,
           198,
           198,
           200,
           201,
           202,
           203,
           204,
           205,
           206,
           207,
           208,
           210,
           211,
           213,
           214,
           215,
           216,
           217,
           218,
           220,
           221,
           222,
           223,
           224,
           225,
           226,
           227,
           228,
           229,
           230,
           231,
           232,
           233,
           235,
           236,
           237,
           239,
           240,
           241,
           242,
           243,
           244,
           244,
           246,
           248,
           249,
           250,
           251,
           252,
           253,
           254,
           255,
           256,
           257,
           258,
           260,
           261,
           262,
           263,
           266,
           267,
           268,
           269,
           270,
           271,
           272,
           273,
           274,
           275,
           276,
           277,
           278,
           279,
           281,
           282,
           283,
           284,
           285,
           286,
           287,
           288,
           289,
           290,
           291,
           292,
           293,
           294,
           295,
           296,
           297,
           298,
           299,
           300,
           301,
           302,
           304,
           305,
           306,
           308,
           309,
           310,
           311,
           312,
           313,
           314,
           315,
           316,
           318,
           319,
           320,
           321,
           322,
           323,
           324,
           325,
           326,
           327,
           328,
           329,
           330,
           331,
           332,
           333,
           333,
           336,
           337,
           338,
           339,
           340,
           341,
           342,
           343,
           344,
           345,
           346,
           349,
           350,
           352,
           353,
           354,
           355,
           356,
           357,
           359,
           360,
           361,
           362,
           363,
           364,
           365,
           367,
           368,
           370,
           371,
           372,
           373,
           374,
           375,
           375,
           377,
           378,
           379,
           380,
           381,
           382,
           383,
           384,
           385,
           385,
           387,
           388,
           389,
           389,
           391,
           391,
           393,
           394,
           394,
           396,
           397,
           398,
           398,
           400,
           401,
           402,
           403,
           404,
           405,
           407,
           407,
           409,
           409,
           411,
           412,
           413,
           414,
           415,
           416,
           418,
           419
          ],
          "coloraxis": "coloraxis",
          "symbol": "circle"
         },
         "mode": "markers",
         "name": "",
         "orientation": "v",
         "showlegend": false,
         "type": "scatter",
         "x": [
          45.3,
          38.9,
          30,
          81.4,
          30.9,
          88.2,
          24.1,
          57.2,
          27.2,
          14.4,
          22.7,
          34.5,
          14.3,
          46.3,
          18.4,
          14.3,
          17.1,
          14.9,
          18.4,
          9.9,
          10.6,
          12,
          13.8,
          8.9,
          13.7,
          11.7,
          15.5,
          11.3,
          9,
          24.7,
          22.7,
          6.6,
          17.2,
          10,
          10.4,
          8.5,
          22.7,
          21,
          6.6,
          8.7,
          7.9,
          3.8,
          11.2,
          9.3,
          7.4,
          8.3,
          15.8,
          13.5,
          9,
          5.4,
          6.3,
          7.3,
          9.1,
          9.2,
          6.2,
          6,
          3.3,
          2.9,
          5.9,
          4.9,
          4,
          8.6,
          6.6,
          2.9,
          12.2,
          4.3,
          10.2,
          5,
          4.7,
          13.6,
          5.5,
          4.1,
          6.9,
          6.1,
          5.9,
          6.4,
          11.1,
          4.3,
          7,
          6.4,
          5.5,
          7.2,
          5.5,
          6.7,
          7.8,
          7.3,
          9.4,
          10.8,
          2.8,
          10,
          2.4,
          6.8,
          5.6,
          5.7,
          4.8,
          6.4,
          4.8,
          4.8,
          11.2,
          8.8,
          13,
          4.8,
          6.3,
          5.7,
          5.1,
          7.1,
          8,
          3.1,
          4.1,
          3.3,
          4.8,
          7.8,
          4.1,
          3.7,
          5.9,
          4.3,
          4.2,
          4.7,
          8.8,
          4.6,
          5.3,
          4,
          3.7,
          4.4,
          5.3,
          3.7,
          4.9,
          3.5,
          3.6,
          3.4,
          5,
          3,
          11.9,
          3.8,
          4.3,
          3.7,
          6.2,
          3.8,
          4.8,
          5.5,
          1.7,
          4.7,
          2.6,
          5.1,
          6.1,
          2.5,
          3.3,
          3.4,
          3.5,
          4,
          2.8,
          7.7,
          3.5,
          2.9,
          1.8,
          3.7,
          3.6,
          6.1,
          2.9,
          2,
          4,
          3,
          3.5,
          4.2,
          2.3,
          3.9,
          3.5,
          2.6,
          6,
          3.7,
          2.9,
          5,
          3.1,
          3.7,
          2.3,
          2.6,
          2.3,
          5.4,
          5,
          3.3,
          2.6,
          1.8,
          3.6,
          4.3,
          3.6,
          3.6,
          7.6,
          3.2,
          5,
          1.4,
          4.5,
          3.8,
          4.1,
          2.8,
          3.2,
          3.4,
          2.6,
          3.2,
          2.9,
          2.4,
          0.768,
          5.5,
          1.9,
          3.8,
          3.5,
          3,
          2.6,
          2.7,
          2.8,
          3.4,
          1.8,
          1.1,
          3.2,
          3.1,
          2.6,
          2.6,
          1.5,
          2.5,
          2.1,
          2.3,
          0.8310000000000001,
          2,
          4.1,
          4.3,
          3.6,
          2.1,
          2.5,
          2,
          6.8,
          2.2,
          1.9,
          1.2,
          1.3,
          2.6,
          2.7,
          4,
          2.7,
          1.8,
          1.9,
          3.5,
          1.7,
          2.8,
          2.9,
          4.4,
          5.1,
          3.1,
          1.9,
          3.9,
          3.5,
          7.9,
          1.4,
          2.3,
          2.7,
          2.3,
          3.2,
          3.1,
          3.2,
          2.2,
          0.845,
          1.6,
          2.8,
          3.4,
          1.9,
          2.7,
          1.7,
          3,
          3.3,
          2.1,
          2.4,
          1.3,
          9.5,
          1.4,
          2.3,
          2.4,
          2.5,
          3,
          1.2,
          2.3,
          4.1,
          1.5,
          0.7340000000000001,
          2.7,
          1.5,
          4.9,
          4,
          2.8,
          1.5,
          3.1,
          1.9,
          2.2,
          0.617,
          1.5,
          2.4,
          2.1,
          2.3,
          2.1,
          0.418,
          2.7,
          14.2,
          2,
          2.1,
          1.6,
          3.3,
          2.8,
          5.8,
          3.4,
          2.7,
          2.2,
          2.1,
          7.2,
          1.2,
          6.2,
          3.7,
          0.899,
          2.2,
          1.5,
          2,
          1.3,
          1.8,
          1.9,
          1.7,
          2.9,
          4,
          -3.3,
          1.1,
          1.3,
          2.9,
          2,
          1.8,
          1.2,
          1.3,
          1.5,
          3.3,
          2.2,
          2.1,
          1.3,
          2.1,
          1.3,
          1.7,
          4.6,
          0.8740000000000001,
          4.3,
          2.2,
          2.9,
          1.9,
          2.1,
          1.8,
          1.5,
          1.7,
          1.3,
          2.1,
          2.4,
          1.9,
          1.8,
          2.1,
          1.8,
          1.5,
          0.626,
          2.8,
          3.1,
          1.5,
          1.4,
          1.5,
          1.6,
          1.6,
          10.6,
          6.4,
          2.3,
          1.9,
          1,
          1.4,
          1.3,
          1.4,
          0.893,
          2,
          -3.4,
          1.7,
          1.1,
          4.9,
          3.2,
          0.496
         ],
         "xaxis": "x",
         "y": [
          242.3,
          203.8,
          291.7,
          455.4,
          147.2,
          1684.8,
          208.6,
          1285.5,
          112.8,
          218.6,
          173.3,
          919.3,
          196.6,
          1359,
          278.7,
          118.8,
          101.1,
          344.4,
          237.7,
          126.5,
          1233.4,
          70.4,
          277.1,
          77.1,
          120.9,
          171.7,
          164.9,
          93.1,
          92,
          545.4,
          60.8,
          65.9,
          395.3,
          87.7,
          195.3,
          60.3,
          254,
          583.7,
          80.4,
          39.2,
          83,
          105.3,
          47.1,
          75.8,
          63.4,
          62.1,
          212.8,
          509.7,
          111.5,
          51.8,
          59.5,
          37.1,
          89.9,
          49,
          123.8,
          78.7,
          76.6,
          171.8,
          75.4,
          72.8,
          42.3,
          44.2,
          111.8,
          89.7,
          193,
          69.2,
          43.5,
          291.8,
          32.7,
          297.4,
          38.9,
          47.4,
          30.3,
          30.7,
          32.8,
          36.4,
          179.7,
          42.6,
          72.6,
          48.7,
          56.1,
          183.6,
          73.5,
          31.9,
          32.8,
          88.8,
          107.1,
          167,
          51.3,
          197.1,
          69.4,
          104.4,
          37.6,
          31.3,
          64.7,
          55.5,
          32.4,
          70.8,
          236.1,
          47,
          265.5,
          38.4,
          130.6,
          27.8,
          24.7,
          23.9,
          75.5,
          28.6,
          24.7,
          122.5,
          21.9,
          121.4,
          62.5,
          35.9,
          66.9,
          62.2,
          24.5,
          27.3,
          50.6,
          31.6,
          130.8,
          30,
          31.3,
          32.6,
          63,
          48.8,
          29.6,
          38,
          45.5,
          137.6,
          45.2,
          22.5,
          383.9,
          133.8,
          81.3,
          62.1,
          109.1,
          73.1,
          32.2,
          22.3,
          104,
          142.4,
          33,
          28.6,
          100.4,
          23.5,
          21.9,
          32.3,
          162.9,
          22,
          29.5,
          140.6,
          50.3,
          31.3,
          46.4,
          24.1,
          28.3,
          35.6,
          36.1,
          22.6,
          27.5,
          27.9,
          60,
          77.9,
          96.6,
          26.4,
          113.1,
          23.1,
          108.4,
          132.2,
          36.7,
          105.8,
          32,
          73.4,
          20.1,
          108.6,
          15.3,
          21.4,
          87.4,
          54.9,
          20.9,
          29.3,
          45.2,
          36,
          45.3,
          17.2,
          116.2,
          14.8,
          118,
          31.1,
          16.8,
          14.7,
          29.3,
          14.9,
          12,
          37.5,
          16.7,
          14.5,
          26.9,
          25.6,
          36.9,
          148,
          37.1,
          20.7,
          48.6,
          37.2,
          113.9,
          50.4,
          12.4,
          52.9,
          14.4,
          26.2,
          13.8,
          26.3,
          50.5,
          29.8,
          137.7,
          60,
          23.8,
          55.1,
          29.8,
          20.1,
          79.3,
          135.6,
          46.7,
          45,
          144.3,
          17.7,
          17.9,
          27.3,
          16.2,
          29,
          32.8,
          18,
          36.7,
          88.5,
          22.5,
          27.8,
          41.3,
          16.5,
          25.2,
          10.8,
          11.7,
          13.4,
          39.8,
          14.3,
          14.6,
          81,
          22,
          276.1,
          64.6,
          53.3,
          11.1,
          44.2,
          23.9,
          14.9,
          33.4,
          184.7,
          38.6,
          19.8,
          13.4,
          89.6,
          41.1,
          14.4,
          26.1,
          15.4,
          59.5,
          26.9,
          22.2,
          47,
          17.7,
          40.5,
          13,
          36.6,
          63,
          22.2,
          53.9,
          38.5,
          19.8,
          50.5,
          20.3,
          16.5,
          20.7,
          41.7,
          21.9,
          14.5,
          11,
          43.3,
          23.8,
          22.8,
          21.8,
          11.5,
          63,
          15.3,
          17.1,
          31.1,
          37,
          20.7,
          2,
          22.3,
          10.8,
          14.4,
          50.7,
          19.1,
          146.8,
          19.3,
          27.7,
          36.2,
          34.4,
          1.1,
          22.4,
          225.5,
          23.3,
          68.5,
          69.9,
          15.2,
          19.8,
          34.4,
          49.2,
          14.1,
          44.1,
          46.7,
          45.9,
          79.4,
          22.7,
          11.9,
          124.5,
          7.5,
          25.3,
          11.3,
          12.1,
          18.2,
          58.8,
          9.3,
          10.8,
          16.1,
          36.3,
          11.8,
          38.3,
          100.7,
          11.5,
          52.4,
          13.1,
          11.6,
          17.4,
          23.9,
          11.1,
          31.5,
          13.6,
          38.8,
          49.1,
          43.8,
          20.6,
          10.6,
          20.8,
          28.6,
          7.1,
          27.6,
          48,
          29.6,
          44.9,
          13.1,
          10.1,
          10.6,
          32.1,
          59.9,
          55,
          7.9,
          18.2,
          9,
          33.4,
          26.3,
          17.1,
          69.7,
          9.9,
          79.6,
          42.4,
          29.5,
          106.5,
          170.4,
          34.5
         ],
         "yaxis": "y"
        }
       ],
       "layout": {
        "coloraxis": {
         "colorbar": {
          "title": {
           "text": "mesto"
          }
         },
         "colorscale": [
          [
           0,
           "#0d0887"
          ],
          [
           0.1111111111111111,
           "#46039f"
          ],
          [
           0.2222222222222222,
           "#7201a8"
          ],
          [
           0.3333333333333333,
           "#9c179e"
          ],
          [
           0.4444444444444444,
           "#bd3786"
          ],
          [
           0.5555555555555556,
           "#d8576b"
          ],
          [
           0.6666666666666666,
           "#ed7953"
          ],
          [
           0.7777777777777778,
           "#fb9f3a"
          ],
          [
           0.8888888888888888,
           "#fdca26"
          ],
          [
           1,
           "#f0f921"
          ]
         ]
        },
        "legend": {
         "tracegroupgap": 0
        },
        "margin": {
         "t": 60
        },
        "template": {
         "data": {
          "bar": [
           {
            "error_x": {
             "color": "#2a3f5f"
            },
            "error_y": {
             "color": "#2a3f5f"
            },
            "marker": {
             "line": {
              "color": "#E5ECF6",
              "width": 0.5
             }
            },
            "type": "bar"
           }
          ],
          "barpolar": [
           {
            "marker": {
             "line": {
              "color": "#E5ECF6",
              "width": 0.5
             }
            },
            "type": "barpolar"
           }
          ],
          "carpet": [
           {
            "aaxis": {
             "endlinecolor": "#2a3f5f",
             "gridcolor": "white",
             "linecolor": "white",
             "minorgridcolor": "white",
             "startlinecolor": "#2a3f5f"
            },
            "baxis": {
             "endlinecolor": "#2a3f5f",
             "gridcolor": "white",
             "linecolor": "white",
             "minorgridcolor": "white",
             "startlinecolor": "#2a3f5f"
            },
            "type": "carpet"
           }
          ],
          "choropleth": [
           {
            "colorbar": {
             "outlinewidth": 0,
             "ticks": ""
            },
            "type": "choropleth"
           }
          ],
          "contour": [
           {
            "colorbar": {
             "outlinewidth": 0,
             "ticks": ""
            },
            "colorscale": [
             [
              0,
              "#0d0887"
             ],
             [
              0.1111111111111111,
              "#46039f"
             ],
             [
              0.2222222222222222,
              "#7201a8"
             ],
             [
              0.3333333333333333,
              "#9c179e"
             ],
             [
              0.4444444444444444,
              "#bd3786"
             ],
             [
              0.5555555555555556,
              "#d8576b"
             ],
             [
              0.6666666666666666,
              "#ed7953"
             ],
             [
              0.7777777777777778,
              "#fb9f3a"
             ],
             [
              0.8888888888888888,
              "#fdca26"
             ],
             [
              1,
              "#f0f921"
             ]
            ],
            "type": "contour"
           }
          ],
          "contourcarpet": [
           {
            "colorbar": {
             "outlinewidth": 0,
             "ticks": ""
            },
            "type": "contourcarpet"
           }
          ],
          "heatmap": [
           {
            "colorbar": {
             "outlinewidth": 0,
             "ticks": ""
            },
            "colorscale": [
             [
              0,
              "#0d0887"
             ],
             [
              0.1111111111111111,
              "#46039f"
             ],
             [
              0.2222222222222222,
              "#7201a8"
             ],
             [
              0.3333333333333333,
              "#9c179e"
             ],
             [
              0.4444444444444444,
              "#bd3786"
             ],
             [
              0.5555555555555556,
              "#d8576b"
             ],
             [
              0.6666666666666666,
              "#ed7953"
             ],
             [
              0.7777777777777778,
              "#fb9f3a"
             ],
             [
              0.8888888888888888,
              "#fdca26"
             ],
             [
              1,
              "#f0f921"
             ]
            ],
            "type": "heatmap"
           }
          ],
          "heatmapgl": [
           {
            "colorbar": {
             "outlinewidth": 0,
             "ticks": ""
            },
            "colorscale": [
             [
              0,
              "#0d0887"
             ],
             [
              0.1111111111111111,
              "#46039f"
             ],
             [
              0.2222222222222222,
              "#7201a8"
             ],
             [
              0.3333333333333333,
              "#9c179e"
             ],
             [
              0.4444444444444444,
              "#bd3786"
             ],
             [
              0.5555555555555556,
              "#d8576b"
             ],
             [
              0.6666666666666666,
              "#ed7953"
             ],
             [
              0.7777777777777778,
              "#fb9f3a"
             ],
             [
              0.8888888888888888,
              "#fdca26"
             ],
             [
              1,
              "#f0f921"
             ]
            ],
            "type": "heatmapgl"
           }
          ],
          "histogram": [
           {
            "marker": {
             "colorbar": {
              "outlinewidth": 0,
              "ticks": ""
             }
            },
            "type": "histogram"
           }
          ],
          "histogram2d": [
           {
            "colorbar": {
             "outlinewidth": 0,
             "ticks": ""
            },
            "colorscale": [
             [
              0,
              "#0d0887"
             ],
             [
              0.1111111111111111,
              "#46039f"
             ],
             [
              0.2222222222222222,
              "#7201a8"
             ],
             [
              0.3333333333333333,
              "#9c179e"
             ],
             [
              0.4444444444444444,
              "#bd3786"
             ],
             [
              0.5555555555555556,
              "#d8576b"
             ],
             [
              0.6666666666666666,
              "#ed7953"
             ],
             [
              0.7777777777777778,
              "#fb9f3a"
             ],
             [
              0.8888888888888888,
              "#fdca26"
             ],
             [
              1,
              "#f0f921"
             ]
            ],
            "type": "histogram2d"
           }
          ],
          "histogram2dcontour": [
           {
            "colorbar": {
             "outlinewidth": 0,
             "ticks": ""
            },
            "colorscale": [
             [
              0,
              "#0d0887"
             ],
             [
              0.1111111111111111,
              "#46039f"
             ],
             [
              0.2222222222222222,
              "#7201a8"
             ],
             [
              0.3333333333333333,
              "#9c179e"
             ],
             [
              0.4444444444444444,
              "#bd3786"
             ],
             [
              0.5555555555555556,
              "#d8576b"
             ],
             [
              0.6666666666666666,
              "#ed7953"
             ],
             [
              0.7777777777777778,
              "#fb9f3a"
             ],
             [
              0.8888888888888888,
              "#fdca26"
             ],
             [
              1,
              "#f0f921"
             ]
            ],
            "type": "histogram2dcontour"
           }
          ],
          "mesh3d": [
           {
            "colorbar": {
             "outlinewidth": 0,
             "ticks": ""
            },
            "type": "mesh3d"
           }
          ],
          "parcoords": [
           {
            "line": {
             "colorbar": {
              "outlinewidth": 0,
              "ticks": ""
             }
            },
            "type": "parcoords"
           }
          ],
          "pie": [
           {
            "automargin": true,
            "type": "pie"
           }
          ],
          "scatter": [
           {
            "marker": {
             "colorbar": {
              "outlinewidth": 0,
              "ticks": ""
             }
            },
            "type": "scatter"
           }
          ],
          "scatter3d": [
           {
            "line": {
             "colorbar": {
              "outlinewidth": 0,
              "ticks": ""
             }
            },
            "marker": {
             "colorbar": {
              "outlinewidth": 0,
              "ticks": ""
             }
            },
            "type": "scatter3d"
           }
          ],
          "scattercarpet": [
           {
            "marker": {
             "colorbar": {
              "outlinewidth": 0,
              "ticks": ""
             }
            },
            "type": "scattercarpet"
           }
          ],
          "scattergeo": [
           {
            "marker": {
             "colorbar": {
              "outlinewidth": 0,
              "ticks": ""
             }
            },
            "type": "scattergeo"
           }
          ],
          "scattergl": [
           {
            "marker": {
             "colorbar": {
              "outlinewidth": 0,
              "ticks": ""
             }
            },
            "type": "scattergl"
           }
          ],
          "scattermapbox": [
           {
            "marker": {
             "colorbar": {
              "outlinewidth": 0,
              "ticks": ""
             }
            },
            "type": "scattermapbox"
           }
          ],
          "scatterpolar": [
           {
            "marker": {
             "colorbar": {
              "outlinewidth": 0,
              "ticks": ""
             }
            },
            "type": "scatterpolar"
           }
          ],
          "scatterpolargl": [
           {
            "marker": {
             "colorbar": {
              "outlinewidth": 0,
              "ticks": ""
             }
            },
            "type": "scatterpolargl"
           }
          ],
          "scatterternary": [
           {
            "marker": {
             "colorbar": {
              "outlinewidth": 0,
              "ticks": ""
             }
            },
            "type": "scatterternary"
           }
          ],
          "surface": [
           {
            "colorbar": {
             "outlinewidth": 0,
             "ticks": ""
            },
            "colorscale": [
             [
              0,
              "#0d0887"
             ],
             [
              0.1111111111111111,
              "#46039f"
             ],
             [
              0.2222222222222222,
              "#7201a8"
             ],
             [
              0.3333333333333333,
              "#9c179e"
             ],
             [
              0.4444444444444444,
              "#bd3786"
             ],
             [
              0.5555555555555556,
              "#d8576b"
             ],
             [
              0.6666666666666666,
              "#ed7953"
             ],
             [
              0.7777777777777778,
              "#fb9f3a"
             ],
             [
              0.8888888888888888,
              "#fdca26"
             ],
             [
              1,
              "#f0f921"
             ]
            ],
            "type": "surface"
           }
          ],
          "table": [
           {
            "cells": {
             "fill": {
              "color": "#EBF0F8"
             },
             "line": {
              "color": "white"
             }
            },
            "header": {
             "fill": {
              "color": "#C8D4E3"
             },
             "line": {
              "color": "white"
             }
            },
            "type": "table"
           }
          ]
         },
         "layout": {
          "annotationdefaults": {
           "arrowcolor": "#2a3f5f",
           "arrowhead": 0,
           "arrowwidth": 1
          },
          "coloraxis": {
           "colorbar": {
            "outlinewidth": 0,
            "ticks": ""
           }
          },
          "colorscale": {
           "diverging": [
            [
             0,
             "#8e0152"
            ],
            [
             0.1,
             "#c51b7d"
            ],
            [
             0.2,
             "#de77ae"
            ],
            [
             0.3,
             "#f1b6da"
            ],
            [
             0.4,
             "#fde0ef"
            ],
            [
             0.5,
             "#f7f7f7"
            ],
            [
             0.6,
             "#e6f5d0"
            ],
            [
             0.7,
             "#b8e186"
            ],
            [
             0.8,
             "#7fbc41"
            ],
            [
             0.9,
             "#4d9221"
            ],
            [
             1,
             "#276419"
            ]
           ],
           "sequential": [
            [
             0,
             "#0d0887"
            ],
            [
             0.1111111111111111,
             "#46039f"
            ],
            [
             0.2222222222222222,
             "#7201a8"
            ],
            [
             0.3333333333333333,
             "#9c179e"
            ],
            [
             0.4444444444444444,
             "#bd3786"
            ],
            [
             0.5555555555555556,
             "#d8576b"
            ],
            [
             0.6666666666666666,
             "#ed7953"
            ],
            [
             0.7777777777777778,
             "#fb9f3a"
            ],
            [
             0.8888888888888888,
             "#fdca26"
            ],
            [
             1,
             "#f0f921"
            ]
           ],
           "sequentialminus": [
            [
             0,
             "#0d0887"
            ],
            [
             0.1111111111111111,
             "#46039f"
            ],
            [
             0.2222222222222222,
             "#7201a8"
            ],
            [
             0.3333333333333333,
             "#9c179e"
            ],
            [
             0.4444444444444444,
             "#bd3786"
            ],
            [
             0.5555555555555556,
             "#d8576b"
            ],
            [
             0.6666666666666666,
             "#ed7953"
            ],
            [
             0.7777777777777778,
             "#fb9f3a"
            ],
            [
             0.8888888888888888,
             "#fdca26"
            ],
            [
             1,
             "#f0f921"
            ]
           ]
          },
          "colorway": [
           "#636efa",
           "#EF553B",
           "#00cc96",
           "#ab63fa",
           "#FFA15A",
           "#19d3f3",
           "#FF6692",
           "#B6E880",
           "#FF97FF",
           "#FECB52"
          ],
          "font": {
           "color": "#2a3f5f"
          },
          "geo": {
           "bgcolor": "white",
           "lakecolor": "white",
           "landcolor": "#E5ECF6",
           "showlakes": true,
           "showland": true,
           "subunitcolor": "white"
          },
          "hoverlabel": {
           "align": "left"
          },
          "hovermode": "closest",
          "mapbox": {
           "style": "light"
          },
          "paper_bgcolor": "white",
          "plot_bgcolor": "#E5ECF6",
          "polar": {
           "angularaxis": {
            "gridcolor": "white",
            "linecolor": "white",
            "ticks": ""
           },
           "bgcolor": "#E5ECF6",
           "radialaxis": {
            "gridcolor": "white",
            "linecolor": "white",
            "ticks": ""
           }
          },
          "scene": {
           "xaxis": {
            "backgroundcolor": "#E5ECF6",
            "gridcolor": "white",
            "gridwidth": 2,
            "linecolor": "white",
            "showbackground": true,
            "ticks": "",
            "zerolinecolor": "white"
           },
           "yaxis": {
            "backgroundcolor": "#E5ECF6",
            "gridcolor": "white",
            "gridwidth": 2,
            "linecolor": "white",
            "showbackground": true,
            "ticks": "",
            "zerolinecolor": "white"
           },
           "zaxis": {
            "backgroundcolor": "#E5ECF6",
            "gridcolor": "white",
            "gridwidth": 2,
            "linecolor": "white",
            "showbackground": true,
            "ticks": "",
            "zerolinecolor": "white"
           }
          },
          "shapedefaults": {
           "line": {
            "color": "#2a3f5f"
           }
          },
          "ternary": {
           "aaxis": {
            "gridcolor": "white",
            "linecolor": "white",
            "ticks": ""
           },
           "baxis": {
            "gridcolor": "white",
            "linecolor": "white",
            "ticks": ""
           },
           "bgcolor": "#E5ECF6",
           "caxis": {
            "gridcolor": "white",
            "linecolor": "white",
            "ticks": ""
           }
          },
          "title": {
           "x": 0.05
          },
          "xaxis": {
           "automargin": true,
           "gridcolor": "white",
           "linecolor": "white",
           "ticks": "",
           "title": {
            "standoff": 15
           },
           "zerolinecolor": "white",
           "zerolinewidth": 2
          },
          "yaxis": {
           "automargin": true,
           "gridcolor": "white",
           "linecolor": "white",
           "ticks": "",
           "title": {
            "standoff": 15
           },
           "zerolinecolor": "white",
           "zerolinewidth": 2
          }
         }
        },
        "title": {
         "font": {
          "size": 24
         },
         "text": "Odvisnost trzne cene in profita od mesta na lestvici"
        },
        "xaxis": {
         "anchor": "y",
         "domain": [
          0,
          1
         ],
         "title": {
          "text": "profit[miliard $]"
         }
        },
        "yaxis": {
         "anchor": "x",
         "domain": [
          0,
          1
         ],
         "title": {
          "text": "trzna cena[miliard $]"
         }
        }
       }
      }
     },
     "metadata": {}
    }
   ],
   "source": [
    "graf2 = px.scatter(podjetja, x=\"profit_B\", y=\"trzna_cena_B\",\n",
    "             color='mesto')\n",
    "graf2.update_layout(\n",
    "    title = \"Odvisnost trzne cene in profita od mesta na lestvici\",\n",
    "    title_font = {'size': 24},\n",
    ")\n",
    "graf2.update_yaxes(\n",
    "    title_text = \"trzna cena[miliard $]\"    \n",
    ")\n",
    "graf2.update_xaxes(\n",
    "    title_text = \"profit[miliard $]\"\n",
    ")\n",
    "graf2.show()"
   ]
  },
  {
   "cell_type": "code",
   "execution_count": 86,
   "metadata": {},
   "outputs": [
    {
     "output_type": "display_data",
     "data": {
      "application/vnd.plotly.v1+json": {
       "config": {
        "plotlyServerURL": "https://plot.ly"
       },
       "data": [
        {
         "hovertemplate": "profit_B=%{x}<br>trzna_cena_B=%{y}<br>ime=%{text}<extra></extra>",
         "legendgroup": "",
         "marker": {
          "color": "#636efa",
          "symbol": "circle"
         },
         "mode": "markers+text",
         "name": "",
         "orientation": "v",
         "showlegend": false,
         "text": [
          "Berkshire Hathaway",
          "Saudi Arabian Oil Company (Saudi Aramco)",
          "Apple",
          "Alphabet",
          "Microsoft",
          "Walmart",
          "Amazon",
          "Alibaba Group",
          "Johnson &amp; Johnson",
          "Facebook",
          "Tencent Holdings",
          "Visa"
         ],
         "textposition": "top center",
         "type": "scatter",
         "x": [
          81.4,
          88.2,
          57.2,
          34.5,
          46.3,
          14.9,
          10.6,
          24.7,
          17.2,
          21,
          13.5,
          11.9
         ],
         "xaxis": "x",
         "y": [
          455.4,
          1684.8,
          1285.5,
          919.3,
          1359,
          344.4,
          1233.4,
          545.4,
          395.3,
          583.7,
          509.7,
          383.9
         ],
         "yaxis": "y"
        }
       ],
       "layout": {
        "height": 600,
        "legend": {
         "tracegroupgap": 0
        },
        "margin": {
         "t": 60
        },
        "template": {
         "data": {
          "bar": [
           {
            "error_x": {
             "color": "#2a3f5f"
            },
            "error_y": {
             "color": "#2a3f5f"
            },
            "marker": {
             "line": {
              "color": "#E5ECF6",
              "width": 0.5
             }
            },
            "type": "bar"
           }
          ],
          "barpolar": [
           {
            "marker": {
             "line": {
              "color": "#E5ECF6",
              "width": 0.5
             }
            },
            "type": "barpolar"
           }
          ],
          "carpet": [
           {
            "aaxis": {
             "endlinecolor": "#2a3f5f",
             "gridcolor": "white",
             "linecolor": "white",
             "minorgridcolor": "white",
             "startlinecolor": "#2a3f5f"
            },
            "baxis": {
             "endlinecolor": "#2a3f5f",
             "gridcolor": "white",
             "linecolor": "white",
             "minorgridcolor": "white",
             "startlinecolor": "#2a3f5f"
            },
            "type": "carpet"
           }
          ],
          "choropleth": [
           {
            "colorbar": {
             "outlinewidth": 0,
             "ticks": ""
            },
            "type": "choropleth"
           }
          ],
          "contour": [
           {
            "colorbar": {
             "outlinewidth": 0,
             "ticks": ""
            },
            "colorscale": [
             [
              0,
              "#0d0887"
             ],
             [
              0.1111111111111111,
              "#46039f"
             ],
             [
              0.2222222222222222,
              "#7201a8"
             ],
             [
              0.3333333333333333,
              "#9c179e"
             ],
             [
              0.4444444444444444,
              "#bd3786"
             ],
             [
              0.5555555555555556,
              "#d8576b"
             ],
             [
              0.6666666666666666,
              "#ed7953"
             ],
             [
              0.7777777777777778,
              "#fb9f3a"
             ],
             [
              0.8888888888888888,
              "#fdca26"
             ],
             [
              1,
              "#f0f921"
             ]
            ],
            "type": "contour"
           }
          ],
          "contourcarpet": [
           {
            "colorbar": {
             "outlinewidth": 0,
             "ticks": ""
            },
            "type": "contourcarpet"
           }
          ],
          "heatmap": [
           {
            "colorbar": {
             "outlinewidth": 0,
             "ticks": ""
            },
            "colorscale": [
             [
              0,
              "#0d0887"
             ],
             [
              0.1111111111111111,
              "#46039f"
             ],
             [
              0.2222222222222222,
              "#7201a8"
             ],
             [
              0.3333333333333333,
              "#9c179e"
             ],
             [
              0.4444444444444444,
              "#bd3786"
             ],
             [
              0.5555555555555556,
              "#d8576b"
             ],
             [
              0.6666666666666666,
              "#ed7953"
             ],
             [
              0.7777777777777778,
              "#fb9f3a"
             ],
             [
              0.8888888888888888,
              "#fdca26"
             ],
             [
              1,
              "#f0f921"
             ]
            ],
            "type": "heatmap"
           }
          ],
          "heatmapgl": [
           {
            "colorbar": {
             "outlinewidth": 0,
             "ticks": ""
            },
            "colorscale": [
             [
              0,
              "#0d0887"
             ],
             [
              0.1111111111111111,
              "#46039f"
             ],
             [
              0.2222222222222222,
              "#7201a8"
             ],
             [
              0.3333333333333333,
              "#9c179e"
             ],
             [
              0.4444444444444444,
              "#bd3786"
             ],
             [
              0.5555555555555556,
              "#d8576b"
             ],
             [
              0.6666666666666666,
              "#ed7953"
             ],
             [
              0.7777777777777778,
              "#fb9f3a"
             ],
             [
              0.8888888888888888,
              "#fdca26"
             ],
             [
              1,
              "#f0f921"
             ]
            ],
            "type": "heatmapgl"
           }
          ],
          "histogram": [
           {
            "marker": {
             "colorbar": {
              "outlinewidth": 0,
              "ticks": ""
             }
            },
            "type": "histogram"
           }
          ],
          "histogram2d": [
           {
            "colorbar": {
             "outlinewidth": 0,
             "ticks": ""
            },
            "colorscale": [
             [
              0,
              "#0d0887"
             ],
             [
              0.1111111111111111,
              "#46039f"
             ],
             [
              0.2222222222222222,
              "#7201a8"
             ],
             [
              0.3333333333333333,
              "#9c179e"
             ],
             [
              0.4444444444444444,
              "#bd3786"
             ],
             [
              0.5555555555555556,
              "#d8576b"
             ],
             [
              0.6666666666666666,
              "#ed7953"
             ],
             [
              0.7777777777777778,
              "#fb9f3a"
             ],
             [
              0.8888888888888888,
              "#fdca26"
             ],
             [
              1,
              "#f0f921"
             ]
            ],
            "type": "histogram2d"
           }
          ],
          "histogram2dcontour": [
           {
            "colorbar": {
             "outlinewidth": 0,
             "ticks": ""
            },
            "colorscale": [
             [
              0,
              "#0d0887"
             ],
             [
              0.1111111111111111,
              "#46039f"
             ],
             [
              0.2222222222222222,
              "#7201a8"
             ],
             [
              0.3333333333333333,
              "#9c179e"
             ],
             [
              0.4444444444444444,
              "#bd3786"
             ],
             [
              0.5555555555555556,
              "#d8576b"
             ],
             [
              0.6666666666666666,
              "#ed7953"
             ],
             [
              0.7777777777777778,
              "#fb9f3a"
             ],
             [
              0.8888888888888888,
              "#fdca26"
             ],
             [
              1,
              "#f0f921"
             ]
            ],
            "type": "histogram2dcontour"
           }
          ],
          "mesh3d": [
           {
            "colorbar": {
             "outlinewidth": 0,
             "ticks": ""
            },
            "type": "mesh3d"
           }
          ],
          "parcoords": [
           {
            "line": {
             "colorbar": {
              "outlinewidth": 0,
              "ticks": ""
             }
            },
            "type": "parcoords"
           }
          ],
          "pie": [
           {
            "automargin": true,
            "type": "pie"
           }
          ],
          "scatter": [
           {
            "marker": {
             "colorbar": {
              "outlinewidth": 0,
              "ticks": ""
             }
            },
            "type": "scatter"
           }
          ],
          "scatter3d": [
           {
            "line": {
             "colorbar": {
              "outlinewidth": 0,
              "ticks": ""
             }
            },
            "marker": {
             "colorbar": {
              "outlinewidth": 0,
              "ticks": ""
             }
            },
            "type": "scatter3d"
           }
          ],
          "scattercarpet": [
           {
            "marker": {
             "colorbar": {
              "outlinewidth": 0,
              "ticks": ""
             }
            },
            "type": "scattercarpet"
           }
          ],
          "scattergeo": [
           {
            "marker": {
             "colorbar": {
              "outlinewidth": 0,
              "ticks": ""
             }
            },
            "type": "scattergeo"
           }
          ],
          "scattergl": [
           {
            "marker": {
             "colorbar": {
              "outlinewidth": 0,
              "ticks": ""
             }
            },
            "type": "scattergl"
           }
          ],
          "scattermapbox": [
           {
            "marker": {
             "colorbar": {
              "outlinewidth": 0,
              "ticks": ""
             }
            },
            "type": "scattermapbox"
           }
          ],
          "scatterpolar": [
           {
            "marker": {
             "colorbar": {
              "outlinewidth": 0,
              "ticks": ""
             }
            },
            "type": "scatterpolar"
           }
          ],
          "scatterpolargl": [
           {
            "marker": {
             "colorbar": {
              "outlinewidth": 0,
              "ticks": ""
             }
            },
            "type": "scatterpolargl"
           }
          ],
          "scatterternary": [
           {
            "marker": {
             "colorbar": {
              "outlinewidth": 0,
              "ticks": ""
             }
            },
            "type": "scatterternary"
           }
          ],
          "surface": [
           {
            "colorbar": {
             "outlinewidth": 0,
             "ticks": ""
            },
            "colorscale": [
             [
              0,
              "#0d0887"
             ],
             [
              0.1111111111111111,
              "#46039f"
             ],
             [
              0.2222222222222222,
              "#7201a8"
             ],
             [
              0.3333333333333333,
              "#9c179e"
             ],
             [
              0.4444444444444444,
              "#bd3786"
             ],
             [
              0.5555555555555556,
              "#d8576b"
             ],
             [
              0.6666666666666666,
              "#ed7953"
             ],
             [
              0.7777777777777778,
              "#fb9f3a"
             ],
             [
              0.8888888888888888,
              "#fdca26"
             ],
             [
              1,
              "#f0f921"
             ]
            ],
            "type": "surface"
           }
          ],
          "table": [
           {
            "cells": {
             "fill": {
              "color": "#EBF0F8"
             },
             "line": {
              "color": "white"
             }
            },
            "header": {
             "fill": {
              "color": "#C8D4E3"
             },
             "line": {
              "color": "white"
             }
            },
            "type": "table"
           }
          ]
         },
         "layout": {
          "annotationdefaults": {
           "arrowcolor": "#2a3f5f",
           "arrowhead": 0,
           "arrowwidth": 1
          },
          "coloraxis": {
           "colorbar": {
            "outlinewidth": 0,
            "ticks": ""
           }
          },
          "colorscale": {
           "diverging": [
            [
             0,
             "#8e0152"
            ],
            [
             0.1,
             "#c51b7d"
            ],
            [
             0.2,
             "#de77ae"
            ],
            [
             0.3,
             "#f1b6da"
            ],
            [
             0.4,
             "#fde0ef"
            ],
            [
             0.5,
             "#f7f7f7"
            ],
            [
             0.6,
             "#e6f5d0"
            ],
            [
             0.7,
             "#b8e186"
            ],
            [
             0.8,
             "#7fbc41"
            ],
            [
             0.9,
             "#4d9221"
            ],
            [
             1,
             "#276419"
            ]
           ],
           "sequential": [
            [
             0,
             "#0d0887"
            ],
            [
             0.1111111111111111,
             "#46039f"
            ],
            [
             0.2222222222222222,
             "#7201a8"
            ],
            [
             0.3333333333333333,
             "#9c179e"
            ],
            [
             0.4444444444444444,
             "#bd3786"
            ],
            [
             0.5555555555555556,
             "#d8576b"
            ],
            [
             0.6666666666666666,
             "#ed7953"
            ],
            [
             0.7777777777777778,
             "#fb9f3a"
            ],
            [
             0.8888888888888888,
             "#fdca26"
            ],
            [
             1,
             "#f0f921"
            ]
           ],
           "sequentialminus": [
            [
             0,
             "#0d0887"
            ],
            [
             0.1111111111111111,
             "#46039f"
            ],
            [
             0.2222222222222222,
             "#7201a8"
            ],
            [
             0.3333333333333333,
             "#9c179e"
            ],
            [
             0.4444444444444444,
             "#bd3786"
            ],
            [
             0.5555555555555556,
             "#d8576b"
            ],
            [
             0.6666666666666666,
             "#ed7953"
            ],
            [
             0.7777777777777778,
             "#fb9f3a"
            ],
            [
             0.8888888888888888,
             "#fdca26"
            ],
            [
             1,
             "#f0f921"
            ]
           ]
          },
          "colorway": [
           "#636efa",
           "#EF553B",
           "#00cc96",
           "#ab63fa",
           "#FFA15A",
           "#19d3f3",
           "#FF6692",
           "#B6E880",
           "#FF97FF",
           "#FECB52"
          ],
          "font": {
           "color": "#2a3f5f"
          },
          "geo": {
           "bgcolor": "white",
           "lakecolor": "white",
           "landcolor": "#E5ECF6",
           "showlakes": true,
           "showland": true,
           "subunitcolor": "white"
          },
          "hoverlabel": {
           "align": "left"
          },
          "hovermode": "closest",
          "mapbox": {
           "style": "light"
          },
          "paper_bgcolor": "white",
          "plot_bgcolor": "#E5ECF6",
          "polar": {
           "angularaxis": {
            "gridcolor": "white",
            "linecolor": "white",
            "ticks": ""
           },
           "bgcolor": "#E5ECF6",
           "radialaxis": {
            "gridcolor": "white",
            "linecolor": "white",
            "ticks": ""
           }
          },
          "scene": {
           "xaxis": {
            "backgroundcolor": "#E5ECF6",
            "gridcolor": "white",
            "gridwidth": 2,
            "linecolor": "white",
            "showbackground": true,
            "ticks": "",
            "zerolinecolor": "white"
           },
           "yaxis": {
            "backgroundcolor": "#E5ECF6",
            "gridcolor": "white",
            "gridwidth": 2,
            "linecolor": "white",
            "showbackground": true,
            "ticks": "",
            "zerolinecolor": "white"
           },
           "zaxis": {
            "backgroundcolor": "#E5ECF6",
            "gridcolor": "white",
            "gridwidth": 2,
            "linecolor": "white",
            "showbackground": true,
            "ticks": "",
            "zerolinecolor": "white"
           }
          },
          "shapedefaults": {
           "line": {
            "color": "#2a3f5f"
           }
          },
          "ternary": {
           "aaxis": {
            "gridcolor": "white",
            "linecolor": "white",
            "ticks": ""
           },
           "baxis": {
            "gridcolor": "white",
            "linecolor": "white",
            "ticks": ""
           },
           "bgcolor": "#E5ECF6",
           "caxis": {
            "gridcolor": "white",
            "linecolor": "white",
            "ticks": ""
           }
          },
          "title": {
           "x": 0.05
          },
          "xaxis": {
           "automargin": true,
           "gridcolor": "white",
           "linecolor": "white",
           "ticks": "",
           "title": {
            "standoff": 15
           },
           "zerolinecolor": "white",
           "zerolinewidth": 2
          },
          "yaxis": {
           "automargin": true,
           "gridcolor": "white",
           "linecolor": "white",
           "ticks": "",
           "title": {
            "standoff": 15
           },
           "zerolinecolor": "white",
           "zerolinewidth": 2
          }
         }
        },
        "title": {
         "font": {
          "size": 24
         },
         "text": "Največja podjetja"
        },
        "width": 700,
        "xaxis": {
         "anchor": "y",
         "domain": [
          0,
          1
         ],
         "range": [
          0,
          120
         ],
         "title": {
          "text": "profit[miliard $]"
         }
        },
        "yaxis": {
         "anchor": "x",
         "domain": [
          0,
          1
         ],
         "title": {
          "text": "trzna cena[miliard $]"
         }
        }
       }
      }
     },
     "metadata": {}
    }
   ],
   "source": [
    "najboljsa_podjetja = podjetja[podjetja['profit_B'] > 10][podjetja['trzna_cena_B'] > 300]\n",
    "\n",
    "\n",
    "graf10 = px.scatter(najboljsa_podjetja, x=\"profit_B\", y=\"trzna_cena_B\", text='ime')\n",
    "graf10.update_layout(\n",
    "    title = \"Največja podjetja\",\n",
    "    title_font = {'size': 24},\n",
    "    width = 700,\n",
    "    height = 600\n",
    ")\n",
    "graf10.update_traces(\n",
    "    textposition = 'top center'\n",
    ")\n",
    "\n",
    "graf10.update_yaxes(\n",
    "    title_text = \"trzna cena[miliard $]\" ,  \n",
    ")\n",
    "graf10.update_xaxes(\n",
    "    title_text = \"profit[miliard $]\",\n",
    "    range = [0, 120]   \n",
    ")\n",
    "graf10.show()"
   ]
  },
  {
   "source": [
    "Uspešnost podjetja bi se naivno dalo izračunati kot kvocient prodanega blaga in premoženske vrednosti. Količina profita na količino blaga pa naj predstavlja dodano vrednost ki jo podjetje prida svojemu izdelku. Spodji podatek kaže nepričakovana rezultata po katerih slednji kvaliteti nimata odvisnosti od mesta na lestvici. Podatek nemara ni tako presenetljiv, če upoštevamo, da se uspešnost najvidjeje prikazije pri manjših podjetjih."
   ],
   "cell_type": "markdown",
   "metadata": {}
  },
  {
   "cell_type": "code",
   "execution_count": 87,
   "metadata": {},
   "outputs": [
    {
     "output_type": "display_data",
     "data": {
      "application/vnd.plotly.v1+json": {
       "config": {
        "plotlyServerURL": "https://plot.ly"
       },
       "data": [
        {
         "hovertemplate": "Donosnost na premozensko vrednost=%{x}<br>Donosnost na prodajo=%{y}<br>mesto=%{marker.color}<extra></extra>",
         "legendgroup": "",
         "marker": {
          "color": [
           1,
           2,
           3,
           4,
           5,
           5,
           8,
           9,
           10,
           11,
           11,
           13,
           13,
           13,
           16,
           17,
           18,
           19,
           20,
           21,
           22,
           23,
           24,
           25,
           26,
           27,
           28,
           29,
           30,
           31,
           32,
           32,
           34,
           35,
           36,
           37,
           38,
           39,
           40,
           42,
           43,
           44,
           45,
           46,
           47,
           48,
           49,
           50,
           51,
           52,
           53,
           55,
           56,
           57,
           58,
           58,
           60,
           61,
           62,
           63,
           64,
           65,
           66,
           66,
           68,
           69,
           70,
           71,
           72,
           74,
           75,
           76,
           77,
           79,
           80,
           80,
           82,
           83,
           84,
           85,
           86,
           87,
           88,
           89,
           90,
           91,
           93,
           94,
           95,
           96,
           97,
           97,
           100,
           101,
           102,
           103,
           104,
           105,
           106,
           107,
           108,
           109,
           110,
           111,
           112,
           113,
           114,
           115,
           116,
           117,
           118,
           119,
           120,
           121,
           122,
           123,
           123,
           125,
           126,
           127,
           129,
           130,
           131,
           132,
           132,
           134,
           135,
           136,
           137,
           138,
           139,
           140,
           141,
           142,
           143,
           144,
           145,
           146,
           147,
           148,
           149,
           150,
           151,
           152,
           153,
           154,
           155,
           156,
           158,
           160,
           161,
           162,
           163,
           164,
           165,
           166,
           167,
           168,
           169,
           171,
           172,
           174,
           175,
           177,
           178,
           179,
           180,
           181,
           183,
           184,
           185,
           186,
           186,
           188,
           189,
           192,
           192,
           194,
           195,
           196,
           197,
           198,
           198,
           200,
           201,
           202,
           203,
           204,
           205,
           206,
           207,
           208,
           210,
           211,
           213,
           214,
           215,
           216,
           217,
           218,
           220,
           221,
           222,
           223,
           224,
           225,
           226,
           227,
           228,
           229,
           230,
           231,
           232,
           233,
           235,
           236,
           237,
           239,
           240,
           241,
           242,
           243,
           244,
           244,
           246,
           248,
           249,
           250,
           251,
           252,
           253,
           254,
           255,
           256,
           257,
           258,
           260,
           261,
           262,
           263,
           266,
           267,
           268,
           269,
           270,
           271,
           272,
           273,
           274,
           275,
           276,
           277,
           278,
           279,
           281,
           282,
           283,
           284,
           285,
           286,
           287,
           288,
           289,
           290,
           291,
           292,
           293,
           294,
           295,
           296,
           297,
           298,
           299,
           300,
           301,
           302,
           304,
           305,
           306,
           308,
           309,
           310,
           311,
           312,
           313,
           314,
           315,
           316,
           318,
           319,
           320,
           321,
           322,
           323,
           324,
           325,
           326,
           327,
           328,
           329,
           330,
           331,
           332,
           333,
           333,
           336,
           337,
           338,
           339,
           340,
           341,
           342,
           343,
           344,
           345,
           346,
           349,
           350,
           352,
           353,
           354,
           355,
           356,
           357,
           359,
           360,
           361,
           362,
           363,
           364,
           365,
           367,
           368,
           370,
           371,
           372,
           373,
           374,
           375,
           375,
           377,
           378,
           379,
           380,
           381,
           382,
           383,
           384,
           385,
           385,
           387,
           388,
           389,
           389,
           391,
           391,
           393,
           394,
           394,
           396,
           397,
           398,
           398,
           400,
           401,
           403,
           404,
           405,
           407,
           407,
           409,
           409,
           411,
           412,
           413,
           414,
           415,
           416,
           418,
           419
          ],
          "coloraxis": "coloraxis",
          "symbol": "circle"
         },
         "mode": "markers",
         "name": "",
         "orientation": "v",
         "showlegend": false,
         "type": "scatter",
         "x": [
          0.010480046269519953,
          0.010177917320774462,
          0.009555966108173537,
          0.0995475113122172,
          0.008356997971602434,
          0.22144112478031636,
          0.009198473282442748,
          0.17852684144818978,
          0.008030705639208739,
          0.026402640264026403,
          0.045849323369016357,
          0.12618873445501097,
          0.03943739658025372,
          0.16222845129642607,
          0.06034765496884224,
          0.007217483470448696,
          0.007703396702405622,
          0.06300211416490487,
          0.06247877758913412,
          0.025126903553299492,
          0.04792043399638336,
          0.02226758211170904,
          0.07297726070861979,
          0.007520067596113224,
          0.012512558224495386,
          0.04458841463414634,
          0.06626763574176998,
          0.041346505671423346,
          0.005911718339464004,
          0.1304118268215417,
          0.06843533313234851,
          0.016823859291358653,
          0.11096774193548387,
          0.008958165367732689,
          0.051767048282727726,
          0.015852293920179037,
          0.15368991198375084,
          0.15173410404624277,
          0.02942487739634418,
          0.003580394254907609,
          0.037423022264329704,
          0.001302351086434985,
          0.007875676815976373,
          0.008439201451905626,
          0.006788990825688073,
          0.009255129348795719,
          0.09432835820895523,
          0.09854014598540146,
          0.05867014341590612,
          0.0018665744901486348,
          0.024045801526717557,
          0.004271003978469459,
          0.038187159043222826,
          0.008803827751196171,
          0.04211956521739131,
          0.028804608737397982,
          0.012951334379905807,
          0.012215669755686604,
          0.03450292397660819,
          0.03121019108280255,
          0.004701457451810062,
          0.008355192849509375,
          0.023546200499464858,
          0.007997793712079426,
          0.09910641754670999,
          0.020762916465475616,
          0.044309296264118156,
          0.04215851602023609,
          0.0017536004775763005,
          0.1585081585081585,
          0.020272760781422778,
          0.01073579471065724,
          0.006485571952251151,
          0.020868970236058843,
          0.0079056679619456,
          0.003273992224268468,
          0.12278761061946901,
          0.022811671087533156,
          0.010162601626016262,
          0.007334402933761174,
          0.03937007874015749,
          0.0846063454759107,
          0.02955400322407308,
          0.029385964912280703,
          0.008131776480400333,
          0.03907922912205567,
          0.09188660801564028,
          0.11168562564632886,
          0.008641975308641974,
          0.10638297872340426,
          0.012474012474012473,
          0.06500956022944551,
          0.022829188748471257,
          0.016868896123113347,
          0.034858387799564274,
          0.011788543009762389,
          0.02874251497005988,
          0.058252427184466014,
          0.21874999999999997,
          0.08687068114511354,
          0.16774193548387098,
          0.004371186595027775,
          0.08665749656121045,
          0.020818115412710007,
          0.014982373678025853,
          0.00716158967117208,
          0.09111617312072894,
          0.002806191726260523,
          0.004572830693731876,
          0.02608695652173913,
          0.002419110976716057,
          0.08754208754208755,
          0.03001464128843338,
          0.033393501805054154,
          0.06820809248554914,
          0.03415409054805401,
          0.007094594594594595,
          0.005130444274642506,
          0.08088235294117647,
          0.038687973086627414,
          0.057112068965517244,
          0.01854427445526194,
          0.030352748154224774,
          0.00661455201443175,
          0.06982872200263504,
          0.021374927787406125,
          0.0468451242829828,
          0.03888888888888889,
          0.03519061583577713,
          0.02617397998460354,
          0.01122334455667789,
          0.005184929139301762,
          0.1590909090909091,
          0.0778688524590164,
          0.07426597582037997,
          0.022616136919315407,
          0.12601626016260162,
          0.01818181818181818,
          0.03963666391412056,
          0.007456616052060737,
          0.011288180610889775,
          0.06801736613603473,
          0.011581291759465479,
          0.032818532818532815,
          0.1039182282793867,
          0.007891414141414142,
          0.006284517234812416,
          0.027642276422764227,
          0.05239520958083833,
          0.004650622020695268,
          0.007054673721340388,
          0.12479740680713128,
          0.006914263137099961,
          0.004120488775220233,
          0.015241320914479255,
          0.03237095363079615,
          0.009844134536505332,
          0.07549504950495049,
          0.0232,
          0.003572066440435792,
          0.026972353337828724,
          0.0297029702970297,
          0.02943650126156434,
          0.024911032028469754,
          0.026558891454965358,
          0.007674144037780401,
          0.02902155887230514,
          0.0014517840192082192,
          0.09646302250803858,
          0.06303236797274275,
          0.047540983606557376,
          0.08375209380234505,
          0.05281090289608177,
          0.05817610062893082,
          0.01408450704225352,
          0.03209876543209877,
          0.003129251700680272,
          0.005394605394605395,
          0.10822510822510822,
          0.07710280373831775,
          0.026369168356997975,
          0.019027484143763214,
          0.06394316163410302,
          0.009521700620017714,
          0.055384615384615386,
          0.003748047891723061,
          0.20266666666666666,
          0.02110817941952507,
          0.14925373134328357,
          0.004413619167717528,
          0.004698266861557737,
          0.010570236439499303,
          0.037477148080438755,
          0.018134715025906734,
          0.00539538020569887,
          0.06331471135940409,
          0.011812812358019084,
          0.02018927444794953,
          0.01912928759894459,
          0.021937842778793418,
          0.0017438692098092645,
          0.13994910941475827,
          0.01825168107588857,
          0.02755620014503263,
          0.009439050701186624,
          0.06607929515418502,
          0.04186795491143317,
          0.05346534653465347,
          0.0018390804597701149,
          0.08499999999999999,
          0.0032097004279600574,
          0.00613154960981048,
          0.029064486830154408,
          0.05575539568345324,
          0.07514450867052024,
          0.02777777777777778,
          0.026223776223776224,
          0.05102040816326531,
          0.027925531914893616,
          0.053240740740740734,
          0.00044322363859405835,
          0.008845643520566122,
          0.13015873015873014,
          0.16412213740458015,
          0.08933002481389579,
          0.0412573673870334,
          0.04873294346978558,
          0.005961251862891207,
          0.08415841584158416,
          0.0318840579710145,
          0.002637423653525819,
          0.017964071856287425,
          0.007111597374179431,
          0.04207119741100324,
          0.056133056133056136,
          0.12539184952978058,
          0.008272058823529414,
          0.022756005056890016,
          0.023255813953488372,
          0.050946142649199416,
          0.03549060542797495,
          0.01738050900062073,
          0.006070755704416998,
          0.060606060606060615,
          0.04922779922779923,
          0.0070438536696205405,
          0.006676036542515811,
          0.09285714285714286,
          0.06227758007117437,
          0.2581699346405229,
          0.01348747591522158,
          0.04637096774193548,
          0.006001333629695489,
          0.02342158859470468,
          0.010638297872340425,
          0.007886034088018315,
          0.06262230919765166,
          0.06267806267806268,
          0.01272590361445783,
          0.01951219512195122,
          0.028865979381443297,
          0.12363636363636363,
          0.02402022756005057,
          0.035019455252918295,
          0.002729608220937701,
          0.025380710659898477,
          0.13692946058091285,
          0.05134474327628362,
          0.006620689655172414,
          0.02355072463768116,
          0.11964735516372794,
          0.03036876355748373,
          0.005405405405405405,
          0.05172413793103448,
          0.0576036866359447,
          0.09463722397476342,
          0.020338983050847456,
          0.06406685236768803,
          0.06581059390048154,
          0.030241935483870965,
          0.003076278290025147,
          0.00837728824076947,
          0.03409090909090909,
          0.1906614785992218,
          0.09685230024213076,
          0.044233807266982623,
          0.005609573672400898,
          0.04046997389033943,
          0.045346062052505964,
          0.014864864864864866,
          0.0007693266832917706,
          0.01838235294117647,
          0.07868852459016393,
          0.04347826086956522,
          0.05386416861826697,
          0.08467741935483872,
          0.0012798530312308632,
          0.07438016528925621,
          0.004053321154340193,
          0.0591715976331361,
          0.016693163751987282,
          0.028520499108734405,
          0.08505154639175258,
          0.008807801195344448,
          0.3068783068783069,
          0.1118421052631579,
          0.07277628032345014,
          0.0334855403348554,
          0.06818181818181818,
          0.003267380649845707,
          0.022988505747126433,
          0.2421875,
          0.05674846625766871,
          0.017288461538461537,
          0.07482993197278913,
          0.026833631484794278,
          0.00980392156862745,
          0.017687074829931974,
          0.05732484076433121,
          0.012516469038208166,
          0.06772908366533864,
          0.09698996655518395,
          0.0900900900900901,
          -0.012048192771084338,
          0.02505694760820046,
          0.011627906976744186,
          0.11372549019607843,
          0.003472222222222222,
          0.042959427207637235,
          0.0050890585241730275,
          0.019230769230769232,
          0.022321428571428572,
          0.10122699386503066,
          0.00791651673263764,
          0.02044790652385589,
          0.027659574468085108,
          0.06953642384105961,
          0.02280701754385965,
          0.06513409961685823,
          0.2875,
          0.0024822493609769954,
          0.14052287581699346,
          0.019520851818988466,
          0.029591836734693875,
          0.05337078651685393,
          0.07692307692307693,
          0.0035342627135283725,
          0.05681818181818182,
          0.024745269286754003,
          0.0429042904290429,
          0.01511879049676026,
          0.06417112299465241,
          0.05507246376811594,
          0.03821656050955414,
          0.010349926071956629,
          0.09278350515463918,
          0.0031894535402934294,
          0.011946564885496183,
          0.06999999999999999,
          0.02292899408284024,
          0.06578947368421052,
          0.006746987951807229,
          0.0025453928389614798,
          0.024960998439937602,
          0.047058823529411764,
          0.24334600760456274,
          0.03221288515406162,
          0.05539358600583091,
          0.0051813471502590676,
          0.02656546489563567,
          0.022375215146299483,
          0.031818181818181815,
          0.01152258064516129,
          0.006455777921239509,
          -0.023759608665269043,
          0.06028368794326241,
          0.04263565891472868,
          0.2832369942196532,
          0.15094339622641512,
          0.007146974063400576
         ],
         "xaxis": "x",
         "y": [
          0.25564334085778784,
          0.23997532387415177,
          0.2099370188943317,
          0.31971720345640225,
          0.20780094149293882,
          0.26743480897513644,
          0.21498661909009814,
          0.21367202091893914,
          0.20088626292466763,
          0.08035714285714286,
          0.08092691622103386,
          0.20745640408899577,
          0.055859375,
          0.33405483405483405,
          0.09311740890688258,
          0.14459049544994945,
          0.16379310344827586,
          0.028435114503816795,
          0.1400304414003044,
          0.03177150192554557,
          0.03577455281808977,
          0.0436046511627907,
          0.05602923264311815,
          0.0727124183006536,
          0.2345890410958904,
          0.1076356945722171,
          0.14338575393154487,
          0.06413166855845631,
          0.13975155279503104,
          0.34985835694050993,
          0.18515497553017946,
          0.018126888217522657,
          0.20772946859903382,
          0.19646365422396858,
          0.13903743315508021,
          0.08196721311475409,
          0.2998678996036988,
          0.2861035422343324,
          0.025700934579439248,
          0.06796875,
          0.07208029197080293,
          0.05654761904761904,
          0.16816816816816818,
          0.20758928571428575,
          0.137291280148423,
          0.15660377358490568,
          0.3116370808678501,
          0.24725274725274723,
          0.11764705882352941,
          0.08985024958402663,
          0.06306306306306306,
          0.08183856502242152,
          0.1739961759082218,
          0.1832669322709163,
          0.07311320754716981,
          0.07575757575757576,
          0.008938244853737811,
          0.02069950035688794,
          0.060574948665297744,
          0.03171521035598706,
          0.02666666666666667,
          0.172,
          0.16136919315403422,
          0.03318077803203661,
          0.2510288065843621,
          0.04772475027746948,
          0.12927756653992395,
          0.07112375533428165,
          0.04185218165627783,
          0.2197092084006462,
          0.04716981132075472,
          0.057103064066852366,
          0.09543568464730291,
          0.03004926108374384,
          0.0855072463768116,
          0.1322314049586777,
          0.21511627906976744,
          0.030196629213483143,
          0.2564102564102564,
          0.18390804597701152,
          0.07133592736705578,
          0.10557184750733138,
          0.11752136752136753,
          0.04883381924198251,
          0.16082474226804122,
          0.2212121212121212,
          0.2052401746724891,
          0.27135678391959805,
          0.04052098408104197,
          0.26881720430107525,
          0.02771362586605081,
          0.15212527964205816,
          0.10467289719626167,
          0.09193548387096774,
          0.09619238476953908,
          0.24710424710424714,
          0.03409090909090909,
          0.04391582799634035,
          0.10163339382940108,
          0.1323308270676692,
          0.34391534391534395,
          0.14035087719298245,
          0.10824742268041236,
          0.08131241084165479,
          0.06390977443609022,
          0.1440162271805274,
          0.18518518518518517,
          0.04821150855365475,
          0.06317411402157164,
          0.08168316831683169,
          0.06460296096904442,
          0.23423423423423426,
          0.10327455919395465,
          0.021412037037037035,
          0.12343096234309625,
          0.11466666666666667,
          0.07204116638078903,
          0.11380145278450364,
          0.2619047619047619,
          0.0500544069640914,
          0.17041800643086816,
          0.07168458781362008,
          0.030553261767134604,
          0.1512027491408935,
          0.10392156862745097,
          0.10882352941176471,
          0.047526673132880705,
          0.02523431867339582,
          0.06593406593406594,
          0.13026819923371646,
          0.23255813953488372,
          0.032644178454842215,
          0.5063829787234043,
          0.023989898989898988,
          0.05748663101604278,
          0.14741035856573706,
          0.10147299509001637,
          0.18357487922705315,
          0.10835214446952596,
          0.1544943820224719,
          0.03711790393013101,
          0.15112540192926044,
          0.053608247422680416,
          0.13350785340314134,
          0.1662125340599455,
          0.03602305475504323,
          0.06586826347305388,
          0.0718816067653277,
          0.10903426791277258,
          0.12195121951219513,
          0.090032154340836,
          0.32217573221757323,
          0.20348837209302326,
          0.12133891213389121,
          0.02985074626865672,
          0.056488549618320616,
          0.14457831325301207,
          0.17428571428571427,
          0.08579881656804735,
          0.03913894324853229,
          0.12903225806451613,
          0.05514705882352941,
          0.16826923076923075,
          0.27814569536423844,
          0.08156028368794326,
          0.18055555555555555,
          0.20348837209302326,
          0.09027777777777778,
          0.27777777777777773,
          0.14453125,
          0.04090267983074753,
          0.22123893805309733,
          0.028864059590316574,
          0.1423076923076923,
          0.025414364640883976,
          0.1145374449339207,
          0.026995305164319246,
          0.2634146341463415,
          0.15479876160990713,
          0.04225352112676056,
          0.02106969205834684,
          0.021712907117008445,
          0.09207161125319693,
          0.296551724137931,
          0.12203389830508475,
          0.125,
          0.25165562913907286,
          0.026037428803905614,
          0.11185682326621924,
          0.038781163434903045,
          0.19148936170212766,
          0.09047619047619047,
          0.1898148148148148,
          0.023972602739726026,
          0.03575418994413408,
          0.08762886597938145,
          0.05138339920948617,
          0.04092071611253197,
          0.1318181818181818,
          0.07547169811320754,
          0.008126984126984127,
          0.23809523809523808,
          0.07539682539682539,
          0.15019762845849802,
          0.30434782608695654,
          0.058027079303675046,
          0.1306532663316583,
          0.08881578947368422,
          0.058577405857740586,
          0.08521303258145363,
          0.02875399361022364,
          0.01636904761904762,
          0.02642444260941371,
          0.07142857142857144,
          0.03840472673559823,
          0.11981566820276499,
          0.05725190839694656,
          0.10204081632653061,
          0.05303030303030303,
          0.06705539358600583,
          0.02314763231197772,
          0.08130081300813008,
          0.12974683544303794,
          0.10411622276029056,
          0.125,
          0.07420494699646643,
          0.14285714285714285,
          0.08264462809917356,
          0.27530364372469635,
          0.07612456747404846,
          0.07692307692307693,
          0.014510278113663844,
          0.0625,
          0.03693181818181818,
          0.09608540925266904,
          0.16194331983805668,
          0.18120805369127518,
          0.06642066420664207,
          0.09999999999999999,
          0.07760532150776053,
          0.013900245298446443,
          0.03508771929824561,
          0.0855457227138643,
          0.07321131447587355,
          0.45535714285714285,
          0.14553990610328638,
          0.05705705705705706,
          0.23214285714285712,
          0.11705685618729098,
          0.4647058823529412,
          0.08536585365853659,
          0.11734693877551018,
          0.07238605898123325,
          0.17424242424242423,
          0.26666666666666666,
          0.17318435754189945,
          0.16,
          0.10280373831775702,
          0.010279805352798052,
          0.03800475059382423,
          0.06845965770171149,
          0.12734082397003746,
          0.12258064516129032,
          0.05410821643286574,
          0.13076923076923078,
          0.14084507042253522,
          0.07913669064748201,
          0.05084745762711865,
          0.19512195121951217,
          0.05603448275862069,
          0.6462585034013606,
          0.049999999999999996,
          0.12041884816753926,
          0.13259668508287292,
          0.17006802721088435,
          0.051369863013698634,
          0.061538461538461535,
          0.10222222222222221,
          0.2383720930232558,
          0.08287292817679558,
          0.014979591836734696,
          0.20930232558139536,
          0.023291925465838508,
          0.21585903083700442,
          0.18099547511312217,
          0.09459459459459459,
          0.04087193460490463,
          0.31632653061224486,
          0.06761565836298931,
          0.19130434782608696,
          0.016109660574412533,
          0.015706806282722512,
          0.1348314606741573,
          0.04883720930232558,
          0.057499999999999996,
          0.036521739130434785,
          0.0022093023255813954,
          0.08359133126934985,
          0.11563517915309446,
          0.04640371229698376,
          0.08333333333333334,
          0.033542976939203356,
          0.2796610169491525,
          0.288659793814433,
          0.3169398907103825,
          0.09798270893371756,
          0.1534090909090909,
          0.20370370370370372,
          0.10047846889952154,
          0.09079445145018916,
          0.04477611940298507,
          0.5486725663716814,
          0.3394495412844037,
          0.05166666666666667,
          0.14666666666666667,
          0.04731861198738171,
          0.19047619047619047,
          0.1015625,
          0.10465116279069768,
          0.13194444444444445,
          0.06115107913669064,
          0.20422535211267606,
          0.4123711340206186,
          -0.01215022091310751,
          0.03333333333333333,
          0.03963414634146342,
          0.21641791044776118,
          0.05970149253731343,
          0.10112359550561797,
          0.047058823529411764,
          0.02443609022556391,
          0.08571428571428572,
          0.29464285714285715,
          0.11640211640211642,
          0.10144927536231885,
          0.03051643192488263,
          0.125,
          0.01566265060240964,
          0.07234042553191489,
          0.20814479638009048,
          0.02774603174603175,
          0.3981481481481481,
          0.15602836879432624,
          0.1895424836601307,
          0.07037037037037036,
          0.08641975308641975,
          0.13043478260869565,
          0.050335570469798654,
          0.08292682926829269,
          0.05963302752293578,
          0.31818181818181823,
          0.21621621621621623,
          0.0811965811965812,
          0.02575107296137339,
          0.24418604651162792,
          0.02975206611570248,
          0.032188841201716736,
          0.013206751054852322,
          0.288659793814433,
          0.4558823529411765,
          0.06,
          0.09929078014184396,
          0.09375,
          0.04371584699453552,
          0.09756097560975611,
          0.627450980392157,
          0.04129263913824057,
          0.08189655172413793,
          0.02293577981651376,
          0.1217391304347826,
          0.10400000000000001,
          0.05785123966942148,
          0.08754901960784314,
          0.14492753623188406,
          -0.0481586402266289,
          0.10967741935483871,
          0.025581395348837212,
          0.34751773049645396,
          0.27586206896551724,
          0.013893557422969187
         ],
         "yaxis": "y"
        }
       ],
       "layout": {
        "annotations": [
         {
          "arrowcolor": "#636363",
          "arrowhead": 1,
          "ax": 20,
          "ay": -250,
          "bgcolor": "#ADD8E6",
          "borderpad": 4,
          "borderwidth": 2,
          "opacity": 0.8,
          "showarrow": true,
          "text": "Vidimo, da nekatera podjetja beležijo izgubo.",
          "x": -0.023,
          "y": -0.048
         }
        ],
        "coloraxis": {
         "colorbar": {
          "title": {
           "text": "mesto"
          }
         },
         "colorscale": [
          [
           0,
           "#0d0887"
          ],
          [
           0.1111111111111111,
           "#46039f"
          ],
          [
           0.2222222222222222,
           "#7201a8"
          ],
          [
           0.3333333333333333,
           "#9c179e"
          ],
          [
           0.4444444444444444,
           "#bd3786"
          ],
          [
           0.5555555555555556,
           "#d8576b"
          ],
          [
           0.6666666666666666,
           "#ed7953"
          ],
          [
           0.7777777777777778,
           "#fb9f3a"
          ],
          [
           0.8888888888888888,
           "#fdca26"
          ],
          [
           1,
           "#f0f921"
          ]
         ]
        },
        "height": 450,
        "legend": {
         "tracegroupgap": 0
        },
        "margin": {
         "t": 60
        },
        "template": {
         "data": {
          "bar": [
           {
            "error_x": {
             "color": "#2a3f5f"
            },
            "error_y": {
             "color": "#2a3f5f"
            },
            "marker": {
             "line": {
              "color": "#E5ECF6",
              "width": 0.5
             }
            },
            "type": "bar"
           }
          ],
          "barpolar": [
           {
            "marker": {
             "line": {
              "color": "#E5ECF6",
              "width": 0.5
             }
            },
            "type": "barpolar"
           }
          ],
          "carpet": [
           {
            "aaxis": {
             "endlinecolor": "#2a3f5f",
             "gridcolor": "white",
             "linecolor": "white",
             "minorgridcolor": "white",
             "startlinecolor": "#2a3f5f"
            },
            "baxis": {
             "endlinecolor": "#2a3f5f",
             "gridcolor": "white",
             "linecolor": "white",
             "minorgridcolor": "white",
             "startlinecolor": "#2a3f5f"
            },
            "type": "carpet"
           }
          ],
          "choropleth": [
           {
            "colorbar": {
             "outlinewidth": 0,
             "ticks": ""
            },
            "type": "choropleth"
           }
          ],
          "contour": [
           {
            "colorbar": {
             "outlinewidth": 0,
             "ticks": ""
            },
            "colorscale": [
             [
              0,
              "#0d0887"
             ],
             [
              0.1111111111111111,
              "#46039f"
             ],
             [
              0.2222222222222222,
              "#7201a8"
             ],
             [
              0.3333333333333333,
              "#9c179e"
             ],
             [
              0.4444444444444444,
              "#bd3786"
             ],
             [
              0.5555555555555556,
              "#d8576b"
             ],
             [
              0.6666666666666666,
              "#ed7953"
             ],
             [
              0.7777777777777778,
              "#fb9f3a"
             ],
             [
              0.8888888888888888,
              "#fdca26"
             ],
             [
              1,
              "#f0f921"
             ]
            ],
            "type": "contour"
           }
          ],
          "contourcarpet": [
           {
            "colorbar": {
             "outlinewidth": 0,
             "ticks": ""
            },
            "type": "contourcarpet"
           }
          ],
          "heatmap": [
           {
            "colorbar": {
             "outlinewidth": 0,
             "ticks": ""
            },
            "colorscale": [
             [
              0,
              "#0d0887"
             ],
             [
              0.1111111111111111,
              "#46039f"
             ],
             [
              0.2222222222222222,
              "#7201a8"
             ],
             [
              0.3333333333333333,
              "#9c179e"
             ],
             [
              0.4444444444444444,
              "#bd3786"
             ],
             [
              0.5555555555555556,
              "#d8576b"
             ],
             [
              0.6666666666666666,
              "#ed7953"
             ],
             [
              0.7777777777777778,
              "#fb9f3a"
             ],
             [
              0.8888888888888888,
              "#fdca26"
             ],
             [
              1,
              "#f0f921"
             ]
            ],
            "type": "heatmap"
           }
          ],
          "heatmapgl": [
           {
            "colorbar": {
             "outlinewidth": 0,
             "ticks": ""
            },
            "colorscale": [
             [
              0,
              "#0d0887"
             ],
             [
              0.1111111111111111,
              "#46039f"
             ],
             [
              0.2222222222222222,
              "#7201a8"
             ],
             [
              0.3333333333333333,
              "#9c179e"
             ],
             [
              0.4444444444444444,
              "#bd3786"
             ],
             [
              0.5555555555555556,
              "#d8576b"
             ],
             [
              0.6666666666666666,
              "#ed7953"
             ],
             [
              0.7777777777777778,
              "#fb9f3a"
             ],
             [
              0.8888888888888888,
              "#fdca26"
             ],
             [
              1,
              "#f0f921"
             ]
            ],
            "type": "heatmapgl"
           }
          ],
          "histogram": [
           {
            "marker": {
             "colorbar": {
              "outlinewidth": 0,
              "ticks": ""
             }
            },
            "type": "histogram"
           }
          ],
          "histogram2d": [
           {
            "colorbar": {
             "outlinewidth": 0,
             "ticks": ""
            },
            "colorscale": [
             [
              0,
              "#0d0887"
             ],
             [
              0.1111111111111111,
              "#46039f"
             ],
             [
              0.2222222222222222,
              "#7201a8"
             ],
             [
              0.3333333333333333,
              "#9c179e"
             ],
             [
              0.4444444444444444,
              "#bd3786"
             ],
             [
              0.5555555555555556,
              "#d8576b"
             ],
             [
              0.6666666666666666,
              "#ed7953"
             ],
             [
              0.7777777777777778,
              "#fb9f3a"
             ],
             [
              0.8888888888888888,
              "#fdca26"
             ],
             [
              1,
              "#f0f921"
             ]
            ],
            "type": "histogram2d"
           }
          ],
          "histogram2dcontour": [
           {
            "colorbar": {
             "outlinewidth": 0,
             "ticks": ""
            },
            "colorscale": [
             [
              0,
              "#0d0887"
             ],
             [
              0.1111111111111111,
              "#46039f"
             ],
             [
              0.2222222222222222,
              "#7201a8"
             ],
             [
              0.3333333333333333,
              "#9c179e"
             ],
             [
              0.4444444444444444,
              "#bd3786"
             ],
             [
              0.5555555555555556,
              "#d8576b"
             ],
             [
              0.6666666666666666,
              "#ed7953"
             ],
             [
              0.7777777777777778,
              "#fb9f3a"
             ],
             [
              0.8888888888888888,
              "#fdca26"
             ],
             [
              1,
              "#f0f921"
             ]
            ],
            "type": "histogram2dcontour"
           }
          ],
          "mesh3d": [
           {
            "colorbar": {
             "outlinewidth": 0,
             "ticks": ""
            },
            "type": "mesh3d"
           }
          ],
          "parcoords": [
           {
            "line": {
             "colorbar": {
              "outlinewidth": 0,
              "ticks": ""
             }
            },
            "type": "parcoords"
           }
          ],
          "pie": [
           {
            "automargin": true,
            "type": "pie"
           }
          ],
          "scatter": [
           {
            "marker": {
             "colorbar": {
              "outlinewidth": 0,
              "ticks": ""
             }
            },
            "type": "scatter"
           }
          ],
          "scatter3d": [
           {
            "line": {
             "colorbar": {
              "outlinewidth": 0,
              "ticks": ""
             }
            },
            "marker": {
             "colorbar": {
              "outlinewidth": 0,
              "ticks": ""
             }
            },
            "type": "scatter3d"
           }
          ],
          "scattercarpet": [
           {
            "marker": {
             "colorbar": {
              "outlinewidth": 0,
              "ticks": ""
             }
            },
            "type": "scattercarpet"
           }
          ],
          "scattergeo": [
           {
            "marker": {
             "colorbar": {
              "outlinewidth": 0,
              "ticks": ""
             }
            },
            "type": "scattergeo"
           }
          ],
          "scattergl": [
           {
            "marker": {
             "colorbar": {
              "outlinewidth": 0,
              "ticks": ""
             }
            },
            "type": "scattergl"
           }
          ],
          "scattermapbox": [
           {
            "marker": {
             "colorbar": {
              "outlinewidth": 0,
              "ticks": ""
             }
            },
            "type": "scattermapbox"
           }
          ],
          "scatterpolar": [
           {
            "marker": {
             "colorbar": {
              "outlinewidth": 0,
              "ticks": ""
             }
            },
            "type": "scatterpolar"
           }
          ],
          "scatterpolargl": [
           {
            "marker": {
             "colorbar": {
              "outlinewidth": 0,
              "ticks": ""
             }
            },
            "type": "scatterpolargl"
           }
          ],
          "scatterternary": [
           {
            "marker": {
             "colorbar": {
              "outlinewidth": 0,
              "ticks": ""
             }
            },
            "type": "scatterternary"
           }
          ],
          "surface": [
           {
            "colorbar": {
             "outlinewidth": 0,
             "ticks": ""
            },
            "colorscale": [
             [
              0,
              "#0d0887"
             ],
             [
              0.1111111111111111,
              "#46039f"
             ],
             [
              0.2222222222222222,
              "#7201a8"
             ],
             [
              0.3333333333333333,
              "#9c179e"
             ],
             [
              0.4444444444444444,
              "#bd3786"
             ],
             [
              0.5555555555555556,
              "#d8576b"
             ],
             [
              0.6666666666666666,
              "#ed7953"
             ],
             [
              0.7777777777777778,
              "#fb9f3a"
             ],
             [
              0.8888888888888888,
              "#fdca26"
             ],
             [
              1,
              "#f0f921"
             ]
            ],
            "type": "surface"
           }
          ],
          "table": [
           {
            "cells": {
             "fill": {
              "color": "#EBF0F8"
             },
             "line": {
              "color": "white"
             }
            },
            "header": {
             "fill": {
              "color": "#C8D4E3"
             },
             "line": {
              "color": "white"
             }
            },
            "type": "table"
           }
          ]
         },
         "layout": {
          "annotationdefaults": {
           "arrowcolor": "#2a3f5f",
           "arrowhead": 0,
           "arrowwidth": 1
          },
          "coloraxis": {
           "colorbar": {
            "outlinewidth": 0,
            "ticks": ""
           }
          },
          "colorscale": {
           "diverging": [
            [
             0,
             "#8e0152"
            ],
            [
             0.1,
             "#c51b7d"
            ],
            [
             0.2,
             "#de77ae"
            ],
            [
             0.3,
             "#f1b6da"
            ],
            [
             0.4,
             "#fde0ef"
            ],
            [
             0.5,
             "#f7f7f7"
            ],
            [
             0.6,
             "#e6f5d0"
            ],
            [
             0.7,
             "#b8e186"
            ],
            [
             0.8,
             "#7fbc41"
            ],
            [
             0.9,
             "#4d9221"
            ],
            [
             1,
             "#276419"
            ]
           ],
           "sequential": [
            [
             0,
             "#0d0887"
            ],
            [
             0.1111111111111111,
             "#46039f"
            ],
            [
             0.2222222222222222,
             "#7201a8"
            ],
            [
             0.3333333333333333,
             "#9c179e"
            ],
            [
             0.4444444444444444,
             "#bd3786"
            ],
            [
             0.5555555555555556,
             "#d8576b"
            ],
            [
             0.6666666666666666,
             "#ed7953"
            ],
            [
             0.7777777777777778,
             "#fb9f3a"
            ],
            [
             0.8888888888888888,
             "#fdca26"
            ],
            [
             1,
             "#f0f921"
            ]
           ],
           "sequentialminus": [
            [
             0,
             "#0d0887"
            ],
            [
             0.1111111111111111,
             "#46039f"
            ],
            [
             0.2222222222222222,
             "#7201a8"
            ],
            [
             0.3333333333333333,
             "#9c179e"
            ],
            [
             0.4444444444444444,
             "#bd3786"
            ],
            [
             0.5555555555555556,
             "#d8576b"
            ],
            [
             0.6666666666666666,
             "#ed7953"
            ],
            [
             0.7777777777777778,
             "#fb9f3a"
            ],
            [
             0.8888888888888888,
             "#fdca26"
            ],
            [
             1,
             "#f0f921"
            ]
           ]
          },
          "colorway": [
           "#636efa",
           "#EF553B",
           "#00cc96",
           "#ab63fa",
           "#FFA15A",
           "#19d3f3",
           "#FF6692",
           "#B6E880",
           "#FF97FF",
           "#FECB52"
          ],
          "font": {
           "color": "#2a3f5f"
          },
          "geo": {
           "bgcolor": "white",
           "lakecolor": "white",
           "landcolor": "#E5ECF6",
           "showlakes": true,
           "showland": true,
           "subunitcolor": "white"
          },
          "hoverlabel": {
           "align": "left"
          },
          "hovermode": "closest",
          "mapbox": {
           "style": "light"
          },
          "paper_bgcolor": "white",
          "plot_bgcolor": "#E5ECF6",
          "polar": {
           "angularaxis": {
            "gridcolor": "white",
            "linecolor": "white",
            "ticks": ""
           },
           "bgcolor": "#E5ECF6",
           "radialaxis": {
            "gridcolor": "white",
            "linecolor": "white",
            "ticks": ""
           }
          },
          "scene": {
           "xaxis": {
            "backgroundcolor": "#E5ECF6",
            "gridcolor": "white",
            "gridwidth": 2,
            "linecolor": "white",
            "showbackground": true,
            "ticks": "",
            "zerolinecolor": "white"
           },
           "yaxis": {
            "backgroundcolor": "#E5ECF6",
            "gridcolor": "white",
            "gridwidth": 2,
            "linecolor": "white",
            "showbackground": true,
            "ticks": "",
            "zerolinecolor": "white"
           },
           "zaxis": {
            "backgroundcolor": "#E5ECF6",
            "gridcolor": "white",
            "gridwidth": 2,
            "linecolor": "white",
            "showbackground": true,
            "ticks": "",
            "zerolinecolor": "white"
           }
          },
          "shapedefaults": {
           "line": {
            "color": "#2a3f5f"
           }
          },
          "ternary": {
           "aaxis": {
            "gridcolor": "white",
            "linecolor": "white",
            "ticks": ""
           },
           "baxis": {
            "gridcolor": "white",
            "linecolor": "white",
            "ticks": ""
           },
           "bgcolor": "#E5ECF6",
           "caxis": {
            "gridcolor": "white",
            "linecolor": "white",
            "ticks": ""
           }
          },
          "title": {
           "x": 0.05
          },
          "xaxis": {
           "automargin": true,
           "gridcolor": "white",
           "linecolor": "white",
           "ticks": "",
           "title": {
            "standoff": 15
           },
           "zerolinecolor": "white",
           "zerolinewidth": 2
          },
          "yaxis": {
           "automargin": true,
           "gridcolor": "white",
           "linecolor": "white",
           "ticks": "",
           "title": {
            "standoff": 15
           },
           "zerolinecolor": "white",
           "zerolinewidth": 2
          }
         }
        },
        "title": {
         "font": {
          "size": 24
         },
         "text": "Prikaz nepovezanih spremenljivk"
        },
        "width": 900,
        "xaxis": {
         "anchor": "y",
         "domain": [
          0,
          1
         ],
         "title": {
          "text": "Donosnost glede na oceno premoženske vrednosti"
         }
        },
        "yaxis": {
         "anchor": "x",
         "domain": [
          0,
          1
         ],
         "title": {
          "text": "Donosnost na kolicino prodanega"
         }
        }
       }
      }
     },
     "metadata": {}
    }
   ],
   "source": [
    "graf6 = px.scatter(podjetja.drop([365]), x=\"Donosnost na premozensko vrednost\", y=\"Donosnost na prodajo\",\n",
    "             color='mesto')\n",
    "graf6.add_annotation(x = -0.023, y=-0.048,\n",
    "    text=\"Vidimo, da nekatera podjetja beležijo izgubo.\",\n",
    "    showarrow=True,\n",
    "    arrowhead=1,\n",
    "    ax = 20,\n",
    "    ay = -250,\n",
    "    borderwidth=2,\n",
    "    borderpad=4,\n",
    "    bgcolor=\"#ADD8E6\",\n",
    "    opacity=0.8,\n",
    "    arrowcolor=\"#636363\",\n",
    "    )\n",
    "graf6.update_layout(\n",
    "    title = \"Prikaz nepovezanih spremenljivk\",\n",
    "    title_font = {'size': 24},\n",
    "    width = 900,\n",
    "    height = 450\n",
    ")\n",
    "graf6.update_yaxes(\n",
    "    title_text = \"Donosnost na kolicino prodanega\"    \n",
    ")\n",
    "graf6.update_xaxes(\n",
    "    title_text = \"Donosnost glede na oceno premoženske vrednosti\"\n",
    ")\n",
    "graf6.show()"
   ]
  },
  {
   "source": [
    "Še zadnja tema v načrtu korelacija podatkov z letom_ustanovitve. Najbolj očitna sta primerjavi glede na panoge in celine ki dajeta pričakovane rezultate."
   ],
   "cell_type": "markdown",
   "metadata": {}
  },
  {
   "cell_type": "code",
   "execution_count": 95,
   "metadata": {},
   "outputs": [
    {
     "output_type": "display_data",
     "data": {
      "application/vnd.plotly.v1+json": {
       "config": {
        "plotlyServerURL": "https://plot.ly"
       },
       "data": [
        {
         "name": "leto_ustanovitve",
         "type": "bar",
         "x": [
          "Construction",
          "IT Software & Services",
          "Telecommunications Services",
          "Semiconductors",
          "Media",
          "Technology Hardware & Equipment",
          "Oil & Gas Operations",
          "Hotels, Restaurants & Leisure",
          "Business Services & Supplies",
          "Drugs & Biotechnology",
          "Retailing",
          "Banking",
          "Trading Companies",
          "Materials",
          "Food, Drink & Tobacco",
          "Household & Personal Products",
          "Health Care Equipment & Services",
          "Consumer Durables",
          "Food Markets",
          "Diversified Financials",
          "Aerospace & Defense",
          "Insurance",
          "Capital Goods",
          "Chemicals",
          "Utilities",
          "Conglomerates",
          "Transportation",
          "Drugs &amp; Biotechnology",
          "Household &amp; Personal Products"
         ],
         "y": [
          1992,
          1989,
          1983.5,
          1981,
          1978,
          1976,
          1972.5,
          1971,
          1970.5,
          1970.5,
          1963,
          1955,
          1952,
          1950,
          1950,
          1949,
          1947.5,
          1941.5,
          1941.5,
          1940,
          1939,
          1922,
          1921,
          1916.5,
          1912,
          1902,
          1895,
          1886,
          1837
         ]
        }
       ],
       "layout": {
        "height": 600,
        "template": {
         "data": {
          "bar": [
           {
            "error_x": {
             "color": "#2a3f5f"
            },
            "error_y": {
             "color": "#2a3f5f"
            },
            "marker": {
             "line": {
              "color": "#E5ECF6",
              "width": 0.5
             }
            },
            "type": "bar"
           }
          ],
          "barpolar": [
           {
            "marker": {
             "line": {
              "color": "#E5ECF6",
              "width": 0.5
             }
            },
            "type": "barpolar"
           }
          ],
          "carpet": [
           {
            "aaxis": {
             "endlinecolor": "#2a3f5f",
             "gridcolor": "white",
             "linecolor": "white",
             "minorgridcolor": "white",
             "startlinecolor": "#2a3f5f"
            },
            "baxis": {
             "endlinecolor": "#2a3f5f",
             "gridcolor": "white",
             "linecolor": "white",
             "minorgridcolor": "white",
             "startlinecolor": "#2a3f5f"
            },
            "type": "carpet"
           }
          ],
          "choropleth": [
           {
            "colorbar": {
             "outlinewidth": 0,
             "ticks": ""
            },
            "type": "choropleth"
           }
          ],
          "contour": [
           {
            "colorbar": {
             "outlinewidth": 0,
             "ticks": ""
            },
            "colorscale": [
             [
              0,
              "#0d0887"
             ],
             [
              0.1111111111111111,
              "#46039f"
             ],
             [
              0.2222222222222222,
              "#7201a8"
             ],
             [
              0.3333333333333333,
              "#9c179e"
             ],
             [
              0.4444444444444444,
              "#bd3786"
             ],
             [
              0.5555555555555556,
              "#d8576b"
             ],
             [
              0.6666666666666666,
              "#ed7953"
             ],
             [
              0.7777777777777778,
              "#fb9f3a"
             ],
             [
              0.8888888888888888,
              "#fdca26"
             ],
             [
              1,
              "#f0f921"
             ]
            ],
            "type": "contour"
           }
          ],
          "contourcarpet": [
           {
            "colorbar": {
             "outlinewidth": 0,
             "ticks": ""
            },
            "type": "contourcarpet"
           }
          ],
          "heatmap": [
           {
            "colorbar": {
             "outlinewidth": 0,
             "ticks": ""
            },
            "colorscale": [
             [
              0,
              "#0d0887"
             ],
             [
              0.1111111111111111,
              "#46039f"
             ],
             [
              0.2222222222222222,
              "#7201a8"
             ],
             [
              0.3333333333333333,
              "#9c179e"
             ],
             [
              0.4444444444444444,
              "#bd3786"
             ],
             [
              0.5555555555555556,
              "#d8576b"
             ],
             [
              0.6666666666666666,
              "#ed7953"
             ],
             [
              0.7777777777777778,
              "#fb9f3a"
             ],
             [
              0.8888888888888888,
              "#fdca26"
             ],
             [
              1,
              "#f0f921"
             ]
            ],
            "type": "heatmap"
           }
          ],
          "heatmapgl": [
           {
            "colorbar": {
             "outlinewidth": 0,
             "ticks": ""
            },
            "colorscale": [
             [
              0,
              "#0d0887"
             ],
             [
              0.1111111111111111,
              "#46039f"
             ],
             [
              0.2222222222222222,
              "#7201a8"
             ],
             [
              0.3333333333333333,
              "#9c179e"
             ],
             [
              0.4444444444444444,
              "#bd3786"
             ],
             [
              0.5555555555555556,
              "#d8576b"
             ],
             [
              0.6666666666666666,
              "#ed7953"
             ],
             [
              0.7777777777777778,
              "#fb9f3a"
             ],
             [
              0.8888888888888888,
              "#fdca26"
             ],
             [
              1,
              "#f0f921"
             ]
            ],
            "type": "heatmapgl"
           }
          ],
          "histogram": [
           {
            "marker": {
             "colorbar": {
              "outlinewidth": 0,
              "ticks": ""
             }
            },
            "type": "histogram"
           }
          ],
          "histogram2d": [
           {
            "colorbar": {
             "outlinewidth": 0,
             "ticks": ""
            },
            "colorscale": [
             [
              0,
              "#0d0887"
             ],
             [
              0.1111111111111111,
              "#46039f"
             ],
             [
              0.2222222222222222,
              "#7201a8"
             ],
             [
              0.3333333333333333,
              "#9c179e"
             ],
             [
              0.4444444444444444,
              "#bd3786"
             ],
             [
              0.5555555555555556,
              "#d8576b"
             ],
             [
              0.6666666666666666,
              "#ed7953"
             ],
             [
              0.7777777777777778,
              "#fb9f3a"
             ],
             [
              0.8888888888888888,
              "#fdca26"
             ],
             [
              1,
              "#f0f921"
             ]
            ],
            "type": "histogram2d"
           }
          ],
          "histogram2dcontour": [
           {
            "colorbar": {
             "outlinewidth": 0,
             "ticks": ""
            },
            "colorscale": [
             [
              0,
              "#0d0887"
             ],
             [
              0.1111111111111111,
              "#46039f"
             ],
             [
              0.2222222222222222,
              "#7201a8"
             ],
             [
              0.3333333333333333,
              "#9c179e"
             ],
             [
              0.4444444444444444,
              "#bd3786"
             ],
             [
              0.5555555555555556,
              "#d8576b"
             ],
             [
              0.6666666666666666,
              "#ed7953"
             ],
             [
              0.7777777777777778,
              "#fb9f3a"
             ],
             [
              0.8888888888888888,
              "#fdca26"
             ],
             [
              1,
              "#f0f921"
             ]
            ],
            "type": "histogram2dcontour"
           }
          ],
          "mesh3d": [
           {
            "colorbar": {
             "outlinewidth": 0,
             "ticks": ""
            },
            "type": "mesh3d"
           }
          ],
          "parcoords": [
           {
            "line": {
             "colorbar": {
              "outlinewidth": 0,
              "ticks": ""
             }
            },
            "type": "parcoords"
           }
          ],
          "pie": [
           {
            "automargin": true,
            "type": "pie"
           }
          ],
          "scatter": [
           {
            "marker": {
             "colorbar": {
              "outlinewidth": 0,
              "ticks": ""
             }
            },
            "type": "scatter"
           }
          ],
          "scatter3d": [
           {
            "line": {
             "colorbar": {
              "outlinewidth": 0,
              "ticks": ""
             }
            },
            "marker": {
             "colorbar": {
              "outlinewidth": 0,
              "ticks": ""
             }
            },
            "type": "scatter3d"
           }
          ],
          "scattercarpet": [
           {
            "marker": {
             "colorbar": {
              "outlinewidth": 0,
              "ticks": ""
             }
            },
            "type": "scattercarpet"
           }
          ],
          "scattergeo": [
           {
            "marker": {
             "colorbar": {
              "outlinewidth": 0,
              "ticks": ""
             }
            },
            "type": "scattergeo"
           }
          ],
          "scattergl": [
           {
            "marker": {
             "colorbar": {
              "outlinewidth": 0,
              "ticks": ""
             }
            },
            "type": "scattergl"
           }
          ],
          "scattermapbox": [
           {
            "marker": {
             "colorbar": {
              "outlinewidth": 0,
              "ticks": ""
             }
            },
            "type": "scattermapbox"
           }
          ],
          "scatterpolar": [
           {
            "marker": {
             "colorbar": {
              "outlinewidth": 0,
              "ticks": ""
             }
            },
            "type": "scatterpolar"
           }
          ],
          "scatterpolargl": [
           {
            "marker": {
             "colorbar": {
              "outlinewidth": 0,
              "ticks": ""
             }
            },
            "type": "scatterpolargl"
           }
          ],
          "scatterternary": [
           {
            "marker": {
             "colorbar": {
              "outlinewidth": 0,
              "ticks": ""
             }
            },
            "type": "scatterternary"
           }
          ],
          "surface": [
           {
            "colorbar": {
             "outlinewidth": 0,
             "ticks": ""
            },
            "colorscale": [
             [
              0,
              "#0d0887"
             ],
             [
              0.1111111111111111,
              "#46039f"
             ],
             [
              0.2222222222222222,
              "#7201a8"
             ],
             [
              0.3333333333333333,
              "#9c179e"
             ],
             [
              0.4444444444444444,
              "#bd3786"
             ],
             [
              0.5555555555555556,
              "#d8576b"
             ],
             [
              0.6666666666666666,
              "#ed7953"
             ],
             [
              0.7777777777777778,
              "#fb9f3a"
             ],
             [
              0.8888888888888888,
              "#fdca26"
             ],
             [
              1,
              "#f0f921"
             ]
            ],
            "type": "surface"
           }
          ],
          "table": [
           {
            "cells": {
             "fill": {
              "color": "#EBF0F8"
             },
             "line": {
              "color": "white"
             }
            },
            "header": {
             "fill": {
              "color": "#C8D4E3"
             },
             "line": {
              "color": "white"
             }
            },
            "type": "table"
           }
          ]
         },
         "layout": {
          "annotationdefaults": {
           "arrowcolor": "#2a3f5f",
           "arrowhead": 0,
           "arrowwidth": 1
          },
          "coloraxis": {
           "colorbar": {
            "outlinewidth": 0,
            "ticks": ""
           }
          },
          "colorscale": {
           "diverging": [
            [
             0,
             "#8e0152"
            ],
            [
             0.1,
             "#c51b7d"
            ],
            [
             0.2,
             "#de77ae"
            ],
            [
             0.3,
             "#f1b6da"
            ],
            [
             0.4,
             "#fde0ef"
            ],
            [
             0.5,
             "#f7f7f7"
            ],
            [
             0.6,
             "#e6f5d0"
            ],
            [
             0.7,
             "#b8e186"
            ],
            [
             0.8,
             "#7fbc41"
            ],
            [
             0.9,
             "#4d9221"
            ],
            [
             1,
             "#276419"
            ]
           ],
           "sequential": [
            [
             0,
             "#0d0887"
            ],
            [
             0.1111111111111111,
             "#46039f"
            ],
            [
             0.2222222222222222,
             "#7201a8"
            ],
            [
             0.3333333333333333,
             "#9c179e"
            ],
            [
             0.4444444444444444,
             "#bd3786"
            ],
            [
             0.5555555555555556,
             "#d8576b"
            ],
            [
             0.6666666666666666,
             "#ed7953"
            ],
            [
             0.7777777777777778,
             "#fb9f3a"
            ],
            [
             0.8888888888888888,
             "#fdca26"
            ],
            [
             1,
             "#f0f921"
            ]
           ],
           "sequentialminus": [
            [
             0,
             "#0d0887"
            ],
            [
             0.1111111111111111,
             "#46039f"
            ],
            [
             0.2222222222222222,
             "#7201a8"
            ],
            [
             0.3333333333333333,
             "#9c179e"
            ],
            [
             0.4444444444444444,
             "#bd3786"
            ],
            [
             0.5555555555555556,
             "#d8576b"
            ],
            [
             0.6666666666666666,
             "#ed7953"
            ],
            [
             0.7777777777777778,
             "#fb9f3a"
            ],
            [
             0.8888888888888888,
             "#fdca26"
            ],
            [
             1,
             "#f0f921"
            ]
           ]
          },
          "colorway": [
           "#636efa",
           "#EF553B",
           "#00cc96",
           "#ab63fa",
           "#FFA15A",
           "#19d3f3",
           "#FF6692",
           "#B6E880",
           "#FF97FF",
           "#FECB52"
          ],
          "font": {
           "color": "#2a3f5f"
          },
          "geo": {
           "bgcolor": "white",
           "lakecolor": "white",
           "landcolor": "#E5ECF6",
           "showlakes": true,
           "showland": true,
           "subunitcolor": "white"
          },
          "hoverlabel": {
           "align": "left"
          },
          "hovermode": "closest",
          "mapbox": {
           "style": "light"
          },
          "paper_bgcolor": "white",
          "plot_bgcolor": "#E5ECF6",
          "polar": {
           "angularaxis": {
            "gridcolor": "white",
            "linecolor": "white",
            "ticks": ""
           },
           "bgcolor": "#E5ECF6",
           "radialaxis": {
            "gridcolor": "white",
            "linecolor": "white",
            "ticks": ""
           }
          },
          "scene": {
           "xaxis": {
            "backgroundcolor": "#E5ECF6",
            "gridcolor": "white",
            "gridwidth": 2,
            "linecolor": "white",
            "showbackground": true,
            "ticks": "",
            "zerolinecolor": "white"
           },
           "yaxis": {
            "backgroundcolor": "#E5ECF6",
            "gridcolor": "white",
            "gridwidth": 2,
            "linecolor": "white",
            "showbackground": true,
            "ticks": "",
            "zerolinecolor": "white"
           },
           "zaxis": {
            "backgroundcolor": "#E5ECF6",
            "gridcolor": "white",
            "gridwidth": 2,
            "linecolor": "white",
            "showbackground": true,
            "ticks": "",
            "zerolinecolor": "white"
           }
          },
          "shapedefaults": {
           "line": {
            "color": "#2a3f5f"
           }
          },
          "ternary": {
           "aaxis": {
            "gridcolor": "white",
            "linecolor": "white",
            "ticks": ""
           },
           "baxis": {
            "gridcolor": "white",
            "linecolor": "white",
            "ticks": ""
           },
           "bgcolor": "#E5ECF6",
           "caxis": {
            "gridcolor": "white",
            "linecolor": "white",
            "ticks": ""
           }
          },
          "title": {
           "x": 0.05
          },
          "xaxis": {
           "automargin": true,
           "gridcolor": "white",
           "linecolor": "white",
           "ticks": "",
           "title": {
            "standoff": 15
           },
           "zerolinecolor": "white",
           "zerolinewidth": 2
          },
          "yaxis": {
           "automargin": true,
           "gridcolor": "white",
           "linecolor": "white",
           "ticks": "",
           "title": {
            "standoff": 15
           },
           "zerolinecolor": "white",
           "zerolinewidth": 2
          }
         }
        },
        "title": {
         "font": {
          "size": 24
         },
         "text": "Mediana leta ustanovitev"
        },
        "width": 1200,
        "xaxis": {
         "tickangle": 45,
         "title": {
          "font": {
           "size": 12
          },
          "standoff": 20,
          "text": "Panoge"
         }
        },
        "yaxis": {
         "range": [
          1830,
          2020
         ],
         "title": {
          "font": {
           "size": 12
          },
          "text": "Mediana leta ustanovitve"
         }
        }
       }
      }
     },
     "metadata": {}
    }
   ],
   "source": [
    "podjetja_po_panogi=podjetja_po_panogi.sort_values('leto_ustanovitve_median', ascending=False)\n",
    "\n",
    "graf8 = go.Figure(data=[\n",
    "    go.Bar(name='leto_ustanovitve', x=podjetja_po_panogi.index, y=podjetja_po_panogi.leto_ustanovitve_median),\n",
    "])\n",
    "graf8.update_layout(\n",
    "    title = \"Mediana leta ustanovitev\",\n",
    "    title_font = {'size': 24},\n",
    "    width = 1200,\n",
    "    height = 600,\n",
    ")\n",
    "graf8.update_xaxes(\n",
    "        tickangle = 45,\n",
    "        title_text = \"Panoge\",\n",
    "        title_font = {\"size\": 12},\n",
    "        title_standoff = 20)\n",
    "graf8.update_yaxes(\n",
    "    title_text = \"Mediana leta ustanovitve\",\n",
    "    title_font = {\"size\" : 12},\n",
    "    range = [1830,2020]\n",
    ")\n",
    "\n",
    "\n",
    "graf8.show()"
   ]
  },
  {
   "cell_type": "code",
   "execution_count": 94,
   "metadata": {},
   "outputs": [
    {
     "output_type": "display_data",
     "data": {
      "application/vnd.plotly.v1+json": {
       "config": {
        "plotlyServerURL": "https://plot.ly"
       },
       "data": [
        {
         "name": "povprečje",
         "type": "bar",
         "x": [
          "Azija",
          "Severna amerka",
          "Europa",
          "Južna amerika",
          "Australija"
         ],
         "y": [
          1974.1440677966102,
          1934.476821192053,
          1925.0388349514562,
          1913,
          1908
         ]
        },
        {
         "name": "mediana",
         "type": "bar",
         "x": [
          "Azija",
          "Severna amerka",
          "Europa",
          "Južna amerika",
          "Australija"
         ],
         "y": [
          1988.5,
          1939,
          1919,
          1945.5,
          1911
         ]
        }
       ],
       "layout": {
        "barmode": "group",
        "legend": {
         "font": {
          "size": 13
         }
        },
        "template": {
         "data": {
          "bar": [
           {
            "error_x": {
             "color": "#2a3f5f"
            },
            "error_y": {
             "color": "#2a3f5f"
            },
            "marker": {
             "line": {
              "color": "#E5ECF6",
              "width": 0.5
             }
            },
            "type": "bar"
           }
          ],
          "barpolar": [
           {
            "marker": {
             "line": {
              "color": "#E5ECF6",
              "width": 0.5
             }
            },
            "type": "barpolar"
           }
          ],
          "carpet": [
           {
            "aaxis": {
             "endlinecolor": "#2a3f5f",
             "gridcolor": "white",
             "linecolor": "white",
             "minorgridcolor": "white",
             "startlinecolor": "#2a3f5f"
            },
            "baxis": {
             "endlinecolor": "#2a3f5f",
             "gridcolor": "white",
             "linecolor": "white",
             "minorgridcolor": "white",
             "startlinecolor": "#2a3f5f"
            },
            "type": "carpet"
           }
          ],
          "choropleth": [
           {
            "colorbar": {
             "outlinewidth": 0,
             "ticks": ""
            },
            "type": "choropleth"
           }
          ],
          "contour": [
           {
            "colorbar": {
             "outlinewidth": 0,
             "ticks": ""
            },
            "colorscale": [
             [
              0,
              "#0d0887"
             ],
             [
              0.1111111111111111,
              "#46039f"
             ],
             [
              0.2222222222222222,
              "#7201a8"
             ],
             [
              0.3333333333333333,
              "#9c179e"
             ],
             [
              0.4444444444444444,
              "#bd3786"
             ],
             [
              0.5555555555555556,
              "#d8576b"
             ],
             [
              0.6666666666666666,
              "#ed7953"
             ],
             [
              0.7777777777777778,
              "#fb9f3a"
             ],
             [
              0.8888888888888888,
              "#fdca26"
             ],
             [
              1,
              "#f0f921"
             ]
            ],
            "type": "contour"
           }
          ],
          "contourcarpet": [
           {
            "colorbar": {
             "outlinewidth": 0,
             "ticks": ""
            },
            "type": "contourcarpet"
           }
          ],
          "heatmap": [
           {
            "colorbar": {
             "outlinewidth": 0,
             "ticks": ""
            },
            "colorscale": [
             [
              0,
              "#0d0887"
             ],
             [
              0.1111111111111111,
              "#46039f"
             ],
             [
              0.2222222222222222,
              "#7201a8"
             ],
             [
              0.3333333333333333,
              "#9c179e"
             ],
             [
              0.4444444444444444,
              "#bd3786"
             ],
             [
              0.5555555555555556,
              "#d8576b"
             ],
             [
              0.6666666666666666,
              "#ed7953"
             ],
             [
              0.7777777777777778,
              "#fb9f3a"
             ],
             [
              0.8888888888888888,
              "#fdca26"
             ],
             [
              1,
              "#f0f921"
             ]
            ],
            "type": "heatmap"
           }
          ],
          "heatmapgl": [
           {
            "colorbar": {
             "outlinewidth": 0,
             "ticks": ""
            },
            "colorscale": [
             [
              0,
              "#0d0887"
             ],
             [
              0.1111111111111111,
              "#46039f"
             ],
             [
              0.2222222222222222,
              "#7201a8"
             ],
             [
              0.3333333333333333,
              "#9c179e"
             ],
             [
              0.4444444444444444,
              "#bd3786"
             ],
             [
              0.5555555555555556,
              "#d8576b"
             ],
             [
              0.6666666666666666,
              "#ed7953"
             ],
             [
              0.7777777777777778,
              "#fb9f3a"
             ],
             [
              0.8888888888888888,
              "#fdca26"
             ],
             [
              1,
              "#f0f921"
             ]
            ],
            "type": "heatmapgl"
           }
          ],
          "histogram": [
           {
            "marker": {
             "colorbar": {
              "outlinewidth": 0,
              "ticks": ""
             }
            },
            "type": "histogram"
           }
          ],
          "histogram2d": [
           {
            "colorbar": {
             "outlinewidth": 0,
             "ticks": ""
            },
            "colorscale": [
             [
              0,
              "#0d0887"
             ],
             [
              0.1111111111111111,
              "#46039f"
             ],
             [
              0.2222222222222222,
              "#7201a8"
             ],
             [
              0.3333333333333333,
              "#9c179e"
             ],
             [
              0.4444444444444444,
              "#bd3786"
             ],
             [
              0.5555555555555556,
              "#d8576b"
             ],
             [
              0.6666666666666666,
              "#ed7953"
             ],
             [
              0.7777777777777778,
              "#fb9f3a"
             ],
             [
              0.8888888888888888,
              "#fdca26"
             ],
             [
              1,
              "#f0f921"
             ]
            ],
            "type": "histogram2d"
           }
          ],
          "histogram2dcontour": [
           {
            "colorbar": {
             "outlinewidth": 0,
             "ticks": ""
            },
            "colorscale": [
             [
              0,
              "#0d0887"
             ],
             [
              0.1111111111111111,
              "#46039f"
             ],
             [
              0.2222222222222222,
              "#7201a8"
             ],
             [
              0.3333333333333333,
              "#9c179e"
             ],
             [
              0.4444444444444444,
              "#bd3786"
             ],
             [
              0.5555555555555556,
              "#d8576b"
             ],
             [
              0.6666666666666666,
              "#ed7953"
             ],
             [
              0.7777777777777778,
              "#fb9f3a"
             ],
             [
              0.8888888888888888,
              "#fdca26"
             ],
             [
              1,
              "#f0f921"
             ]
            ],
            "type": "histogram2dcontour"
           }
          ],
          "mesh3d": [
           {
            "colorbar": {
             "outlinewidth": 0,
             "ticks": ""
            },
            "type": "mesh3d"
           }
          ],
          "parcoords": [
           {
            "line": {
             "colorbar": {
              "outlinewidth": 0,
              "ticks": ""
             }
            },
            "type": "parcoords"
           }
          ],
          "pie": [
           {
            "automargin": true,
            "type": "pie"
           }
          ],
          "scatter": [
           {
            "marker": {
             "colorbar": {
              "outlinewidth": 0,
              "ticks": ""
             }
            },
            "type": "scatter"
           }
          ],
          "scatter3d": [
           {
            "line": {
             "colorbar": {
              "outlinewidth": 0,
              "ticks": ""
             }
            },
            "marker": {
             "colorbar": {
              "outlinewidth": 0,
              "ticks": ""
             }
            },
            "type": "scatter3d"
           }
          ],
          "scattercarpet": [
           {
            "marker": {
             "colorbar": {
              "outlinewidth": 0,
              "ticks": ""
             }
            },
            "type": "scattercarpet"
           }
          ],
          "scattergeo": [
           {
            "marker": {
             "colorbar": {
              "outlinewidth": 0,
              "ticks": ""
             }
            },
            "type": "scattergeo"
           }
          ],
          "scattergl": [
           {
            "marker": {
             "colorbar": {
              "outlinewidth": 0,
              "ticks": ""
             }
            },
            "type": "scattergl"
           }
          ],
          "scattermapbox": [
           {
            "marker": {
             "colorbar": {
              "outlinewidth": 0,
              "ticks": ""
             }
            },
            "type": "scattermapbox"
           }
          ],
          "scatterpolar": [
           {
            "marker": {
             "colorbar": {
              "outlinewidth": 0,
              "ticks": ""
             }
            },
            "type": "scatterpolar"
           }
          ],
          "scatterpolargl": [
           {
            "marker": {
             "colorbar": {
              "outlinewidth": 0,
              "ticks": ""
             }
            },
            "type": "scatterpolargl"
           }
          ],
          "scatterternary": [
           {
            "marker": {
             "colorbar": {
              "outlinewidth": 0,
              "ticks": ""
             }
            },
            "type": "scatterternary"
           }
          ],
          "surface": [
           {
            "colorbar": {
             "outlinewidth": 0,
             "ticks": ""
            },
            "colorscale": [
             [
              0,
              "#0d0887"
             ],
             [
              0.1111111111111111,
              "#46039f"
             ],
             [
              0.2222222222222222,
              "#7201a8"
             ],
             [
              0.3333333333333333,
              "#9c179e"
             ],
             [
              0.4444444444444444,
              "#bd3786"
             ],
             [
              0.5555555555555556,
              "#d8576b"
             ],
             [
              0.6666666666666666,
              "#ed7953"
             ],
             [
              0.7777777777777778,
              "#fb9f3a"
             ],
             [
              0.8888888888888888,
              "#fdca26"
             ],
             [
              1,
              "#f0f921"
             ]
            ],
            "type": "surface"
           }
          ],
          "table": [
           {
            "cells": {
             "fill": {
              "color": "#EBF0F8"
             },
             "line": {
              "color": "white"
             }
            },
            "header": {
             "fill": {
              "color": "#C8D4E3"
             },
             "line": {
              "color": "white"
             }
            },
            "type": "table"
           }
          ]
         },
         "layout": {
          "annotationdefaults": {
           "arrowcolor": "#2a3f5f",
           "arrowhead": 0,
           "arrowwidth": 1
          },
          "coloraxis": {
           "colorbar": {
            "outlinewidth": 0,
            "ticks": ""
           }
          },
          "colorscale": {
           "diverging": [
            [
             0,
             "#8e0152"
            ],
            [
             0.1,
             "#c51b7d"
            ],
            [
             0.2,
             "#de77ae"
            ],
            [
             0.3,
             "#f1b6da"
            ],
            [
             0.4,
             "#fde0ef"
            ],
            [
             0.5,
             "#f7f7f7"
            ],
            [
             0.6,
             "#e6f5d0"
            ],
            [
             0.7,
             "#b8e186"
            ],
            [
             0.8,
             "#7fbc41"
            ],
            [
             0.9,
             "#4d9221"
            ],
            [
             1,
             "#276419"
            ]
           ],
           "sequential": [
            [
             0,
             "#0d0887"
            ],
            [
             0.1111111111111111,
             "#46039f"
            ],
            [
             0.2222222222222222,
             "#7201a8"
            ],
            [
             0.3333333333333333,
             "#9c179e"
            ],
            [
             0.4444444444444444,
             "#bd3786"
            ],
            [
             0.5555555555555556,
             "#d8576b"
            ],
            [
             0.6666666666666666,
             "#ed7953"
            ],
            [
             0.7777777777777778,
             "#fb9f3a"
            ],
            [
             0.8888888888888888,
             "#fdca26"
            ],
            [
             1,
             "#f0f921"
            ]
           ],
           "sequentialminus": [
            [
             0,
             "#0d0887"
            ],
            [
             0.1111111111111111,
             "#46039f"
            ],
            [
             0.2222222222222222,
             "#7201a8"
            ],
            [
             0.3333333333333333,
             "#9c179e"
            ],
            [
             0.4444444444444444,
             "#bd3786"
            ],
            [
             0.5555555555555556,
             "#d8576b"
            ],
            [
             0.6666666666666666,
             "#ed7953"
            ],
            [
             0.7777777777777778,
             "#fb9f3a"
            ],
            [
             0.8888888888888888,
             "#fdca26"
            ],
            [
             1,
             "#f0f921"
            ]
           ]
          },
          "colorway": [
           "#636efa",
           "#EF553B",
           "#00cc96",
           "#ab63fa",
           "#FFA15A",
           "#19d3f3",
           "#FF6692",
           "#B6E880",
           "#FF97FF",
           "#FECB52"
          ],
          "font": {
           "color": "#2a3f5f"
          },
          "geo": {
           "bgcolor": "white",
           "lakecolor": "white",
           "landcolor": "#E5ECF6",
           "showlakes": true,
           "showland": true,
           "subunitcolor": "white"
          },
          "hoverlabel": {
           "align": "left"
          },
          "hovermode": "closest",
          "mapbox": {
           "style": "light"
          },
          "paper_bgcolor": "white",
          "plot_bgcolor": "#E5ECF6",
          "polar": {
           "angularaxis": {
            "gridcolor": "white",
            "linecolor": "white",
            "ticks": ""
           },
           "bgcolor": "#E5ECF6",
           "radialaxis": {
            "gridcolor": "white",
            "linecolor": "white",
            "ticks": ""
           }
          },
          "scene": {
           "xaxis": {
            "backgroundcolor": "#E5ECF6",
            "gridcolor": "white",
            "gridwidth": 2,
            "linecolor": "white",
            "showbackground": true,
            "ticks": "",
            "zerolinecolor": "white"
           },
           "yaxis": {
            "backgroundcolor": "#E5ECF6",
            "gridcolor": "white",
            "gridwidth": 2,
            "linecolor": "white",
            "showbackground": true,
            "ticks": "",
            "zerolinecolor": "white"
           },
           "zaxis": {
            "backgroundcolor": "#E5ECF6",
            "gridcolor": "white",
            "gridwidth": 2,
            "linecolor": "white",
            "showbackground": true,
            "ticks": "",
            "zerolinecolor": "white"
           }
          },
          "shapedefaults": {
           "line": {
            "color": "#2a3f5f"
           }
          },
          "ternary": {
           "aaxis": {
            "gridcolor": "white",
            "linecolor": "white",
            "ticks": ""
           },
           "baxis": {
            "gridcolor": "white",
            "linecolor": "white",
            "ticks": ""
           },
           "bgcolor": "#E5ECF6",
           "caxis": {
            "gridcolor": "white",
            "linecolor": "white",
            "ticks": ""
           }
          },
          "title": {
           "x": 0.05
          },
          "xaxis": {
           "automargin": true,
           "gridcolor": "white",
           "linecolor": "white",
           "ticks": "",
           "title": {
            "standoff": 15
           },
           "zerolinecolor": "white",
           "zerolinewidth": 2
          },
          "yaxis": {
           "automargin": true,
           "gridcolor": "white",
           "linecolor": "white",
           "ticks": "",
           "title": {
            "standoff": 15
           },
           "zerolinecolor": "white",
           "zerolinewidth": 2
          }
         }
        },
        "title": {
         "font": {
          "size": 24
         },
         "text": "Čas ustanovitve podjetij po kontinentih"
        },
        "xaxis": {
         "tickangle": 45,
         "title": {
          "font": {
           "size": 12
          },
          "standoff": 20,
          "text": "Kontinenti"
         }
        },
        "yaxis": {
         "range": [
          1900,
          2020
         ],
         "title": {
          "font": {
           "size": 12
          },
          "text": "leto ustanovitve"
         }
        }
       }
      }
     },
     "metadata": {}
    }
   ],
   "source": [
    "podjetja_po_kontinentih = podjetja.groupby('kontinent').agg({'leto_ustanovitve' : ['mean', 'median']})\n",
    "podjetja_po_kontinentih.columns = [x[0]+'_'+x[1] for x in podjetja_po_kontinentih.columns]\n",
    "podjetja_po_kontinentih = podjetja_po_kontinentih.sort_values('leto_ustanovitve_mean', ascending=False)\n",
    "\n",
    "graf9 = go.Figure(data=[\n",
    "    go.Bar(name='povprečje', x=podjetja_po_kontinentih.index, y=podjetja_po_kontinentih.leto_ustanovitve_mean),\n",
    "    go.Bar(name='mediana', x=podjetja_po_kontinentih.index, y=podjetja_po_kontinentih.leto_ustanovitve_median)\n",
    "])\n",
    "graf9.update_layout(\n",
    "    title = \"Čas ustanovitve podjetij po kontinentih\",\n",
    "    title_font = {'size': 24},\n",
    "    legend = {\n",
    "        'font' : {'size': 13},\n",
    "    }\n",
    ")\n",
    "graf9.update_xaxes(\n",
    "        tickangle = 45,\n",
    "        title_text = \"Kontinenti\",\n",
    "        title_font = {\"size\": 12},\n",
    "        title_standoff = 20)\n",
    "graf9.update_yaxes(\n",
    "    title_text = \"leto ustanovitve\",\n",
    "    title_font = {\"size\" : 12},\n",
    "    range = [1900, 2020]\n",
    ")\n",
    "\n",
    "graf9.show()"
   ]
  },
  {
   "source": [
    "Drugače leto ustanovitve na kaže posebnih odvisnosti od ostalih kvalitet. Za primer je spodnji graf, ki prikazuje njeno odvisnost od mesta na lestvici."
   ],
   "cell_type": "markdown",
   "metadata": {}
  },
  {
   "cell_type": "code",
   "execution_count": 10,
   "metadata": {},
   "outputs": [
    {
     "output_type": "display_data",
     "data": {
      "application/vnd.plotly.v1+json": {
       "config": {
        "plotlyServerURL": "https://plot.ly"
       },
       "data": [
        {
         "hovertemplate": "leto_ustanovitve=%{x}<br>mesto=%{y}<extra></extra>",
         "legendgroup": "",
         "marker": {
          "color": "#636efa",
          "symbol": "circle"
         },
         "mode": "markers",
         "name": "",
         "orientation": "v",
         "showlegend": false,
         "type": "scatter",
         "x": [
          1984,
          1954,
          2000,
          1955,
          1979,
          1933,
          1904,
          1976,
          1929,
          1876,
          1937,
          1998,
          1999,
          1975,
          1938,
          1852,
          1812,
          1962,
          1983,
          1907,
          1994,
          1937,
          1977,
          1890,
          2009,
          1963,
          1997,
          1924,
          1886,
          1999,
          1989,
          1999,
          1886,
          1864,
          1923,
          2003,
          1968,
          2004,
          1963,
          2000,
          1886,
          1850,
          1908,
          1855,
          1869,
          1924,
          1849,
          1998,
          1911,
          2012,
          1892,
          1857,
          2008,
          1988,
          1973,
          1946,
          2000,
          1879,
          1847,
          1792,
          1859,
          1992,
          1919,
          1981,
          1996,
          1995,
          1953,
          1837,
          1871,
          1896,
          1916,
          1872,
          1979,
          1957,
          1868,
          2002,
          1984,
          1949,
          1911,
          1832,
          2020,
          1965,
          1850,
          1908,
          1996,
          1902,
          1885,
          1977,
          1997,
          1886,
          1962,
          2000,
          1984,
          1943,
          1863,
          1929,
          1954,
          2004,
          1978,
          1865,
          1987,
          1862,
          1929,
          1992,
          1955,
          2014,
          1873,
          1985,
          1875,
          2004,
          2000,
          2013,
          1901,
          1974,
          1984,
          1949,
          1887,
          1925,
          1999,
          1984,
          1949,
          1991,
          1995,
          1817,
          1925,
          1882,
          1858,
          1901,
          1899,
          1933,
          1845,
          1831,
          1958,
          1983,
          1907,
          1904,
          1912,
          1994,
          1931,
          1992,
          1993,
          1972,
          2002,
          2014,
          1927,
          2006,
          1919,
          1988,
          1888,
          1856,
          1994,
          1980,
          1872,
          1835,
          1972,
          1947,
          1932,
          2004,
          2000,
          1955,
          1992,
          2002,
          1912,
          1988,
          1907,
          1867,
          1925,
          1896,
          1862,
          1983,
          1995,
          1987,
          2012,
          2012,
          1967,
          1991,
          1836,
          1991,
          1902,
          1902,
          1887,
          1959,
          1937,
          1999,
          1875,
          1870,
          1847,
          2007,
          1989,
          1880,
          1968,
          1808,
          1994,
          1948,
          2000,
          1899,
          2008,
          1949,
          1955,
          1864,
          1848,
          1876,
          2015,
          2003,
          1971,
          1968,
          1984,
          1836,
          1864,
          1968,
          1902,
          2008,
          2014,
          1927,
          1961,
          1993,
          1999,
          1902,
          1912,
          1939,
          2003,
          1865,
          1963,
          1964,
          1989,
          1919,
          1998,
          2001,
          1990,
          1917,
          1969,
          1919,
          1994,
          1918,
          1984,
          1985,
          1935,
          1987,
          1990,
          1924,
          1883,
          2006,
          2001,
          1993,
          1963,
          1992,
          2001,
          1997,
          1917,
          1966,
          1983,
          1978,
          2008,
          1977,
          1935,
          1995,
          1985,
          1997,
          1984,
          2000,
          1832,
          1971,
          1906,
          1952,
          1974,
          1964,
          1976,
          1921,
          1969,
          1949,
          1898,
          1883,
          1925,
          1970,
          1949,
          1939,
          2018,
          1876,
          1973,
          1891,
          1863,
          1995,
          1902,
          1997,
          1948,
          1846,
          1925,
          1951,
          1970,
          1985,
          1988,
          2010,
          1963,
          2000,
          1947,
          1980,
          1886,
          1931,
          1938,
          1935,
          1996,
          1665,
          1827,
          2003,
          1925,
          2013,
          1985,
          1998,
          1911,
          1970,
          1864,
          1999,
          2015,
          1897,
          1946,
          2007,
          1960,
          1997,
          1969,
          1894,
          1939,
          1926,
          1983,
          1909,
          1937,
          2010,
          1984,
          1919,
          1853,
          1857,
          1968,
          1941,
          1832,
          1845,
          2004,
          1991,
          1866,
          1959,
          1924,
          2004,
          1925,
          1979,
          1985,
          2003,
          1889,
          1905,
          2002,
          2010,
          1810,
          1891,
          2000,
          1883,
          1999,
          1959,
          1997,
          1969,
          1987,
          1985,
          1921,
          1953,
          1949,
          1966,
          1871,
          2005,
          1988,
          1841,
          1998,
          1950,
          1921,
          1990,
          1909,
          1823,
          1843,
          1984,
          2007,
          1916,
          1971,
          1924,
          1930,
          1982,
          2017
         ],
         "xaxis": "x",
         "y": [
          1,
          2,
          3,
          4,
          5,
          5,
          8,
          9,
          10,
          11,
          11,
          13,
          13,
          13,
          16,
          17,
          18,
          19,
          20,
          21,
          22,
          23,
          24,
          25,
          26,
          27,
          28,
          29,
          30,
          31,
          32,
          32,
          34,
          35,
          36,
          37,
          38,
          39,
          40,
          42,
          43,
          44,
          45,
          46,
          47,
          48,
          49,
          50,
          51,
          52,
          53,
          55,
          56,
          57,
          58,
          58,
          60,
          61,
          62,
          63,
          64,
          65,
          66,
          66,
          68,
          69,
          70,
          71,
          72,
          74,
          75,
          76,
          77,
          79,
          80,
          80,
          82,
          83,
          84,
          85,
          86,
          87,
          88,
          89,
          90,
          91,
          93,
          94,
          95,
          96,
          97,
          97,
          100,
          101,
          102,
          103,
          104,
          105,
          106,
          107,
          108,
          109,
          110,
          111,
          112,
          113,
          114,
          115,
          116,
          117,
          118,
          119,
          120,
          121,
          122,
          123,
          123,
          125,
          126,
          127,
          129,
          130,
          131,
          132,
          132,
          134,
          135,
          136,
          137,
          138,
          139,
          140,
          141,
          142,
          143,
          144,
          145,
          146,
          147,
          148,
          149,
          150,
          151,
          152,
          153,
          154,
          155,
          156,
          158,
          160,
          161,
          162,
          163,
          164,
          165,
          166,
          167,
          168,
          169,
          171,
          172,
          174,
          175,
          177,
          178,
          179,
          180,
          181,
          183,
          184,
          185,
          186,
          186,
          188,
          189,
          192,
          192,
          194,
          195,
          196,
          197,
          198,
          198,
          200,
          201,
          202,
          203,
          204,
          205,
          206,
          207,
          208,
          210,
          211,
          213,
          214,
          215,
          216,
          217,
          218,
          220,
          221,
          222,
          223,
          224,
          225,
          226,
          227,
          228,
          229,
          230,
          231,
          232,
          233,
          235,
          236,
          237,
          239,
          240,
          241,
          242,
          243,
          244,
          244,
          246,
          248,
          249,
          250,
          251,
          252,
          253,
          254,
          255,
          256,
          257,
          258,
          260,
          261,
          262,
          263,
          266,
          267,
          268,
          269,
          270,
          271,
          272,
          273,
          274,
          275,
          276,
          277,
          278,
          279,
          281,
          282,
          283,
          284,
          285,
          286,
          287,
          288,
          289,
          290,
          291,
          292,
          293,
          294,
          295,
          296,
          297,
          298,
          299,
          300,
          301,
          302,
          304,
          305,
          306,
          308,
          309,
          310,
          311,
          312,
          313,
          314,
          315,
          316,
          318,
          319,
          320,
          321,
          322,
          323,
          324,
          325,
          326,
          327,
          328,
          329,
          330,
          331,
          332,
          333,
          333,
          336,
          337,
          338,
          339,
          340,
          341,
          342,
          343,
          344,
          345,
          346,
          349,
          350,
          352,
          353,
          354,
          355,
          356,
          357,
          359,
          360,
          361,
          362,
          363,
          364,
          365,
          367,
          368,
          370,
          371,
          372,
          373,
          374,
          375,
          375,
          377,
          378,
          379,
          380,
          381,
          382,
          383,
          384,
          385,
          385,
          387,
          388,
          389,
          389,
          391,
          391,
          393,
          394,
          394,
          396,
          397,
          398,
          398,
          400,
          401,
          402,
          403,
          404,
          405,
          407,
          407,
          409,
          409,
          411,
          412,
          413,
          414,
          415,
          416,
          418,
          419
         ],
         "yaxis": "y"
        }
       ],
       "layout": {
        "legend": {
         "tracegroupgap": 0
        },
        "margin": {
         "t": 60
        },
        "template": {
         "data": {
          "bar": [
           {
            "error_x": {
             "color": "#2a3f5f"
            },
            "error_y": {
             "color": "#2a3f5f"
            },
            "marker": {
             "line": {
              "color": "#E5ECF6",
              "width": 0.5
             }
            },
            "type": "bar"
           }
          ],
          "barpolar": [
           {
            "marker": {
             "line": {
              "color": "#E5ECF6",
              "width": 0.5
             }
            },
            "type": "barpolar"
           }
          ],
          "carpet": [
           {
            "aaxis": {
             "endlinecolor": "#2a3f5f",
             "gridcolor": "white",
             "linecolor": "white",
             "minorgridcolor": "white",
             "startlinecolor": "#2a3f5f"
            },
            "baxis": {
             "endlinecolor": "#2a3f5f",
             "gridcolor": "white",
             "linecolor": "white",
             "minorgridcolor": "white",
             "startlinecolor": "#2a3f5f"
            },
            "type": "carpet"
           }
          ],
          "choropleth": [
           {
            "colorbar": {
             "outlinewidth": 0,
             "ticks": ""
            },
            "type": "choropleth"
           }
          ],
          "contour": [
           {
            "colorbar": {
             "outlinewidth": 0,
             "ticks": ""
            },
            "colorscale": [
             [
              0,
              "#0d0887"
             ],
             [
              0.1111111111111111,
              "#46039f"
             ],
             [
              0.2222222222222222,
              "#7201a8"
             ],
             [
              0.3333333333333333,
              "#9c179e"
             ],
             [
              0.4444444444444444,
              "#bd3786"
             ],
             [
              0.5555555555555556,
              "#d8576b"
             ],
             [
              0.6666666666666666,
              "#ed7953"
             ],
             [
              0.7777777777777778,
              "#fb9f3a"
             ],
             [
              0.8888888888888888,
              "#fdca26"
             ],
             [
              1,
              "#f0f921"
             ]
            ],
            "type": "contour"
           }
          ],
          "contourcarpet": [
           {
            "colorbar": {
             "outlinewidth": 0,
             "ticks": ""
            },
            "type": "contourcarpet"
           }
          ],
          "heatmap": [
           {
            "colorbar": {
             "outlinewidth": 0,
             "ticks": ""
            },
            "colorscale": [
             [
              0,
              "#0d0887"
             ],
             [
              0.1111111111111111,
              "#46039f"
             ],
             [
              0.2222222222222222,
              "#7201a8"
             ],
             [
              0.3333333333333333,
              "#9c179e"
             ],
             [
              0.4444444444444444,
              "#bd3786"
             ],
             [
              0.5555555555555556,
              "#d8576b"
             ],
             [
              0.6666666666666666,
              "#ed7953"
             ],
             [
              0.7777777777777778,
              "#fb9f3a"
             ],
             [
              0.8888888888888888,
              "#fdca26"
             ],
             [
              1,
              "#f0f921"
             ]
            ],
            "type": "heatmap"
           }
          ],
          "heatmapgl": [
           {
            "colorbar": {
             "outlinewidth": 0,
             "ticks": ""
            },
            "colorscale": [
             [
              0,
              "#0d0887"
             ],
             [
              0.1111111111111111,
              "#46039f"
             ],
             [
              0.2222222222222222,
              "#7201a8"
             ],
             [
              0.3333333333333333,
              "#9c179e"
             ],
             [
              0.4444444444444444,
              "#bd3786"
             ],
             [
              0.5555555555555556,
              "#d8576b"
             ],
             [
              0.6666666666666666,
              "#ed7953"
             ],
             [
              0.7777777777777778,
              "#fb9f3a"
             ],
             [
              0.8888888888888888,
              "#fdca26"
             ],
             [
              1,
              "#f0f921"
             ]
            ],
            "type": "heatmapgl"
           }
          ],
          "histogram": [
           {
            "marker": {
             "colorbar": {
              "outlinewidth": 0,
              "ticks": ""
             }
            },
            "type": "histogram"
           }
          ],
          "histogram2d": [
           {
            "colorbar": {
             "outlinewidth": 0,
             "ticks": ""
            },
            "colorscale": [
             [
              0,
              "#0d0887"
             ],
             [
              0.1111111111111111,
              "#46039f"
             ],
             [
              0.2222222222222222,
              "#7201a8"
             ],
             [
              0.3333333333333333,
              "#9c179e"
             ],
             [
              0.4444444444444444,
              "#bd3786"
             ],
             [
              0.5555555555555556,
              "#d8576b"
             ],
             [
              0.6666666666666666,
              "#ed7953"
             ],
             [
              0.7777777777777778,
              "#fb9f3a"
             ],
             [
              0.8888888888888888,
              "#fdca26"
             ],
             [
              1,
              "#f0f921"
             ]
            ],
            "type": "histogram2d"
           }
          ],
          "histogram2dcontour": [
           {
            "colorbar": {
             "outlinewidth": 0,
             "ticks": ""
            },
            "colorscale": [
             [
              0,
              "#0d0887"
             ],
             [
              0.1111111111111111,
              "#46039f"
             ],
             [
              0.2222222222222222,
              "#7201a8"
             ],
             [
              0.3333333333333333,
              "#9c179e"
             ],
             [
              0.4444444444444444,
              "#bd3786"
             ],
             [
              0.5555555555555556,
              "#d8576b"
             ],
             [
              0.6666666666666666,
              "#ed7953"
             ],
             [
              0.7777777777777778,
              "#fb9f3a"
             ],
             [
              0.8888888888888888,
              "#fdca26"
             ],
             [
              1,
              "#f0f921"
             ]
            ],
            "type": "histogram2dcontour"
           }
          ],
          "mesh3d": [
           {
            "colorbar": {
             "outlinewidth": 0,
             "ticks": ""
            },
            "type": "mesh3d"
           }
          ],
          "parcoords": [
           {
            "line": {
             "colorbar": {
              "outlinewidth": 0,
              "ticks": ""
             }
            },
            "type": "parcoords"
           }
          ],
          "pie": [
           {
            "automargin": true,
            "type": "pie"
           }
          ],
          "scatter": [
           {
            "marker": {
             "colorbar": {
              "outlinewidth": 0,
              "ticks": ""
             }
            },
            "type": "scatter"
           }
          ],
          "scatter3d": [
           {
            "line": {
             "colorbar": {
              "outlinewidth": 0,
              "ticks": ""
             }
            },
            "marker": {
             "colorbar": {
              "outlinewidth": 0,
              "ticks": ""
             }
            },
            "type": "scatter3d"
           }
          ],
          "scattercarpet": [
           {
            "marker": {
             "colorbar": {
              "outlinewidth": 0,
              "ticks": ""
             }
            },
            "type": "scattercarpet"
           }
          ],
          "scattergeo": [
           {
            "marker": {
             "colorbar": {
              "outlinewidth": 0,
              "ticks": ""
             }
            },
            "type": "scattergeo"
           }
          ],
          "scattergl": [
           {
            "marker": {
             "colorbar": {
              "outlinewidth": 0,
              "ticks": ""
             }
            },
            "type": "scattergl"
           }
          ],
          "scattermapbox": [
           {
            "marker": {
             "colorbar": {
              "outlinewidth": 0,
              "ticks": ""
             }
            },
            "type": "scattermapbox"
           }
          ],
          "scatterpolar": [
           {
            "marker": {
             "colorbar": {
              "outlinewidth": 0,
              "ticks": ""
             }
            },
            "type": "scatterpolar"
           }
          ],
          "scatterpolargl": [
           {
            "marker": {
             "colorbar": {
              "outlinewidth": 0,
              "ticks": ""
             }
            },
            "type": "scatterpolargl"
           }
          ],
          "scatterternary": [
           {
            "marker": {
             "colorbar": {
              "outlinewidth": 0,
              "ticks": ""
             }
            },
            "type": "scatterternary"
           }
          ],
          "surface": [
           {
            "colorbar": {
             "outlinewidth": 0,
             "ticks": ""
            },
            "colorscale": [
             [
              0,
              "#0d0887"
             ],
             [
              0.1111111111111111,
              "#46039f"
             ],
             [
              0.2222222222222222,
              "#7201a8"
             ],
             [
              0.3333333333333333,
              "#9c179e"
             ],
             [
              0.4444444444444444,
              "#bd3786"
             ],
             [
              0.5555555555555556,
              "#d8576b"
             ],
             [
              0.6666666666666666,
              "#ed7953"
             ],
             [
              0.7777777777777778,
              "#fb9f3a"
             ],
             [
              0.8888888888888888,
              "#fdca26"
             ],
             [
              1,
              "#f0f921"
             ]
            ],
            "type": "surface"
           }
          ],
          "table": [
           {
            "cells": {
             "fill": {
              "color": "#EBF0F8"
             },
             "line": {
              "color": "white"
             }
            },
            "header": {
             "fill": {
              "color": "#C8D4E3"
             },
             "line": {
              "color": "white"
             }
            },
            "type": "table"
           }
          ]
         },
         "layout": {
          "annotationdefaults": {
           "arrowcolor": "#2a3f5f",
           "arrowhead": 0,
           "arrowwidth": 1
          },
          "coloraxis": {
           "colorbar": {
            "outlinewidth": 0,
            "ticks": ""
           }
          },
          "colorscale": {
           "diverging": [
            [
             0,
             "#8e0152"
            ],
            [
             0.1,
             "#c51b7d"
            ],
            [
             0.2,
             "#de77ae"
            ],
            [
             0.3,
             "#f1b6da"
            ],
            [
             0.4,
             "#fde0ef"
            ],
            [
             0.5,
             "#f7f7f7"
            ],
            [
             0.6,
             "#e6f5d0"
            ],
            [
             0.7,
             "#b8e186"
            ],
            [
             0.8,
             "#7fbc41"
            ],
            [
             0.9,
             "#4d9221"
            ],
            [
             1,
             "#276419"
            ]
           ],
           "sequential": [
            [
             0,
             "#0d0887"
            ],
            [
             0.1111111111111111,
             "#46039f"
            ],
            [
             0.2222222222222222,
             "#7201a8"
            ],
            [
             0.3333333333333333,
             "#9c179e"
            ],
            [
             0.4444444444444444,
             "#bd3786"
            ],
            [
             0.5555555555555556,
             "#d8576b"
            ],
            [
             0.6666666666666666,
             "#ed7953"
            ],
            [
             0.7777777777777778,
             "#fb9f3a"
            ],
            [
             0.8888888888888888,
             "#fdca26"
            ],
            [
             1,
             "#f0f921"
            ]
           ],
           "sequentialminus": [
            [
             0,
             "#0d0887"
            ],
            [
             0.1111111111111111,
             "#46039f"
            ],
            [
             0.2222222222222222,
             "#7201a8"
            ],
            [
             0.3333333333333333,
             "#9c179e"
            ],
            [
             0.4444444444444444,
             "#bd3786"
            ],
            [
             0.5555555555555556,
             "#d8576b"
            ],
            [
             0.6666666666666666,
             "#ed7953"
            ],
            [
             0.7777777777777778,
             "#fb9f3a"
            ],
            [
             0.8888888888888888,
             "#fdca26"
            ],
            [
             1,
             "#f0f921"
            ]
           ]
          },
          "colorway": [
           "#636efa",
           "#EF553B",
           "#00cc96",
           "#ab63fa",
           "#FFA15A",
           "#19d3f3",
           "#FF6692",
           "#B6E880",
           "#FF97FF",
           "#FECB52"
          ],
          "font": {
           "color": "#2a3f5f"
          },
          "geo": {
           "bgcolor": "white",
           "lakecolor": "white",
           "landcolor": "#E5ECF6",
           "showlakes": true,
           "showland": true,
           "subunitcolor": "white"
          },
          "hoverlabel": {
           "align": "left"
          },
          "hovermode": "closest",
          "mapbox": {
           "style": "light"
          },
          "paper_bgcolor": "white",
          "plot_bgcolor": "#E5ECF6",
          "polar": {
           "angularaxis": {
            "gridcolor": "white",
            "linecolor": "white",
            "ticks": ""
           },
           "bgcolor": "#E5ECF6",
           "radialaxis": {
            "gridcolor": "white",
            "linecolor": "white",
            "ticks": ""
           }
          },
          "scene": {
           "xaxis": {
            "backgroundcolor": "#E5ECF6",
            "gridcolor": "white",
            "gridwidth": 2,
            "linecolor": "white",
            "showbackground": true,
            "ticks": "",
            "zerolinecolor": "white"
           },
           "yaxis": {
            "backgroundcolor": "#E5ECF6",
            "gridcolor": "white",
            "gridwidth": 2,
            "linecolor": "white",
            "showbackground": true,
            "ticks": "",
            "zerolinecolor": "white"
           },
           "zaxis": {
            "backgroundcolor": "#E5ECF6",
            "gridcolor": "white",
            "gridwidth": 2,
            "linecolor": "white",
            "showbackground": true,
            "ticks": "",
            "zerolinecolor": "white"
           }
          },
          "shapedefaults": {
           "line": {
            "color": "#2a3f5f"
           }
          },
          "ternary": {
           "aaxis": {
            "gridcolor": "white",
            "linecolor": "white",
            "ticks": ""
           },
           "baxis": {
            "gridcolor": "white",
            "linecolor": "white",
            "ticks": ""
           },
           "bgcolor": "#E5ECF6",
           "caxis": {
            "gridcolor": "white",
            "linecolor": "white",
            "ticks": ""
           }
          },
          "title": {
           "x": 0.05
          },
          "xaxis": {
           "automargin": true,
           "gridcolor": "white",
           "linecolor": "white",
           "ticks": "",
           "title": {
            "standoff": 15
           },
           "zerolinecolor": "white",
           "zerolinewidth": 2
          },
          "yaxis": {
           "automargin": true,
           "gridcolor": "white",
           "linecolor": "white",
           "ticks": "",
           "title": {
            "standoff": 15
           },
           "zerolinecolor": "white",
           "zerolinewidth": 2
          }
         }
        },
        "title": {
         "font": {
          "size": 24
         },
         "text": "Odvisnost leta ustanovitve od mesta na lestvici"
        },
        "xaxis": {
         "anchor": "y",
         "domain": [
          0,
          1
         ],
         "title": {
          "text": "Leto ustanovitve"
         }
        },
        "yaxis": {
         "anchor": "x",
         "domain": [
          0,
          1
         ],
         "title": {
          "text": "Mesto na lestvici"
         }
        }
       }
      }
     },
     "metadata": {}
    }
   ],
   "source": [
    "graf6 = px.scatter(podjetja, x=\"leto_ustanovitve\", y=\"mesto\")\n",
    "graf6.update_layout(\n",
    "    title = \"Odvisnost leta ustanovitve od mesta na lestvici\",\n",
    "    title_font = {'size':24}\n",
    ")\n",
    "graf6.update_yaxes(\n",
    "    title_text = \"Mesto na lestvici\"    \n",
    ")\n",
    "graf6.update_xaxes(\n",
    "    title_text = \"Leto ustanovitve\"\n",
    ")\n",
    "graf6.show()"
   ]
  }
 ],
 "metadata": {
  "kernelspec": {
   "display_name": "Python 3",
   "language": "python",
   "name": "python3"
  },
  "language_info": {
   "codemirror_mode": {
    "name": "ipython",
    "version": 3
   },
   "file_extension": ".py",
   "mimetype": "text/x-python",
   "name": "python",
   "nbconvert_exporter": "python",
   "pygments_lexer": "ipython3",
   "version": "3.7.2-final"
  }
 },
 "nbformat": 4,
 "nbformat_minor": 2
}